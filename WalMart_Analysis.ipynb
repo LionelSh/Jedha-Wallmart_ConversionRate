{
 "cells": [
  {
   "attachments": {},
   "cell_type": "markdown",
   "metadata": {},
   "source": [
    "# Import Libraries"
   ]
  },
  {
   "cell_type": "code",
   "execution_count": 139,
   "metadata": {},
   "outputs": [],
   "source": [
    "import pandas as pd\n",
    "import datetime\n",
    "\n",
    "from sklearn.model_selection import train_test_split\n",
    "from sklearn.pipeline import Pipeline\n",
    "from sklearn.impute import SimpleImputer\n",
    "from sklearn.preprocessing import  OneHotEncoder, StandardScaler\n",
    "from sklearn.compose import ColumnTransformer\n",
    "from sklearn.linear_model import LinearRegression, Ridge, Lasso \n",
    "from sklearn.model_selection import cross_val_score, GridSearchCV\n",
    "from sklearn.metrics import r2_score"
   ]
  },
  {
   "attachments": {},
   "cell_type": "markdown",
   "metadata": {},
   "source": [
    "# EDA"
   ]
  },
  {
   "cell_type": "code",
   "execution_count": 2,
   "metadata": {},
   "outputs": [],
   "source": [
    "# importing the data\n",
    "\n",
    "df = pd.read_csv(\"Walmart_Store_sales.csv\")"
   ]
  },
  {
   "cell_type": "code",
   "execution_count": 3,
   "metadata": {},
   "outputs": [
    {
     "data": {
      "text/html": [
       "<div>\n",
       "<style scoped>\n",
       "    .dataframe tbody tr th:only-of-type {\n",
       "        vertical-align: middle;\n",
       "    }\n",
       "\n",
       "    .dataframe tbody tr th {\n",
       "        vertical-align: top;\n",
       "    }\n",
       "\n",
       "    .dataframe thead th {\n",
       "        text-align: right;\n",
       "    }\n",
       "</style>\n",
       "<table border=\"1\" class=\"dataframe\">\n",
       "  <thead>\n",
       "    <tr style=\"text-align: right;\">\n",
       "      <th></th>\n",
       "      <th>Store</th>\n",
       "      <th>Date</th>\n",
       "      <th>Weekly_Sales</th>\n",
       "      <th>Holiday_Flag</th>\n",
       "      <th>Temperature</th>\n",
       "      <th>Fuel_Price</th>\n",
       "      <th>CPI</th>\n",
       "      <th>Unemployment</th>\n",
       "    </tr>\n",
       "  </thead>\n",
       "  <tbody>\n",
       "    <tr>\n",
       "      <th>0</th>\n",
       "      <td>6.0</td>\n",
       "      <td>18-02-2011</td>\n",
       "      <td>1572117.54</td>\n",
       "      <td>NaN</td>\n",
       "      <td>59.61</td>\n",
       "      <td>3.045</td>\n",
       "      <td>214.777523</td>\n",
       "      <td>6.858</td>\n",
       "    </tr>\n",
       "    <tr>\n",
       "      <th>1</th>\n",
       "      <td>13.0</td>\n",
       "      <td>25-03-2011</td>\n",
       "      <td>1807545.43</td>\n",
       "      <td>0.0</td>\n",
       "      <td>42.38</td>\n",
       "      <td>3.435</td>\n",
       "      <td>128.616064</td>\n",
       "      <td>7.470</td>\n",
       "    </tr>\n",
       "    <tr>\n",
       "      <th>2</th>\n",
       "      <td>17.0</td>\n",
       "      <td>27-07-2012</td>\n",
       "      <td>NaN</td>\n",
       "      <td>0.0</td>\n",
       "      <td>NaN</td>\n",
       "      <td>NaN</td>\n",
       "      <td>130.719581</td>\n",
       "      <td>5.936</td>\n",
       "    </tr>\n",
       "    <tr>\n",
       "      <th>3</th>\n",
       "      <td>11.0</td>\n",
       "      <td>NaN</td>\n",
       "      <td>1244390.03</td>\n",
       "      <td>0.0</td>\n",
       "      <td>84.57</td>\n",
       "      <td>NaN</td>\n",
       "      <td>214.556497</td>\n",
       "      <td>7.346</td>\n",
       "    </tr>\n",
       "    <tr>\n",
       "      <th>4</th>\n",
       "      <td>6.0</td>\n",
       "      <td>28-05-2010</td>\n",
       "      <td>1644470.66</td>\n",
       "      <td>0.0</td>\n",
       "      <td>78.89</td>\n",
       "      <td>2.759</td>\n",
       "      <td>212.412888</td>\n",
       "      <td>7.092</td>\n",
       "    </tr>\n",
       "    <tr>\n",
       "      <th>5</th>\n",
       "      <td>4.0</td>\n",
       "      <td>28-05-2010</td>\n",
       "      <td>1857533.70</td>\n",
       "      <td>0.0</td>\n",
       "      <td>NaN</td>\n",
       "      <td>2.756</td>\n",
       "      <td>126.160226</td>\n",
       "      <td>7.896</td>\n",
       "    </tr>\n",
       "    <tr>\n",
       "      <th>6</th>\n",
       "      <td>15.0</td>\n",
       "      <td>03-06-2011</td>\n",
       "      <td>695396.19</td>\n",
       "      <td>0.0</td>\n",
       "      <td>69.80</td>\n",
       "      <td>4.069</td>\n",
       "      <td>134.855161</td>\n",
       "      <td>7.658</td>\n",
       "    </tr>\n",
       "    <tr>\n",
       "      <th>7</th>\n",
       "      <td>20.0</td>\n",
       "      <td>03-02-2012</td>\n",
       "      <td>2203523.20</td>\n",
       "      <td>0.0</td>\n",
       "      <td>39.93</td>\n",
       "      <td>3.617</td>\n",
       "      <td>213.023622</td>\n",
       "      <td>6.961</td>\n",
       "    </tr>\n",
       "    <tr>\n",
       "      <th>8</th>\n",
       "      <td>14.0</td>\n",
       "      <td>10-12-2010</td>\n",
       "      <td>2600519.26</td>\n",
       "      <td>0.0</td>\n",
       "      <td>30.54</td>\n",
       "      <td>3.109</td>\n",
       "      <td>NaN</td>\n",
       "      <td>NaN</td>\n",
       "    </tr>\n",
       "    <tr>\n",
       "      <th>9</th>\n",
       "      <td>3.0</td>\n",
       "      <td>NaN</td>\n",
       "      <td>418925.47</td>\n",
       "      <td>0.0</td>\n",
       "      <td>60.12</td>\n",
       "      <td>3.555</td>\n",
       "      <td>224.132020</td>\n",
       "      <td>6.833</td>\n",
       "    </tr>\n",
       "    <tr>\n",
       "      <th>10</th>\n",
       "      <td>8.0</td>\n",
       "      <td>19-08-2011</td>\n",
       "      <td>895066.50</td>\n",
       "      <td>0.0</td>\n",
       "      <td>82.92</td>\n",
       "      <td>3.554</td>\n",
       "      <td>219.070197</td>\n",
       "      <td>6.425</td>\n",
       "    </tr>\n",
       "    <tr>\n",
       "      <th>11</th>\n",
       "      <td>18.0</td>\n",
       "      <td>15-10-2010</td>\n",
       "      <td>1029618.10</td>\n",
       "      <td>0.0</td>\n",
       "      <td>52.02</td>\n",
       "      <td>2.878</td>\n",
       "      <td>132.763355</td>\n",
       "      <td>9.331</td>\n",
       "    </tr>\n",
       "    <tr>\n",
       "      <th>12</th>\n",
       "      <td>7.0</td>\n",
       "      <td>13-05-2011</td>\n",
       "      <td>414094.05</td>\n",
       "      <td>0.0</td>\n",
       "      <td>36.61</td>\n",
       "      <td>3.767</td>\n",
       "      <td>192.826069</td>\n",
       "      <td>8.595</td>\n",
       "    </tr>\n",
       "    <tr>\n",
       "      <th>13</th>\n",
       "      <td>1.0</td>\n",
       "      <td>16-03-2012</td>\n",
       "      <td>1677472.78</td>\n",
       "      <td>0.0</td>\n",
       "      <td>64.74</td>\n",
       "      <td>3.734</td>\n",
       "      <td>221.211813</td>\n",
       "      <td>7.348</td>\n",
       "    </tr>\n",
       "    <tr>\n",
       "      <th>14</th>\n",
       "      <td>17.0</td>\n",
       "      <td>01-10-2010</td>\n",
       "      <td>829207.27</td>\n",
       "      <td>0.0</td>\n",
       "      <td>60.07</td>\n",
       "      <td>2.853</td>\n",
       "      <td>126.234600</td>\n",
       "      <td>6.885</td>\n",
       "    </tr>\n",
       "    <tr>\n",
       "      <th>15</th>\n",
       "      <td>6.0</td>\n",
       "      <td>30-04-2010</td>\n",
       "      <td>1498080.16</td>\n",
       "      <td>NaN</td>\n",
       "      <td>68.91</td>\n",
       "      <td>2.780</td>\n",
       "      <td>211.894272</td>\n",
       "      <td>7.092</td>\n",
       "    </tr>\n",
       "    <tr>\n",
       "      <th>16</th>\n",
       "      <td>13.0</td>\n",
       "      <td>20-08-2010</td>\n",
       "      <td>1997397.63</td>\n",
       "      <td>0.0</td>\n",
       "      <td>76.34</td>\n",
       "      <td>2.850</td>\n",
       "      <td>NaN</td>\n",
       "      <td>7.951</td>\n",
       "    </tr>\n",
       "    <tr>\n",
       "      <th>17</th>\n",
       "      <td>18.0</td>\n",
       "      <td>NaN</td>\n",
       "      <td>1205307.50</td>\n",
       "      <td>0.0</td>\n",
       "      <td>21.33</td>\n",
       "      <td>2.788</td>\n",
       "      <td>131.527903</td>\n",
       "      <td>9.202</td>\n",
       "    </tr>\n",
       "    <tr>\n",
       "      <th>18</th>\n",
       "      <td>2.0</td>\n",
       "      <td>16-12-2011</td>\n",
       "      <td>2432736.52</td>\n",
       "      <td>0.0</td>\n",
       "      <td>50.13</td>\n",
       "      <td>NaN</td>\n",
       "      <td>NaN</td>\n",
       "      <td>7.441</td>\n",
       "    </tr>\n",
       "    <tr>\n",
       "      <th>19</th>\n",
       "      <td>3.0</td>\n",
       "      <td>18-05-2012</td>\n",
       "      <td>NaN</td>\n",
       "      <td>0.0</td>\n",
       "      <td>72.38</td>\n",
       "      <td>3.630</td>\n",
       "      <td>225.251202</td>\n",
       "      <td>6.664</td>\n",
       "    </tr>\n",
       "  </tbody>\n",
       "</table>\n",
       "</div>"
      ],
      "text/plain": [
       "    Store        Date  Weekly_Sales  Holiday_Flag  Temperature  Fuel_Price   \n",
       "0     6.0  18-02-2011    1572117.54           NaN        59.61       3.045  \\\n",
       "1    13.0  25-03-2011    1807545.43           0.0        42.38       3.435   \n",
       "2    17.0  27-07-2012           NaN           0.0          NaN         NaN   \n",
       "3    11.0         NaN    1244390.03           0.0        84.57         NaN   \n",
       "4     6.0  28-05-2010    1644470.66           0.0        78.89       2.759   \n",
       "5     4.0  28-05-2010    1857533.70           0.0          NaN       2.756   \n",
       "6    15.0  03-06-2011     695396.19           0.0        69.80       4.069   \n",
       "7    20.0  03-02-2012    2203523.20           0.0        39.93       3.617   \n",
       "8    14.0  10-12-2010    2600519.26           0.0        30.54       3.109   \n",
       "9     3.0         NaN     418925.47           0.0        60.12       3.555   \n",
       "10    8.0  19-08-2011     895066.50           0.0        82.92       3.554   \n",
       "11   18.0  15-10-2010    1029618.10           0.0        52.02       2.878   \n",
       "12    7.0  13-05-2011     414094.05           0.0        36.61       3.767   \n",
       "13    1.0  16-03-2012    1677472.78           0.0        64.74       3.734   \n",
       "14   17.0  01-10-2010     829207.27           0.0        60.07       2.853   \n",
       "15    6.0  30-04-2010    1498080.16           NaN        68.91       2.780   \n",
       "16   13.0  20-08-2010    1997397.63           0.0        76.34       2.850   \n",
       "17   18.0         NaN    1205307.50           0.0        21.33       2.788   \n",
       "18    2.0  16-12-2011    2432736.52           0.0        50.13         NaN   \n",
       "19    3.0  18-05-2012           NaN           0.0        72.38       3.630   \n",
       "\n",
       "           CPI  Unemployment  \n",
       "0   214.777523         6.858  \n",
       "1   128.616064         7.470  \n",
       "2   130.719581         5.936  \n",
       "3   214.556497         7.346  \n",
       "4   212.412888         7.092  \n",
       "5   126.160226         7.896  \n",
       "6   134.855161         7.658  \n",
       "7   213.023622         6.961  \n",
       "8          NaN           NaN  \n",
       "9   224.132020         6.833  \n",
       "10  219.070197         6.425  \n",
       "11  132.763355         9.331  \n",
       "12  192.826069         8.595  \n",
       "13  221.211813         7.348  \n",
       "14  126.234600         6.885  \n",
       "15  211.894272         7.092  \n",
       "16         NaN         7.951  \n",
       "17  131.527903         9.202  \n",
       "18         NaN         7.441  \n",
       "19  225.251202         6.664  "
      ]
     },
     "execution_count": 3,
     "metadata": {},
     "output_type": "execute_result"
    }
   ],
   "source": [
    "# How does the data look like\n",
    "df.head(20)"
   ]
  },
  {
   "cell_type": "code",
   "execution_count": 4,
   "metadata": {},
   "outputs": [
    {
     "data": {
      "text/html": [
       "<div>\n",
       "<style scoped>\n",
       "    .dataframe tbody tr th:only-of-type {\n",
       "        vertical-align: middle;\n",
       "    }\n",
       "\n",
       "    .dataframe tbody tr th {\n",
       "        vertical-align: top;\n",
       "    }\n",
       "\n",
       "    .dataframe thead th {\n",
       "        text-align: right;\n",
       "    }\n",
       "</style>\n",
       "<table border=\"1\" class=\"dataframe\">\n",
       "  <thead>\n",
       "    <tr style=\"text-align: right;\">\n",
       "      <th></th>\n",
       "      <th>Store</th>\n",
       "      <th>Date</th>\n",
       "      <th>Weekly_Sales</th>\n",
       "      <th>Holiday_Flag</th>\n",
       "      <th>Temperature</th>\n",
       "      <th>Fuel_Price</th>\n",
       "      <th>CPI</th>\n",
       "      <th>Unemployment</th>\n",
       "    </tr>\n",
       "  </thead>\n",
       "  <tbody>\n",
       "    <tr>\n",
       "      <th>count</th>\n",
       "      <td>150.000000</td>\n",
       "      <td>132</td>\n",
       "      <td>1.360000e+02</td>\n",
       "      <td>138.000000</td>\n",
       "      <td>132.000000</td>\n",
       "      <td>136.000000</td>\n",
       "      <td>138.000000</td>\n",
       "      <td>135.000000</td>\n",
       "    </tr>\n",
       "    <tr>\n",
       "      <th>unique</th>\n",
       "      <td>NaN</td>\n",
       "      <td>85</td>\n",
       "      <td>NaN</td>\n",
       "      <td>NaN</td>\n",
       "      <td>NaN</td>\n",
       "      <td>NaN</td>\n",
       "      <td>NaN</td>\n",
       "      <td>NaN</td>\n",
       "    </tr>\n",
       "    <tr>\n",
       "      <th>top</th>\n",
       "      <td>NaN</td>\n",
       "      <td>19-10-2012</td>\n",
       "      <td>NaN</td>\n",
       "      <td>NaN</td>\n",
       "      <td>NaN</td>\n",
       "      <td>NaN</td>\n",
       "      <td>NaN</td>\n",
       "      <td>NaN</td>\n",
       "    </tr>\n",
       "    <tr>\n",
       "      <th>freq</th>\n",
       "      <td>NaN</td>\n",
       "      <td>4</td>\n",
       "      <td>NaN</td>\n",
       "      <td>NaN</td>\n",
       "      <td>NaN</td>\n",
       "      <td>NaN</td>\n",
       "      <td>NaN</td>\n",
       "      <td>NaN</td>\n",
       "    </tr>\n",
       "    <tr>\n",
       "      <th>mean</th>\n",
       "      <td>9.866667</td>\n",
       "      <td>NaN</td>\n",
       "      <td>1.249536e+06</td>\n",
       "      <td>0.079710</td>\n",
       "      <td>61.398106</td>\n",
       "      <td>3.320853</td>\n",
       "      <td>179.898509</td>\n",
       "      <td>7.598430</td>\n",
       "    </tr>\n",
       "    <tr>\n",
       "      <th>std</th>\n",
       "      <td>6.231191</td>\n",
       "      <td>NaN</td>\n",
       "      <td>6.474630e+05</td>\n",
       "      <td>0.271831</td>\n",
       "      <td>18.378901</td>\n",
       "      <td>0.478149</td>\n",
       "      <td>40.274956</td>\n",
       "      <td>1.577173</td>\n",
       "    </tr>\n",
       "    <tr>\n",
       "      <th>min</th>\n",
       "      <td>1.000000</td>\n",
       "      <td>NaN</td>\n",
       "      <td>2.689290e+05</td>\n",
       "      <td>0.000000</td>\n",
       "      <td>18.790000</td>\n",
       "      <td>2.514000</td>\n",
       "      <td>126.111903</td>\n",
       "      <td>5.143000</td>\n",
       "    </tr>\n",
       "    <tr>\n",
       "      <th>25%</th>\n",
       "      <td>4.000000</td>\n",
       "      <td>NaN</td>\n",
       "      <td>6.050757e+05</td>\n",
       "      <td>0.000000</td>\n",
       "      <td>45.587500</td>\n",
       "      <td>2.852250</td>\n",
       "      <td>131.970831</td>\n",
       "      <td>6.597500</td>\n",
       "    </tr>\n",
       "    <tr>\n",
       "      <th>50%</th>\n",
       "      <td>9.000000</td>\n",
       "      <td>NaN</td>\n",
       "      <td>1.261424e+06</td>\n",
       "      <td>0.000000</td>\n",
       "      <td>62.985000</td>\n",
       "      <td>3.451000</td>\n",
       "      <td>197.908893</td>\n",
       "      <td>7.470000</td>\n",
       "    </tr>\n",
       "    <tr>\n",
       "      <th>75%</th>\n",
       "      <td>15.750000</td>\n",
       "      <td>NaN</td>\n",
       "      <td>1.806386e+06</td>\n",
       "      <td>0.000000</td>\n",
       "      <td>76.345000</td>\n",
       "      <td>3.706250</td>\n",
       "      <td>214.934616</td>\n",
       "      <td>8.150000</td>\n",
       "    </tr>\n",
       "    <tr>\n",
       "      <th>max</th>\n",
       "      <td>20.000000</td>\n",
       "      <td>NaN</td>\n",
       "      <td>2.771397e+06</td>\n",
       "      <td>1.000000</td>\n",
       "      <td>91.650000</td>\n",
       "      <td>4.193000</td>\n",
       "      <td>226.968844</td>\n",
       "      <td>14.313000</td>\n",
       "    </tr>\n",
       "  </tbody>\n",
       "</table>\n",
       "</div>"
      ],
      "text/plain": [
       "             Store        Date  Weekly_Sales  Holiday_Flag  Temperature   \n",
       "count   150.000000         132  1.360000e+02    138.000000   132.000000  \\\n",
       "unique         NaN          85           NaN           NaN          NaN   \n",
       "top            NaN  19-10-2012           NaN           NaN          NaN   \n",
       "freq           NaN           4           NaN           NaN          NaN   \n",
       "mean      9.866667         NaN  1.249536e+06      0.079710    61.398106   \n",
       "std       6.231191         NaN  6.474630e+05      0.271831    18.378901   \n",
       "min       1.000000         NaN  2.689290e+05      0.000000    18.790000   \n",
       "25%       4.000000         NaN  6.050757e+05      0.000000    45.587500   \n",
       "50%       9.000000         NaN  1.261424e+06      0.000000    62.985000   \n",
       "75%      15.750000         NaN  1.806386e+06      0.000000    76.345000   \n",
       "max      20.000000         NaN  2.771397e+06      1.000000    91.650000   \n",
       "\n",
       "        Fuel_Price         CPI  Unemployment  \n",
       "count   136.000000  138.000000    135.000000  \n",
       "unique         NaN         NaN           NaN  \n",
       "top            NaN         NaN           NaN  \n",
       "freq           NaN         NaN           NaN  \n",
       "mean      3.320853  179.898509      7.598430  \n",
       "std       0.478149   40.274956      1.577173  \n",
       "min       2.514000  126.111903      5.143000  \n",
       "25%       2.852250  131.970831      6.597500  \n",
       "50%       3.451000  197.908893      7.470000  \n",
       "75%       3.706250  214.934616      8.150000  \n",
       "max       4.193000  226.968844     14.313000  "
      ]
     },
     "execution_count": 4,
     "metadata": {},
     "output_type": "execute_result"
    }
   ],
   "source": [
    "df.describe(include='all')"
   ]
  },
  {
   "attachments": {},
   "cell_type": "markdown",
   "metadata": {},
   "source": [
    "We can observe from the talble above that there are missing values due to the difference in counts, and there seem to be abnormal temperature values. Let's explore more "
   ]
  },
  {
   "cell_type": "code",
   "execution_count": 5,
   "metadata": {},
   "outputs": [
    {
     "data": {
      "text/plain": [
       "Index(['Store', 'Date', 'Weekly_Sales', 'Holiday_Flag', 'Temperature',\n",
       "       'Fuel_Price', 'CPI', 'Unemployment'],\n",
       "      dtype='object')"
      ]
     },
     "execution_count": 5,
     "metadata": {},
     "output_type": "execute_result"
    }
   ],
   "source": [
    "df.columns"
   ]
  },
  {
   "cell_type": "code",
   "execution_count": 6,
   "metadata": {},
   "outputs": [
    {
     "data": {
      "text/plain": [
       "Store           float64\n",
       "Date             object\n",
       "Weekly_Sales    float64\n",
       "Holiday_Flag    float64\n",
       "Temperature     float64\n",
       "Fuel_Price      float64\n",
       "CPI             float64\n",
       "Unemployment    float64\n",
       "dtype: object"
      ]
     },
     "execution_count": 6,
     "metadata": {},
     "output_type": "execute_result"
    }
   ],
   "source": [
    "df.dtypes"
   ]
  },
  {
   "cell_type": "code",
   "execution_count": 7,
   "metadata": {},
   "outputs": [
    {
     "data": {
      "text/plain": [
       "Store\n",
       "3.0     15\n",
       "1.0     11\n",
       "18.0    10\n",
       "19.0     9\n",
       "5.0      9\n",
       "14.0     9\n",
       "13.0     9\n",
       "7.0      8\n",
       "17.0     8\n",
       "2.0      8\n",
       "8.0      8\n",
       "6.0      7\n",
       "20.0     7\n",
       "4.0      7\n",
       "12.0     5\n",
       "10.0     5\n",
       "15.0     4\n",
       "16.0     4\n",
       "9.0      4\n",
       "11.0     3\n",
       "Name: count, dtype: int64"
      ]
     },
     "execution_count": 7,
     "metadata": {},
     "output_type": "execute_result"
    }
   ],
   "source": [
    "# exploring the values of the store column\n",
    "\n",
    "df['Store'].value_counts()"
   ]
  },
  {
   "attachments": {},
   "cell_type": "markdown",
   "metadata": {},
   "source": [
    "we can observe that not all branches are reported evenly with the same frequency, like for instance branch no. 11 was has only three values of weekly sales where as store(3) 15 times "
   ]
  },
  {
   "cell_type": "code",
   "execution_count": 136,
   "metadata": {},
   "outputs": [
    {
     "name": "stdout",
     "output_type": "stream",
     "text": [
      " there are 20 stores \n"
     ]
    }
   ],
   "source": [
    "# number of stores\n",
    "\n",
    "print(f\" there are {len(df['Store'].unique())} stores \")"
   ]
  },
  {
   "cell_type": "code",
   "execution_count": 9,
   "metadata": {},
   "outputs": [
    {
     "data": {
      "text/plain": [
       "array(['01-06-2012', '01-10-2010', '02-03-2012', '02-04-2010',\n",
       "       '02-07-2010', '03-02-2012', '03-06-2011', '03-09-2010',\n",
       "       '04-05-2012', '04-06-2010', '05-02-2010', '05-08-2011',\n",
       "       '06-01-2012', '06-05-2011', '06-07-2012', '06-08-2010',\n",
       "       '07-01-2011', '07-09-2012', '07-10-2011', '08-07-2011',\n",
       "       '09-07-2010', '09-12-2011', '10-02-2012', '10-06-2011',\n",
       "       '10-09-2010', '10-12-2010', '11-05-2012', '11-06-2010',\n",
       "       '11-11-2011', '12-02-2010', '12-03-2010', '12-08-2011',\n",
       "       '12-10-2012', '12-11-2010', '13-01-2012', '13-04-2012',\n",
       "       '13-05-2011', '14-05-2010', '14-09-2012', '15-04-2011',\n",
       "       '15-07-2011', '15-10-2010', '16-03-2012', '16-04-2010',\n",
       "       '16-12-2011', '17-02-2012', '17-09-2010', '17-12-2010',\n",
       "       '18-02-2011', '18-05-2012', '18-06-2010', '18-11-2011',\n",
       "       '19-02-2010', '19-08-2011', '19-10-2012', '19-11-2010',\n",
       "       '20-01-2012', '20-04-2012', '20-05-2011', '20-08-2010',\n",
       "       '22-04-2011', '22-06-2012', '22-07-2011', '23-09-2011',\n",
       "       '24-02-2012', '24-06-2011', '24-09-2010', '25-03-2011',\n",
       "       '25-05-2012', '25-06-2010', '26-02-2010', '26-03-2010',\n",
       "       '26-08-2011', '26-11-2010', '27-04-2012', '27-05-2011',\n",
       "       '27-07-2012', '27-08-2010', '28-05-2010', '29-07-2011',\n",
       "       '30-03-2012', '30-04-2010', '30-07-2010', '30-12-2011',\n",
       "       '31-12-2010', nan], dtype=object)"
      ]
     },
     "execution_count": 9,
     "metadata": {},
     "output_type": "execute_result"
    }
   ],
   "source": [
    "# examening the dates\n",
    "df['Date'].sort_values().unique()"
   ]
  },
  {
   "cell_type": "code",
   "execution_count": 10,
   "metadata": {},
   "outputs": [
    {
     "data": {
      "text/plain": [
       "0      214.777523\n",
       "1      128.616064\n",
       "2      130.719581\n",
       "3      214.556497\n",
       "4      212.412888\n",
       "          ...    \n",
       "145    182.442420\n",
       "146           NaN\n",
       "147    126.111903\n",
       "148    219.007525\n",
       "149    137.923067\n",
       "Name: CPI, Length: 150, dtype: float64"
      ]
     },
     "execution_count": 10,
     "metadata": {},
     "output_type": "execute_result"
    }
   ],
   "source": [
    "df['CPI']"
   ]
  },
  {
   "cell_type": "code",
   "execution_count": 11,
   "metadata": {},
   "outputs": [
    {
     "name": "stderr",
     "output_type": "stream",
     "text": [
      "C:\\Users\\Lionel\\AppData\\Local\\Temp\\ipykernel_23656\\2394721818.py:1: UserWarning: Parsing dates in %d-%m-%Y format when dayfirst=False (the default) was specified. Pass `dayfirst=True` or specify a format to silence this warning.\n",
      "  df['Date'] = pd.to_datetime(df['Date'])\n"
     ]
    }
   ],
   "source": [
    "# transofrming the date column from string to date\n",
    "df['Date'] = pd.to_datetime(df['Date'])\n",
    "\n",
    "# we will receive a warning of the format of the date since we did not choose one, no worries"
   ]
  },
  {
   "cell_type": "code",
   "execution_count": 137,
   "metadata": {},
   "outputs": [
    {
     "data": {
      "text/plain": [
       "<DatetimeArray>\n",
       "['2010-02-05 00:00:00', '2010-02-12 00:00:00', '2010-02-19 00:00:00',\n",
       " '2010-02-26 00:00:00', '2010-03-12 00:00:00', '2010-03-26 00:00:00',\n",
       " '2010-04-02 00:00:00', '2010-04-16 00:00:00', '2010-04-30 00:00:00',\n",
       " '2010-05-14 00:00:00', '2010-05-28 00:00:00', '2010-06-04 00:00:00',\n",
       " '2010-06-11 00:00:00', '2010-06-18 00:00:00', '2010-06-25 00:00:00',\n",
       " '2010-07-02 00:00:00', '2010-07-09 00:00:00', '2010-07-30 00:00:00',\n",
       " '2010-08-06 00:00:00', '2010-08-20 00:00:00', '2010-08-27 00:00:00',\n",
       " '2010-09-10 00:00:00', '2010-09-17 00:00:00', '2010-09-24 00:00:00',\n",
       " '2010-10-01 00:00:00', '2010-10-15 00:00:00', '2010-11-12 00:00:00',\n",
       " '2010-11-19 00:00:00', '2010-11-26 00:00:00', '2010-12-10 00:00:00',\n",
       " '2010-12-17 00:00:00', '2010-12-31 00:00:00', '2011-01-07 00:00:00',\n",
       " '2011-02-18 00:00:00', '2011-03-25 00:00:00', '2011-04-15 00:00:00',\n",
       " '2011-04-22 00:00:00', '2011-05-06 00:00:00', '2011-05-13 00:00:00',\n",
       " '2011-05-20 00:00:00', '2011-05-27 00:00:00', '2011-06-03 00:00:00',\n",
       " '2011-06-10 00:00:00', '2011-06-24 00:00:00', '2011-07-08 00:00:00',\n",
       " '2011-07-15 00:00:00', '2011-07-22 00:00:00', '2011-07-29 00:00:00',\n",
       " '2011-08-05 00:00:00', '2011-08-12 00:00:00', '2011-08-19 00:00:00',\n",
       " '2011-08-26 00:00:00', '2011-09-23 00:00:00', '2011-10-07 00:00:00',\n",
       " '2011-11-11 00:00:00', '2011-11-18 00:00:00', '2011-12-16 00:00:00',\n",
       " '2012-01-06 00:00:00', '2012-01-13 00:00:00', '2012-01-20 00:00:00',\n",
       " '2012-02-03 00:00:00', '2012-02-10 00:00:00', '2012-02-17 00:00:00',\n",
       " '2012-02-24 00:00:00', '2012-03-02 00:00:00', '2012-03-16 00:00:00',\n",
       " '2012-03-30 00:00:00', '2012-04-20 00:00:00', '2012-04-27 00:00:00',\n",
       " '2012-05-04 00:00:00', '2012-05-11 00:00:00', '2012-05-25 00:00:00',\n",
       " '2012-06-01 00:00:00', '2012-06-22 00:00:00', '2012-07-06 00:00:00',\n",
       " '2012-09-07 00:00:00', '2012-09-14 00:00:00', '2012-10-12 00:00:00',\n",
       " '2012-10-19 00:00:00',                 'NaT']\n",
       "Length: 80, dtype: datetime64[ns]"
      ]
     },
     "execution_count": 137,
     "metadata": {},
     "output_type": "execute_result"
    }
   ],
   "source": [
    "df['Date'].sort_values().unique()"
   ]
  },
  {
   "attachments": {},
   "cell_type": "markdown",
   "metadata": {},
   "source": [
    "observation : we would expect to have 4 weekly reports in a month. Unfortunatley this is not always the case in our dataset, like in 2011 we had only one report in January i.e on record "
   ]
  },
  {
   "cell_type": "code",
   "execution_count": 12,
   "metadata": {},
   "outputs": [
    {
     "data": {
      "text/plain": [
       "Store                  float64\n",
       "Date            datetime64[ns]\n",
       "Weekly_Sales           float64\n",
       "Holiday_Flag           float64\n",
       "Temperature            float64\n",
       "Fuel_Price             float64\n",
       "CPI                    float64\n",
       "Unemployment           float64\n",
       "dtype: object"
      ]
     },
     "execution_count": 12,
     "metadata": {},
     "output_type": "execute_result"
    }
   ],
   "source": [
    "df.dtypes"
   ]
  },
  {
   "attachments": {},
   "cell_type": "markdown",
   "metadata": {},
   "source": [
    "# B) Preprocessing"
   ]
  },
  {
   "attachments": {},
   "cell_type": "markdown",
   "metadata": {},
   "source": [
    "Start by checking the percentage of empty fields in the data set"
   ]
  },
  {
   "cell_type": "code",
   "execution_count": 162,
   "metadata": {},
   "outputs": [
    {
     "data": {
      "text/plain": [
       "Store            0.000000\n",
       "Date            12.000000\n",
       "Weekly_Sales     9.333333\n",
       "Holiday_Flag     8.000000\n",
       "Temperature     12.000000\n",
       "Fuel_Price       9.333333\n",
       "CPI              8.000000\n",
       "Unemployment    10.000000\n",
       "dtype: float64"
      ]
     },
     "execution_count": 162,
     "metadata": {},
     "output_type": "execute_result"
    }
   ],
   "source": [
    "df.isnull().sum()/df.shape[0]*100"
   ]
  },
  {
   "attachments": {},
   "cell_type": "markdown",
   "metadata": {},
   "source": [
    "we can notice the following:\n",
    "1. There's a 9% of empty targets 'weekly sales', these rows will be deleted as it would be meaningless not to have a target value.How will the model do its work?\n",
    "2. The temperature , the CPI and the unemplyment rate missing values could be filled with the average \"mean value\" or median while preprocessing.\n",
    "3. As for the \"holiday\" flag 9% is a considerable amount however, if we discard them this might affect the data set especially that it has a limited number of rows consequnetly we will replace it with the most frequent occurence\n",
    "4. As for the \"Date\" column, 12% is really a huge number consequently it is preffered to be dropped, or let's check the percentage after deleting the empty targets"
   ]
  },
  {
   "attachments": {},
   "cell_type": "markdown",
   "metadata": {},
   "source": [
    "### B.1) Removing empty targets \n",
    "It would be meaningless to have empty targets, so we will delete the rows that don't have target results"
   ]
  },
  {
   "cell_type": "code",
   "execution_count": 138,
   "metadata": {},
   "outputs": [
    {
     "name": "stdout",
     "output_type": "stream",
     "text": [
      "The current no of rows is 136\n",
      "The number of rows with empty targets is 0 \n"
     ]
    }
   ],
   "source": [
    "print(f'The current no of rows is {df.shape[0]}')\n",
    "print(f'The number of rows with empty targets is {df[\"Weekly_Sales\"].isnull().sum()} ')\n"
   ]
  },
  {
   "cell_type": "code",
   "execution_count": 14,
   "metadata": {},
   "outputs": [
    {
     "name": "stdout",
     "output_type": "stream",
     "text": [
      "data set reduced to 136\n"
     ]
    }
   ],
   "source": [
    "mask = df['Weekly_Sales'].notna()\n",
    "df = df.loc[mask,:]\n",
    "print(f\"data set reduced to {df.shape[0]}\")"
   ]
  },
  {
   "attachments": {},
   "cell_type": "markdown",
   "metadata": {},
   "source": [
    "### B.2) Preprocessing the features"
   ]
  },
  {
   "cell_type": "code",
   "execution_count": 15,
   "metadata": {},
   "outputs": [
    {
     "data": {
      "text/plain": [
       "Store            0.000000\n",
       "Date            13.235294\n",
       "Weekly_Sales     0.000000\n",
       "Holiday_Flag     8.088235\n",
       "Temperature     11.029412\n",
       "Fuel_Price       8.823529\n",
       "CPI              8.088235\n",
       "Unemployment    10.294118\n",
       "dtype: float64"
      ]
     },
     "execution_count": 15,
     "metadata": {},
     "output_type": "execute_result"
    }
   ],
   "source": [
    "# Let's check the new status\n",
    "df.isnull().sum()/df.shape[0]*100"
   ]
  },
  {
   "attachments": {},
   "cell_type": "markdown",
   "metadata": {},
   "source": [
    "In my opinion 13% of missing values is really too much, on the other hand we cannot simply implement the impute because it is a date. Consequently it would be wise to drop it from datascience point of view because we have a small dataset. \n",
    "Although i personaly believe that it plays a role in estimating the weekly sales"
   ]
  },
  {
   "cell_type": "code",
   "execution_count": 16,
   "metadata": {},
   "outputs": [
    {
     "data": {
      "text/html": [
       "<div>\n",
       "<style scoped>\n",
       "    .dataframe tbody tr th:only-of-type {\n",
       "        vertical-align: middle;\n",
       "    }\n",
       "\n",
       "    .dataframe tbody tr th {\n",
       "        vertical-align: top;\n",
       "    }\n",
       "\n",
       "    .dataframe thead th {\n",
       "        text-align: right;\n",
       "    }\n",
       "</style>\n",
       "<table border=\"1\" class=\"dataframe\">\n",
       "  <thead>\n",
       "    <tr style=\"text-align: right;\">\n",
       "      <th></th>\n",
       "      <th>Store</th>\n",
       "      <th>Date</th>\n",
       "      <th>Weekly_Sales</th>\n",
       "      <th>Holiday_Flag</th>\n",
       "      <th>Temperature</th>\n",
       "      <th>Fuel_Price</th>\n",
       "      <th>CPI</th>\n",
       "      <th>Unemployment</th>\n",
       "    </tr>\n",
       "  </thead>\n",
       "  <tbody>\n",
       "    <tr>\n",
       "      <th>count</th>\n",
       "      <td>136.000000</td>\n",
       "      <td>118</td>\n",
       "      <td>1.360000e+02</td>\n",
       "      <td>125.000000</td>\n",
       "      <td>121.000000</td>\n",
       "      <td>124.000000</td>\n",
       "      <td>125.000000</td>\n",
       "      <td>122.000000</td>\n",
       "    </tr>\n",
       "    <tr>\n",
       "      <th>mean</th>\n",
       "      <td>10.014706</td>\n",
       "      <td>2011-04-23 04:28:28.474576384</td>\n",
       "      <td>1.249536e+06</td>\n",
       "      <td>0.072000</td>\n",
       "      <td>60.853967</td>\n",
       "      <td>3.316992</td>\n",
       "      <td>178.091144</td>\n",
       "      <td>7.665582</td>\n",
       "    </tr>\n",
       "    <tr>\n",
       "      <th>min</th>\n",
       "      <td>1.000000</td>\n",
       "      <td>2010-02-05 00:00:00</td>\n",
       "      <td>2.689290e+05</td>\n",
       "      <td>0.000000</td>\n",
       "      <td>18.790000</td>\n",
       "      <td>2.514000</td>\n",
       "      <td>126.111903</td>\n",
       "      <td>5.143000</td>\n",
       "    </tr>\n",
       "    <tr>\n",
       "      <th>25%</th>\n",
       "      <td>4.000000</td>\n",
       "      <td>2010-07-30 00:00:00</td>\n",
       "      <td>6.050757e+05</td>\n",
       "      <td>0.000000</td>\n",
       "      <td>45.220000</td>\n",
       "      <td>2.838500</td>\n",
       "      <td>131.637000</td>\n",
       "      <td>6.690000</td>\n",
       "    </tr>\n",
       "    <tr>\n",
       "      <th>50%</th>\n",
       "      <td>10.000000</td>\n",
       "      <td>2011-04-29 00:00:00</td>\n",
       "      <td>1.261424e+06</td>\n",
       "      <td>0.000000</td>\n",
       "      <td>62.250000</td>\n",
       "      <td>3.451000</td>\n",
       "      <td>196.919506</td>\n",
       "      <td>7.477000</td>\n",
       "    </tr>\n",
       "    <tr>\n",
       "      <th>75%</th>\n",
       "      <td>15.250000</td>\n",
       "      <td>2011-12-31 18:00:00</td>\n",
       "      <td>1.806386e+06</td>\n",
       "      <td>0.000000</td>\n",
       "      <td>75.950000</td>\n",
       "      <td>3.724000</td>\n",
       "      <td>214.878556</td>\n",
       "      <td>8.150000</td>\n",
       "    </tr>\n",
       "    <tr>\n",
       "      <th>max</th>\n",
       "      <td>20.000000</td>\n",
       "      <td>2012-10-19 00:00:00</td>\n",
       "      <td>2.771397e+06</td>\n",
       "      <td>1.000000</td>\n",
       "      <td>91.650000</td>\n",
       "      <td>4.193000</td>\n",
       "      <td>226.968844</td>\n",
       "      <td>14.313000</td>\n",
       "    </tr>\n",
       "    <tr>\n",
       "      <th>std</th>\n",
       "      <td>6.124614</td>\n",
       "      <td>NaN</td>\n",
       "      <td>6.474630e+05</td>\n",
       "      <td>0.259528</td>\n",
       "      <td>18.514432</td>\n",
       "      <td>0.479540</td>\n",
       "      <td>40.243105</td>\n",
       "      <td>1.619428</td>\n",
       "    </tr>\n",
       "  </tbody>\n",
       "</table>\n",
       "</div>"
      ],
      "text/plain": [
       "            Store                           Date  Weekly_Sales  Holiday_Flag   \n",
       "count  136.000000                            118  1.360000e+02    125.000000  \\\n",
       "mean    10.014706  2011-04-23 04:28:28.474576384  1.249536e+06      0.072000   \n",
       "min      1.000000            2010-02-05 00:00:00  2.689290e+05      0.000000   \n",
       "25%      4.000000            2010-07-30 00:00:00  6.050757e+05      0.000000   \n",
       "50%     10.000000            2011-04-29 00:00:00  1.261424e+06      0.000000   \n",
       "75%     15.250000            2011-12-31 18:00:00  1.806386e+06      0.000000   \n",
       "max     20.000000            2012-10-19 00:00:00  2.771397e+06      1.000000   \n",
       "std      6.124614                            NaN  6.474630e+05      0.259528   \n",
       "\n",
       "       Temperature  Fuel_Price         CPI  Unemployment  \n",
       "count   121.000000  124.000000  125.000000    122.000000  \n",
       "mean     60.853967    3.316992  178.091144      7.665582  \n",
       "min      18.790000    2.514000  126.111903      5.143000  \n",
       "25%      45.220000    2.838500  131.637000      6.690000  \n",
       "50%      62.250000    3.451000  196.919506      7.477000  \n",
       "75%      75.950000    3.724000  214.878556      8.150000  \n",
       "max      91.650000    4.193000  226.968844     14.313000  \n",
       "std      18.514432    0.479540   40.243105      1.619428  "
      ]
     },
     "execution_count": 16,
     "metadata": {},
     "output_type": "execute_result"
    }
   ],
   "source": [
    "df.describe()"
   ]
  },
  {
   "attachments": {},
   "cell_type": "markdown",
   "metadata": {},
   "source": [
    "### B.3) removing the outliers"
   ]
  },
  {
   "attachments": {},
   "cell_type": "markdown",
   "metadata": {},
   "source": [
    "**IMPORTANT NOTE(1)**\n",
    "if we implement our masks directly to filter the outliers we will find out that all the rows containing 'na' would be filtered out for each column , causing a huge reduction in the number of rows for the dataset.\n",
    "\n",
    "Consequently it would be wise if we replace the 'na' with the mean of each column as if we are playing the role of the imputer in advance. But wait.... this might chnage the values of the 'mean' and the 'std' too which we ocunt on them to exclude the outliers\n",
    "\n",
    "this is only for the columns on which we will implement the outliers filtering which are Temperature, Fuel_Price, CPI and unemployment except the holidays"
   ]
  },
  {
   "attachments": {},
   "cell_type": "markdown",
   "metadata": {},
   "source": [
    "**IMPORTANT NOTE(2)** each time we implement a mask on a column we will result in a differnet number of rows which affects the mean and 'std' values of the other columns. This calulation falsifies the real range of the outilers to be excluded.\n",
    "\n",
    "**__What to do?__**\n",
    "**The solution** is that we will make a new dataset a copy of the old one and place all the results in the new one. whereas the calculations of the mean and std ar based on the original datat set 😎"
   ]
  },
  {
   "cell_type": "code",
   "execution_count": 17,
   "metadata": {},
   "outputs": [],
   "source": [
    "# first we will decalre our new dataframe on which we will implement our machine learning\n",
    "df2 = df.copy()"
   ]
  },
  {
   "attachments": {},
   "cell_type": "markdown",
   "metadata": {},
   "source": [
    "Why did we do this?\n",
    "Because if we mask directly the outliers all 'na' rows will be deleted\n",
    "on the other hand if i replce the 'na' with the mean, the range of outliers will be affected as a result\n",
    "\n",
    "consequently we will calculate the mean and std from the original dataframe (df) and use these values to fill in the na in the new dataset and exclude the outliers in the NEW dataset "
   ]
  },
  {
   "cell_type": "code",
   "execution_count": 18,
   "metadata": {},
   "outputs": [
    {
     "name": "stdout",
     "output_type": "stream",
     "text": [
      "The mean value for the Temperature is 60.85396694214876\n",
      "Completed filling the na values in the new dataframe with mean value\n",
      "\n",
      "The mean value for the Fuel_Price is 3.316991935483871\n",
      "Completed filling the na values in the new dataframe with mean value\n",
      "\n",
      "The mean value for the CPI is 178.09114404399998\n",
      "Completed filling the na values in the new dataframe with mean value\n",
      "\n",
      "The mean value for the Unemployment is 7.665581967213115\n",
      "Completed filling the na values in the new dataframe with mean value\n",
      "\n"
     ]
    }
   ],
   "source": [
    "list_cols = ['Temperature', 'Fuel_Price', 'CPI' ,'Unemployment']\n",
    "\n",
    "for feature in list_cols:\n",
    "    \n",
    "    # calculate the mean based on the original dataframe\n",
    "    mean_value = df[feature].mean()         \n",
    "    \n",
    "    #filling the 'na' in new dataset with the mean values \n",
    "    df2[feature] = df2[feature].fillna(mean_value) \n",
    "    \n",
    "    \n",
    "    print(f\"The mean value for the {feature} is {mean_value}\")\n",
    "    print('Completed filling the na values in the new dataframe with mean value')\n",
    "    print()\n",
    "\n",
    "\n"
   ]
  },
  {
   "cell_type": "code",
   "execution_count": 20,
   "metadata": {},
   "outputs": [
    {
     "data": {
      "text/html": [
       "<div>\n",
       "<style scoped>\n",
       "    .dataframe tbody tr th:only-of-type {\n",
       "        vertical-align: middle;\n",
       "    }\n",
       "\n",
       "    .dataframe tbody tr th {\n",
       "        vertical-align: top;\n",
       "    }\n",
       "\n",
       "    .dataframe thead th {\n",
       "        text-align: right;\n",
       "    }\n",
       "</style>\n",
       "<table border=\"1\" class=\"dataframe\">\n",
       "  <thead>\n",
       "    <tr style=\"text-align: right;\">\n",
       "      <th></th>\n",
       "      <th>Store</th>\n",
       "      <th>Date</th>\n",
       "      <th>Weekly_Sales</th>\n",
       "      <th>Holiday_Flag</th>\n",
       "      <th>Temperature</th>\n",
       "      <th>Fuel_Price</th>\n",
       "      <th>CPI</th>\n",
       "      <th>Unemployment</th>\n",
       "    </tr>\n",
       "  </thead>\n",
       "  <tbody>\n",
       "    <tr>\n",
       "      <th>0</th>\n",
       "      <td>6.0</td>\n",
       "      <td>2011-02-18</td>\n",
       "      <td>1572117.54</td>\n",
       "      <td>NaN</td>\n",
       "      <td>59.610000</td>\n",
       "      <td>3.045000</td>\n",
       "      <td>214.777523</td>\n",
       "      <td>6.858000</td>\n",
       "    </tr>\n",
       "    <tr>\n",
       "      <th>1</th>\n",
       "      <td>13.0</td>\n",
       "      <td>2011-03-25</td>\n",
       "      <td>1807545.43</td>\n",
       "      <td>0.0</td>\n",
       "      <td>42.380000</td>\n",
       "      <td>3.435000</td>\n",
       "      <td>128.616064</td>\n",
       "      <td>7.470000</td>\n",
       "    </tr>\n",
       "    <tr>\n",
       "      <th>3</th>\n",
       "      <td>11.0</td>\n",
       "      <td>NaT</td>\n",
       "      <td>1244390.03</td>\n",
       "      <td>0.0</td>\n",
       "      <td>84.570000</td>\n",
       "      <td>3.316992</td>\n",
       "      <td>214.556497</td>\n",
       "      <td>7.346000</td>\n",
       "    </tr>\n",
       "    <tr>\n",
       "      <th>4</th>\n",
       "      <td>6.0</td>\n",
       "      <td>2010-05-28</td>\n",
       "      <td>1644470.66</td>\n",
       "      <td>0.0</td>\n",
       "      <td>78.890000</td>\n",
       "      <td>2.759000</td>\n",
       "      <td>212.412888</td>\n",
       "      <td>7.092000</td>\n",
       "    </tr>\n",
       "    <tr>\n",
       "      <th>5</th>\n",
       "      <td>4.0</td>\n",
       "      <td>2010-05-28</td>\n",
       "      <td>1857533.70</td>\n",
       "      <td>0.0</td>\n",
       "      <td>60.853967</td>\n",
       "      <td>2.756000</td>\n",
       "      <td>126.160226</td>\n",
       "      <td>7.896000</td>\n",
       "    </tr>\n",
       "    <tr>\n",
       "      <th>6</th>\n",
       "      <td>15.0</td>\n",
       "      <td>2011-06-03</td>\n",
       "      <td>695396.19</td>\n",
       "      <td>0.0</td>\n",
       "      <td>69.800000</td>\n",
       "      <td>4.069000</td>\n",
       "      <td>134.855161</td>\n",
       "      <td>7.658000</td>\n",
       "    </tr>\n",
       "    <tr>\n",
       "      <th>7</th>\n",
       "      <td>20.0</td>\n",
       "      <td>2012-02-03</td>\n",
       "      <td>2203523.20</td>\n",
       "      <td>0.0</td>\n",
       "      <td>39.930000</td>\n",
       "      <td>3.617000</td>\n",
       "      <td>213.023622</td>\n",
       "      <td>6.961000</td>\n",
       "    </tr>\n",
       "    <tr>\n",
       "      <th>8</th>\n",
       "      <td>14.0</td>\n",
       "      <td>2010-12-10</td>\n",
       "      <td>2600519.26</td>\n",
       "      <td>0.0</td>\n",
       "      <td>30.540000</td>\n",
       "      <td>3.109000</td>\n",
       "      <td>178.091144</td>\n",
       "      <td>7.665582</td>\n",
       "    </tr>\n",
       "    <tr>\n",
       "      <th>9</th>\n",
       "      <td>3.0</td>\n",
       "      <td>NaT</td>\n",
       "      <td>418925.47</td>\n",
       "      <td>0.0</td>\n",
       "      <td>60.120000</td>\n",
       "      <td>3.555000</td>\n",
       "      <td>224.132020</td>\n",
       "      <td>6.833000</td>\n",
       "    </tr>\n",
       "    <tr>\n",
       "      <th>10</th>\n",
       "      <td>8.0</td>\n",
       "      <td>2011-08-19</td>\n",
       "      <td>895066.50</td>\n",
       "      <td>0.0</td>\n",
       "      <td>82.920000</td>\n",
       "      <td>3.554000</td>\n",
       "      <td>219.070197</td>\n",
       "      <td>6.425000</td>\n",
       "    </tr>\n",
       "    <tr>\n",
       "      <th>11</th>\n",
       "      <td>18.0</td>\n",
       "      <td>2010-10-15</td>\n",
       "      <td>1029618.10</td>\n",
       "      <td>0.0</td>\n",
       "      <td>52.020000</td>\n",
       "      <td>2.878000</td>\n",
       "      <td>132.763355</td>\n",
       "      <td>9.331000</td>\n",
       "    </tr>\n",
       "    <tr>\n",
       "      <th>12</th>\n",
       "      <td>7.0</td>\n",
       "      <td>2011-05-13</td>\n",
       "      <td>414094.05</td>\n",
       "      <td>0.0</td>\n",
       "      <td>36.610000</td>\n",
       "      <td>3.767000</td>\n",
       "      <td>192.826069</td>\n",
       "      <td>8.595000</td>\n",
       "    </tr>\n",
       "    <tr>\n",
       "      <th>13</th>\n",
       "      <td>1.0</td>\n",
       "      <td>2012-03-16</td>\n",
       "      <td>1677472.78</td>\n",
       "      <td>0.0</td>\n",
       "      <td>64.740000</td>\n",
       "      <td>3.734000</td>\n",
       "      <td>221.211813</td>\n",
       "      <td>7.348000</td>\n",
       "    </tr>\n",
       "    <tr>\n",
       "      <th>14</th>\n",
       "      <td>17.0</td>\n",
       "      <td>2010-10-01</td>\n",
       "      <td>829207.27</td>\n",
       "      <td>0.0</td>\n",
       "      <td>60.070000</td>\n",
       "      <td>2.853000</td>\n",
       "      <td>126.234600</td>\n",
       "      <td>6.885000</td>\n",
       "    </tr>\n",
       "    <tr>\n",
       "      <th>15</th>\n",
       "      <td>6.0</td>\n",
       "      <td>2010-04-30</td>\n",
       "      <td>1498080.16</td>\n",
       "      <td>NaN</td>\n",
       "      <td>68.910000</td>\n",
       "      <td>2.780000</td>\n",
       "      <td>211.894272</td>\n",
       "      <td>7.092000</td>\n",
       "    </tr>\n",
       "    <tr>\n",
       "      <th>16</th>\n",
       "      <td>13.0</td>\n",
       "      <td>2010-08-20</td>\n",
       "      <td>1997397.63</td>\n",
       "      <td>0.0</td>\n",
       "      <td>76.340000</td>\n",
       "      <td>2.850000</td>\n",
       "      <td>178.091144</td>\n",
       "      <td>7.951000</td>\n",
       "    </tr>\n",
       "    <tr>\n",
       "      <th>17</th>\n",
       "      <td>18.0</td>\n",
       "      <td>NaT</td>\n",
       "      <td>1205307.50</td>\n",
       "      <td>0.0</td>\n",
       "      <td>21.330000</td>\n",
       "      <td>2.788000</td>\n",
       "      <td>131.527903</td>\n",
       "      <td>9.202000</td>\n",
       "    </tr>\n",
       "    <tr>\n",
       "      <th>18</th>\n",
       "      <td>2.0</td>\n",
       "      <td>2011-12-16</td>\n",
       "      <td>2432736.52</td>\n",
       "      <td>0.0</td>\n",
       "      <td>50.130000</td>\n",
       "      <td>3.316992</td>\n",
       "      <td>178.091144</td>\n",
       "      <td>7.441000</td>\n",
       "    </tr>\n",
       "    <tr>\n",
       "      <th>20</th>\n",
       "      <td>7.0</td>\n",
       "      <td>2010-04-02</td>\n",
       "      <td>561145.14</td>\n",
       "      <td>0.0</td>\n",
       "      <td>38.260000</td>\n",
       "      <td>2.725000</td>\n",
       "      <td>189.704822</td>\n",
       "      <td>8.963000</td>\n",
       "    </tr>\n",
       "    <tr>\n",
       "      <th>21</th>\n",
       "      <td>5.0</td>\n",
       "      <td>2011-05-13</td>\n",
       "      <td>290930.01</td>\n",
       "      <td>0.0</td>\n",
       "      <td>77.380000</td>\n",
       "      <td>3.899000</td>\n",
       "      <td>216.534361</td>\n",
       "      <td>6.489000</td>\n",
       "    </tr>\n",
       "  </tbody>\n",
       "</table>\n",
       "</div>"
      ],
      "text/plain": [
       "    Store       Date  Weekly_Sales  Holiday_Flag  Temperature  Fuel_Price   \n",
       "0     6.0 2011-02-18    1572117.54           NaN    59.610000    3.045000  \\\n",
       "1    13.0 2011-03-25    1807545.43           0.0    42.380000    3.435000   \n",
       "3    11.0        NaT    1244390.03           0.0    84.570000    3.316992   \n",
       "4     6.0 2010-05-28    1644470.66           0.0    78.890000    2.759000   \n",
       "5     4.0 2010-05-28    1857533.70           0.0    60.853967    2.756000   \n",
       "6    15.0 2011-06-03     695396.19           0.0    69.800000    4.069000   \n",
       "7    20.0 2012-02-03    2203523.20           0.0    39.930000    3.617000   \n",
       "8    14.0 2010-12-10    2600519.26           0.0    30.540000    3.109000   \n",
       "9     3.0        NaT     418925.47           0.0    60.120000    3.555000   \n",
       "10    8.0 2011-08-19     895066.50           0.0    82.920000    3.554000   \n",
       "11   18.0 2010-10-15    1029618.10           0.0    52.020000    2.878000   \n",
       "12    7.0 2011-05-13     414094.05           0.0    36.610000    3.767000   \n",
       "13    1.0 2012-03-16    1677472.78           0.0    64.740000    3.734000   \n",
       "14   17.0 2010-10-01     829207.27           0.0    60.070000    2.853000   \n",
       "15    6.0 2010-04-30    1498080.16           NaN    68.910000    2.780000   \n",
       "16   13.0 2010-08-20    1997397.63           0.0    76.340000    2.850000   \n",
       "17   18.0        NaT    1205307.50           0.0    21.330000    2.788000   \n",
       "18    2.0 2011-12-16    2432736.52           0.0    50.130000    3.316992   \n",
       "20    7.0 2010-04-02     561145.14           0.0    38.260000    2.725000   \n",
       "21    5.0 2011-05-13     290930.01           0.0    77.380000    3.899000   \n",
       "\n",
       "           CPI  Unemployment  \n",
       "0   214.777523      6.858000  \n",
       "1   128.616064      7.470000  \n",
       "3   214.556497      7.346000  \n",
       "4   212.412888      7.092000  \n",
       "5   126.160226      7.896000  \n",
       "6   134.855161      7.658000  \n",
       "7   213.023622      6.961000  \n",
       "8   178.091144      7.665582  \n",
       "9   224.132020      6.833000  \n",
       "10  219.070197      6.425000  \n",
       "11  132.763355      9.331000  \n",
       "12  192.826069      8.595000  \n",
       "13  221.211813      7.348000  \n",
       "14  126.234600      6.885000  \n",
       "15  211.894272      7.092000  \n",
       "16  178.091144      7.951000  \n",
       "17  131.527903      9.202000  \n",
       "18  178.091144      7.441000  \n",
       "20  189.704822      8.963000  \n",
       "21  216.534361      6.489000  "
      ]
     },
     "execution_count": 20,
     "metadata": {},
     "output_type": "execute_result"
    }
   ],
   "source": [
    "df2.head(20)"
   ]
  },
  {
   "cell_type": "code",
   "execution_count": 19,
   "metadata": {},
   "outputs": [
    {
     "data": {
      "text/plain": [
       "Store            0.000000\n",
       "Date            13.235294\n",
       "Weekly_Sales     0.000000\n",
       "Holiday_Flag     8.088235\n",
       "Temperature      0.000000\n",
       "Fuel_Price       0.000000\n",
       "CPI              0.000000\n",
       "Unemployment     0.000000\n",
       "dtype: float64"
      ]
     },
     "execution_count": 19,
     "metadata": {},
     "output_type": "execute_result"
    }
   ],
   "source": [
    "# how many na do we have in our new dataframe\n",
    "df2.isnull().sum()/df2.shape[0]*100"
   ]
  },
  {
   "cell_type": "code",
   "execution_count": 173,
   "metadata": {},
   "outputs": [
    {
     "data": {
      "text/plain": [
       "Store            0.000000\n",
       "Date            13.235294\n",
       "Weekly_Sales     0.000000\n",
       "Holiday_Flag     8.088235\n",
       "Temperature     11.029412\n",
       "Fuel_Price       8.823529\n",
       "CPI              8.088235\n",
       "Unemployment    10.294118\n",
       "dtype: float64"
      ]
     },
     "execution_count": 173,
     "metadata": {},
     "output_type": "execute_result"
    }
   ],
   "source": [
    "# whereas nothing changed in the old dataframe\n",
    "df.isnull().sum()/df.shape[0]*100"
   ]
  },
  {
   "attachments": {},
   "cell_type": "markdown",
   "metadata": {},
   "source": [
    "Wonderful, now we will filter the outliers based on the range.\n",
    "As for the Holiday flag we will leave it for the impute to calucalte the missing"
   ]
  },
  {
   "cell_type": "code",
   "execution_count": 174,
   "metadata": {},
   "outputs": [
    {
     "data": {
      "text/html": [
       "<div>\n",
       "<style scoped>\n",
       "    .dataframe tbody tr th:only-of-type {\n",
       "        vertical-align: middle;\n",
       "    }\n",
       "\n",
       "    .dataframe tbody tr th {\n",
       "        vertical-align: top;\n",
       "    }\n",
       "\n",
       "    .dataframe thead th {\n",
       "        text-align: right;\n",
       "    }\n",
       "</style>\n",
       "<table border=\"1\" class=\"dataframe\">\n",
       "  <thead>\n",
       "    <tr style=\"text-align: right;\">\n",
       "      <th></th>\n",
       "      <th>Store</th>\n",
       "      <th>Date</th>\n",
       "      <th>Weekly_Sales</th>\n",
       "      <th>Holiday_Flag</th>\n",
       "      <th>Temperature</th>\n",
       "      <th>Fuel_Price</th>\n",
       "      <th>CPI</th>\n",
       "      <th>Unemployment</th>\n",
       "    </tr>\n",
       "  </thead>\n",
       "  <tbody>\n",
       "    <tr>\n",
       "      <th>count</th>\n",
       "      <td>136.000000</td>\n",
       "      <td>118</td>\n",
       "      <td>1.360000e+02</td>\n",
       "      <td>125.000000</td>\n",
       "      <td>136.000000</td>\n",
       "      <td>136.000000</td>\n",
       "      <td>136.000000</td>\n",
       "      <td>136.000000</td>\n",
       "    </tr>\n",
       "    <tr>\n",
       "      <th>mean</th>\n",
       "      <td>10.014706</td>\n",
       "      <td>2011-04-23 04:28:28.474576384</td>\n",
       "      <td>1.249536e+06</td>\n",
       "      <td>0.072000</td>\n",
       "      <td>60.853967</td>\n",
       "      <td>3.316992</td>\n",
       "      <td>178.091144</td>\n",
       "      <td>7.665582</td>\n",
       "    </tr>\n",
       "    <tr>\n",
       "      <th>min</th>\n",
       "      <td>1.000000</td>\n",
       "      <td>2010-02-05 00:00:00</td>\n",
       "      <td>2.689290e+05</td>\n",
       "      <td>0.000000</td>\n",
       "      <td>18.790000</td>\n",
       "      <td>2.514000</td>\n",
       "      <td>126.111903</td>\n",
       "      <td>5.143000</td>\n",
       "    </tr>\n",
       "    <tr>\n",
       "      <th>25%</th>\n",
       "      <td>4.000000</td>\n",
       "      <td>2010-07-30 00:00:00</td>\n",
       "      <td>6.050757e+05</td>\n",
       "      <td>0.000000</td>\n",
       "      <td>48.072500</td>\n",
       "      <td>2.853750</td>\n",
       "      <td>132.464884</td>\n",
       "      <td>6.833000</td>\n",
       "    </tr>\n",
       "    <tr>\n",
       "      <th>50%</th>\n",
       "      <td>10.000000</td>\n",
       "      <td>2011-04-29 00:00:00</td>\n",
       "      <td>1.261424e+06</td>\n",
       "      <td>0.000000</td>\n",
       "      <td>60.853967</td>\n",
       "      <td>3.316992</td>\n",
       "      <td>189.613975</td>\n",
       "      <td>7.661791</td>\n",
       "    </tr>\n",
       "    <tr>\n",
       "      <th>75%</th>\n",
       "      <td>15.250000</td>\n",
       "      <td>2011-12-31 18:00:00</td>\n",
       "      <td>1.806386e+06</td>\n",
       "      <td>0.000000</td>\n",
       "      <td>75.175000</td>\n",
       "      <td>3.689750</td>\n",
       "      <td>214.756314</td>\n",
       "      <td>8.100750</td>\n",
       "    </tr>\n",
       "    <tr>\n",
       "      <th>max</th>\n",
       "      <td>20.000000</td>\n",
       "      <td>2012-10-19 00:00:00</td>\n",
       "      <td>2.771397e+06</td>\n",
       "      <td>1.000000</td>\n",
       "      <td>91.650000</td>\n",
       "      <td>4.193000</td>\n",
       "      <td>226.968844</td>\n",
       "      <td>14.313000</td>\n",
       "    </tr>\n",
       "    <tr>\n",
       "      <th>std</th>\n",
       "      <td>6.124614</td>\n",
       "      <td>NaN</td>\n",
       "      <td>6.474630e+05</td>\n",
       "      <td>0.259528</td>\n",
       "      <td>17.455574</td>\n",
       "      <td>0.457731</td>\n",
       "      <td>38.568739</td>\n",
       "      <td>1.533160</td>\n",
       "    </tr>\n",
       "  </tbody>\n",
       "</table>\n",
       "</div>"
      ],
      "text/plain": [
       "            Store                           Date  Weekly_Sales  Holiday_Flag   \n",
       "count  136.000000                            118  1.360000e+02    125.000000  \\\n",
       "mean    10.014706  2011-04-23 04:28:28.474576384  1.249536e+06      0.072000   \n",
       "min      1.000000            2010-02-05 00:00:00  2.689290e+05      0.000000   \n",
       "25%      4.000000            2010-07-30 00:00:00  6.050757e+05      0.000000   \n",
       "50%     10.000000            2011-04-29 00:00:00  1.261424e+06      0.000000   \n",
       "75%     15.250000            2011-12-31 18:00:00  1.806386e+06      0.000000   \n",
       "max     20.000000            2012-10-19 00:00:00  2.771397e+06      1.000000   \n",
       "std      6.124614                            NaN  6.474630e+05      0.259528   \n",
       "\n",
       "       Temperature  Fuel_Price         CPI  Unemployment  \n",
       "count   136.000000  136.000000  136.000000    136.000000  \n",
       "mean     60.853967    3.316992  178.091144      7.665582  \n",
       "min      18.790000    2.514000  126.111903      5.143000  \n",
       "25%      48.072500    2.853750  132.464884      6.833000  \n",
       "50%      60.853967    3.316992  189.613975      7.661791  \n",
       "75%      75.175000    3.689750  214.756314      8.100750  \n",
       "max      91.650000    4.193000  226.968844     14.313000  \n",
       "std      17.455574    0.457731   38.568739      1.533160  "
      ]
     },
     "execution_count": 174,
     "metadata": {},
     "output_type": "execute_result"
    }
   ],
   "source": [
    "df2.describe()"
   ]
  },
  {
   "cell_type": "code",
   "execution_count": 175,
   "metadata": {},
   "outputs": [
    {
     "data": {
      "text/html": [
       "<div>\n",
       "<style scoped>\n",
       "    .dataframe tbody tr th:only-of-type {\n",
       "        vertical-align: middle;\n",
       "    }\n",
       "\n",
       "    .dataframe tbody tr th {\n",
       "        vertical-align: top;\n",
       "    }\n",
       "\n",
       "    .dataframe thead th {\n",
       "        text-align: right;\n",
       "    }\n",
       "</style>\n",
       "<table border=\"1\" class=\"dataframe\">\n",
       "  <thead>\n",
       "    <tr style=\"text-align: right;\">\n",
       "      <th></th>\n",
       "      <th>Store</th>\n",
       "      <th>Date</th>\n",
       "      <th>Weekly_Sales</th>\n",
       "      <th>Holiday_Flag</th>\n",
       "      <th>Temperature</th>\n",
       "      <th>Fuel_Price</th>\n",
       "      <th>CPI</th>\n",
       "      <th>Unemployment</th>\n",
       "    </tr>\n",
       "  </thead>\n",
       "  <tbody>\n",
       "    <tr>\n",
       "      <th>count</th>\n",
       "      <td>136.000000</td>\n",
       "      <td>118</td>\n",
       "      <td>1.360000e+02</td>\n",
       "      <td>125.000000</td>\n",
       "      <td>121.000000</td>\n",
       "      <td>124.000000</td>\n",
       "      <td>125.000000</td>\n",
       "      <td>122.000000</td>\n",
       "    </tr>\n",
       "    <tr>\n",
       "      <th>mean</th>\n",
       "      <td>10.014706</td>\n",
       "      <td>2011-04-23 04:28:28.474576384</td>\n",
       "      <td>1.249536e+06</td>\n",
       "      <td>0.072000</td>\n",
       "      <td>60.853967</td>\n",
       "      <td>3.316992</td>\n",
       "      <td>178.091144</td>\n",
       "      <td>7.665582</td>\n",
       "    </tr>\n",
       "    <tr>\n",
       "      <th>min</th>\n",
       "      <td>1.000000</td>\n",
       "      <td>2010-02-05 00:00:00</td>\n",
       "      <td>2.689290e+05</td>\n",
       "      <td>0.000000</td>\n",
       "      <td>18.790000</td>\n",
       "      <td>2.514000</td>\n",
       "      <td>126.111903</td>\n",
       "      <td>5.143000</td>\n",
       "    </tr>\n",
       "    <tr>\n",
       "      <th>25%</th>\n",
       "      <td>4.000000</td>\n",
       "      <td>2010-07-30 00:00:00</td>\n",
       "      <td>6.050757e+05</td>\n",
       "      <td>0.000000</td>\n",
       "      <td>45.220000</td>\n",
       "      <td>2.838500</td>\n",
       "      <td>131.637000</td>\n",
       "      <td>6.690000</td>\n",
       "    </tr>\n",
       "    <tr>\n",
       "      <th>50%</th>\n",
       "      <td>10.000000</td>\n",
       "      <td>2011-04-29 00:00:00</td>\n",
       "      <td>1.261424e+06</td>\n",
       "      <td>0.000000</td>\n",
       "      <td>62.250000</td>\n",
       "      <td>3.451000</td>\n",
       "      <td>196.919506</td>\n",
       "      <td>7.477000</td>\n",
       "    </tr>\n",
       "    <tr>\n",
       "      <th>75%</th>\n",
       "      <td>15.250000</td>\n",
       "      <td>2011-12-31 18:00:00</td>\n",
       "      <td>1.806386e+06</td>\n",
       "      <td>0.000000</td>\n",
       "      <td>75.950000</td>\n",
       "      <td>3.724000</td>\n",
       "      <td>214.878556</td>\n",
       "      <td>8.150000</td>\n",
       "    </tr>\n",
       "    <tr>\n",
       "      <th>max</th>\n",
       "      <td>20.000000</td>\n",
       "      <td>2012-10-19 00:00:00</td>\n",
       "      <td>2.771397e+06</td>\n",
       "      <td>1.000000</td>\n",
       "      <td>91.650000</td>\n",
       "      <td>4.193000</td>\n",
       "      <td>226.968844</td>\n",
       "      <td>14.313000</td>\n",
       "    </tr>\n",
       "    <tr>\n",
       "      <th>std</th>\n",
       "      <td>6.124614</td>\n",
       "      <td>NaN</td>\n",
       "      <td>6.474630e+05</td>\n",
       "      <td>0.259528</td>\n",
       "      <td>18.514432</td>\n",
       "      <td>0.479540</td>\n",
       "      <td>40.243105</td>\n",
       "      <td>1.619428</td>\n",
       "    </tr>\n",
       "  </tbody>\n",
       "</table>\n",
       "</div>"
      ],
      "text/plain": [
       "            Store                           Date  Weekly_Sales  Holiday_Flag   \n",
       "count  136.000000                            118  1.360000e+02    125.000000  \\\n",
       "mean    10.014706  2011-04-23 04:28:28.474576384  1.249536e+06      0.072000   \n",
       "min      1.000000            2010-02-05 00:00:00  2.689290e+05      0.000000   \n",
       "25%      4.000000            2010-07-30 00:00:00  6.050757e+05      0.000000   \n",
       "50%     10.000000            2011-04-29 00:00:00  1.261424e+06      0.000000   \n",
       "75%     15.250000            2011-12-31 18:00:00  1.806386e+06      0.000000   \n",
       "max     20.000000            2012-10-19 00:00:00  2.771397e+06      1.000000   \n",
       "std      6.124614                            NaN  6.474630e+05      0.259528   \n",
       "\n",
       "       Temperature  Fuel_Price         CPI  Unemployment  \n",
       "count   121.000000  124.000000  125.000000    122.000000  \n",
       "mean     60.853967    3.316992  178.091144      7.665582  \n",
       "min      18.790000    2.514000  126.111903      5.143000  \n",
       "25%      45.220000    2.838500  131.637000      6.690000  \n",
       "50%      62.250000    3.451000  196.919506      7.477000  \n",
       "75%      75.950000    3.724000  214.878556      8.150000  \n",
       "max      91.650000    4.193000  226.968844     14.313000  \n",
       "std      18.514432    0.479540   40.243105      1.619428  "
      ]
     },
     "execution_count": 175,
     "metadata": {},
     "output_type": "execute_result"
    }
   ],
   "source": [
    "df.describe()"
   ]
  },
  {
   "cell_type": "code",
   "execution_count": 21,
   "metadata": {},
   "outputs": [
    {
     "name": "stdout",
     "output_type": "stream",
     "text": [
      "Temperature\n",
      " the Temperature std is 18.514431869910695\n",
      " the Temperature mean is 60.85396694214876\n",
      " the Temperature mininmum value is 5.310671332416675\n",
      " the Temperature maximum value is 116.39726255188084\n",
      " the number of rows within the threshold are 121 out of 136\n",
      " The current dataframe number of rows is 136\n",
      "\n",
      "Fuel_Price\n",
      " the Fuel_Price std is 0.47954023536384177\n",
      " the Fuel_Price mean is 3.316991935483871\n",
      " the Fuel_Price mininmum value is 1.8783712293923458\n",
      " the Fuel_Price maximum value is 4.7556126415753965\n",
      " the number of rows within the threshold are 124 out of 136\n",
      " The current dataframe number of rows is 136\n",
      "\n",
      "CPI\n",
      " the CPI std is 40.24310470097993\n",
      " the CPI mean is 178.09114404399998\n",
      " the CPI mininmum value is 57.36182994106019\n",
      " the CPI maximum value is 298.82045814693976\n",
      " the number of rows within the threshold are 125 out of 136\n",
      " The current dataframe number of rows is 136\n",
      "\n",
      "Unemployment\n",
      " the Unemployment std is 1.6194283750203007\n",
      " the Unemployment mean is 7.665581967213115\n",
      " the Unemployment mininmum value is 2.807296842152213\n",
      " the Unemployment maximum value is 12.523867092274017\n",
      " the number of rows within the threshold are 117 out of 136\n",
      " The current dataframe number of rows is 131\n",
      "\n"
     ]
    }
   ],
   "source": [
    "# Excluding the outliers\n",
    "# for the following columns \"features\" : Temperature, Fuel_Price, CPI and unemployment\n",
    "\n",
    "list_features = ['Temperature', 'Fuel_Price', 'CPI' ,'Unemployment']\n",
    "\n",
    "\n",
    "for feature in list_features:\n",
    "    \n",
    "    # calculating the mean and std for each feature\n",
    "    # IMPORTANT NOTE the calculation is based on the ORIGINAL DATAFRAME\n",
    "    # otherwise each time the we filter a feature the std and mean value will change accrodingly \n",
    "    # consequently falsifying the results\n",
    "\n",
    "    std = df[feature].std()      #  standard deviation\n",
    "    mean = df[feature].mean()    #  mean\n",
    "    min_val = mean - 3 * std     # always the multiplication is done first before the minus\n",
    "    max_val = mean + 3 * std      # calculate the upper and lower thresholds\n",
    "\n",
    "\n",
    "        #======= Excluding the outliers =========#\n",
    "\n",
    "    mask_outliers = (df2[feature] > min_val) & (df2[feature] < max_val)\n",
    "    df2 = df2.loc[mask_outliers,:]\n",
    "\n",
    "        #======= Just Counting the number of affected rows =========#\n",
    "    \n",
    "    # this is just to observe the number rows actually resulting from the original datafarme\n",
    "    mask_outliers = (df[feature] > min_val) & (df[feature] < max_val)\n",
    "    number_of_rows = df.loc[mask_outliers,:].shape[0]\n",
    "\n",
    "    print(feature)\n",
    "    print(f' the {feature} std is {std}')\n",
    "    print(f' the {feature} mean is {mean}')\n",
    "    print(f' the {feature} mininmum value is {min_val}')\n",
    "    print(f' the {feature} maximum value is {max_val}')\n",
    "    print(f' the number of rows within the threshold are {number_of_rows} out of {df.shape[0]}')\n",
    "    print(f' The current dataframe number of rows is {df2.shape[0]}')\n",
    "    print()\n",
    "\n",
    "\n",
    "\n",
    "\n",
    "\n",
    "\n",
    "\n"
   ]
  },
  {
   "cell_type": "code",
   "execution_count": 148,
   "metadata": {},
   "outputs": [
    {
     "data": {
      "text/html": [
       "<div>\n",
       "<style scoped>\n",
       "    .dataframe tbody tr th:only-of-type {\n",
       "        vertical-align: middle;\n",
       "    }\n",
       "\n",
       "    .dataframe tbody tr th {\n",
       "        vertical-align: top;\n",
       "    }\n",
       "\n",
       "    .dataframe thead th {\n",
       "        text-align: right;\n",
       "    }\n",
       "</style>\n",
       "<table border=\"1\" class=\"dataframe\">\n",
       "  <thead>\n",
       "    <tr style=\"text-align: right;\">\n",
       "      <th></th>\n",
       "      <th>Store</th>\n",
       "      <th>Date</th>\n",
       "      <th>Weekly_Sales</th>\n",
       "      <th>Holiday_Flag</th>\n",
       "      <th>Temperature</th>\n",
       "      <th>Fuel_Price</th>\n",
       "      <th>CPI</th>\n",
       "      <th>Unemployment</th>\n",
       "    </tr>\n",
       "  </thead>\n",
       "  <tbody>\n",
       "    <tr>\n",
       "      <th>count</th>\n",
       "      <td>136.000000</td>\n",
       "      <td>118</td>\n",
       "      <td>1.360000e+02</td>\n",
       "      <td>125.000000</td>\n",
       "      <td>136.000000</td>\n",
       "      <td>136.000000</td>\n",
       "      <td>136.000000</td>\n",
       "      <td>136.000000</td>\n",
       "    </tr>\n",
       "    <tr>\n",
       "      <th>mean</th>\n",
       "      <td>10.014706</td>\n",
       "      <td>2011-04-23 04:28:28.474576384</td>\n",
       "      <td>1.249536e+06</td>\n",
       "      <td>0.072000</td>\n",
       "      <td>60.853967</td>\n",
       "      <td>3.316992</td>\n",
       "      <td>178.091144</td>\n",
       "      <td>7.665582</td>\n",
       "    </tr>\n",
       "    <tr>\n",
       "      <th>min</th>\n",
       "      <td>1.000000</td>\n",
       "      <td>2010-02-05 00:00:00</td>\n",
       "      <td>2.689290e+05</td>\n",
       "      <td>0.000000</td>\n",
       "      <td>18.790000</td>\n",
       "      <td>2.514000</td>\n",
       "      <td>126.111903</td>\n",
       "      <td>5.143000</td>\n",
       "    </tr>\n",
       "    <tr>\n",
       "      <th>25%</th>\n",
       "      <td>4.000000</td>\n",
       "      <td>2010-07-30 00:00:00</td>\n",
       "      <td>6.050757e+05</td>\n",
       "      <td>0.000000</td>\n",
       "      <td>48.072500</td>\n",
       "      <td>2.853750</td>\n",
       "      <td>132.464884</td>\n",
       "      <td>6.833000</td>\n",
       "    </tr>\n",
       "    <tr>\n",
       "      <th>50%</th>\n",
       "      <td>10.000000</td>\n",
       "      <td>2011-04-29 00:00:00</td>\n",
       "      <td>1.261424e+06</td>\n",
       "      <td>0.000000</td>\n",
       "      <td>60.853967</td>\n",
       "      <td>3.316992</td>\n",
       "      <td>189.613975</td>\n",
       "      <td>7.661791</td>\n",
       "    </tr>\n",
       "    <tr>\n",
       "      <th>75%</th>\n",
       "      <td>15.250000</td>\n",
       "      <td>2011-12-31 18:00:00</td>\n",
       "      <td>1.806386e+06</td>\n",
       "      <td>0.000000</td>\n",
       "      <td>75.175000</td>\n",
       "      <td>3.689750</td>\n",
       "      <td>214.756314</td>\n",
       "      <td>8.100750</td>\n",
       "    </tr>\n",
       "    <tr>\n",
       "      <th>max</th>\n",
       "      <td>20.000000</td>\n",
       "      <td>2012-10-19 00:00:00</td>\n",
       "      <td>2.771397e+06</td>\n",
       "      <td>1.000000</td>\n",
       "      <td>91.650000</td>\n",
       "      <td>4.193000</td>\n",
       "      <td>226.968844</td>\n",
       "      <td>14.313000</td>\n",
       "    </tr>\n",
       "    <tr>\n",
       "      <th>std</th>\n",
       "      <td>6.124614</td>\n",
       "      <td>NaN</td>\n",
       "      <td>6.474630e+05</td>\n",
       "      <td>0.259528</td>\n",
       "      <td>17.455574</td>\n",
       "      <td>0.457731</td>\n",
       "      <td>38.568739</td>\n",
       "      <td>1.533160</td>\n",
       "    </tr>\n",
       "  </tbody>\n",
       "</table>\n",
       "</div>"
      ],
      "text/plain": [
       "            Store                           Date  Weekly_Sales  Holiday_Flag   \n",
       "count  136.000000                            118  1.360000e+02    125.000000  \\\n",
       "mean    10.014706  2011-04-23 04:28:28.474576384  1.249536e+06      0.072000   \n",
       "min      1.000000            2010-02-05 00:00:00  2.689290e+05      0.000000   \n",
       "25%      4.000000            2010-07-30 00:00:00  6.050757e+05      0.000000   \n",
       "50%     10.000000            2011-04-29 00:00:00  1.261424e+06      0.000000   \n",
       "75%     15.250000            2011-12-31 18:00:00  1.806386e+06      0.000000   \n",
       "max     20.000000            2012-10-19 00:00:00  2.771397e+06      1.000000   \n",
       "std      6.124614                            NaN  6.474630e+05      0.259528   \n",
       "\n",
       "       Temperature  Fuel_Price         CPI  Unemployment  \n",
       "count   136.000000  136.000000  136.000000    136.000000  \n",
       "mean     60.853967    3.316992  178.091144      7.665582  \n",
       "min      18.790000    2.514000  126.111903      5.143000  \n",
       "25%      48.072500    2.853750  132.464884      6.833000  \n",
       "50%      60.853967    3.316992  189.613975      7.661791  \n",
       "75%      75.175000    3.689750  214.756314      8.100750  \n",
       "max      91.650000    4.193000  226.968844     14.313000  \n",
       "std      17.455574    0.457731   38.568739      1.533160  "
      ]
     },
     "execution_count": 148,
     "metadata": {},
     "output_type": "execute_result"
    }
   ],
   "source": [
    "df.describe()"
   ]
  },
  {
   "cell_type": "code",
   "execution_count": 149,
   "metadata": {},
   "outputs": [
    {
     "data": {
      "text/html": [
       "<div>\n",
       "<style scoped>\n",
       "    .dataframe tbody tr th:only-of-type {\n",
       "        vertical-align: middle;\n",
       "    }\n",
       "\n",
       "    .dataframe tbody tr th {\n",
       "        vertical-align: top;\n",
       "    }\n",
       "\n",
       "    .dataframe thead th {\n",
       "        text-align: right;\n",
       "    }\n",
       "</style>\n",
       "<table border=\"1\" class=\"dataframe\">\n",
       "  <thead>\n",
       "    <tr style=\"text-align: right;\">\n",
       "      <th></th>\n",
       "      <th>Store</th>\n",
       "      <th>Date</th>\n",
       "      <th>Weekly_Sales</th>\n",
       "      <th>Holiday_Flag</th>\n",
       "      <th>Temperature</th>\n",
       "      <th>Fuel_Price</th>\n",
       "      <th>CPI</th>\n",
       "      <th>Unemployment</th>\n",
       "    </tr>\n",
       "  </thead>\n",
       "  <tbody>\n",
       "    <tr>\n",
       "      <th>count</th>\n",
       "      <td>131.000000</td>\n",
       "      <td>113</td>\n",
       "      <td>1.310000e+02</td>\n",
       "      <td>120.000000</td>\n",
       "      <td>131.000000</td>\n",
       "      <td>131.000000</td>\n",
       "      <td>131.000000</td>\n",
       "      <td>131.000000</td>\n",
       "    </tr>\n",
       "    <tr>\n",
       "      <th>mean</th>\n",
       "      <td>9.938931</td>\n",
       "      <td>2011-04-24 21:52:33.982300928</td>\n",
       "      <td>1.257990e+06</td>\n",
       "      <td>0.066667</td>\n",
       "      <td>60.453783</td>\n",
       "      <td>3.304198</td>\n",
       "      <td>180.000711</td>\n",
       "      <td>7.427871</td>\n",
       "    </tr>\n",
       "    <tr>\n",
       "      <th>min</th>\n",
       "      <td>1.000000</td>\n",
       "      <td>2010-02-05 00:00:00</td>\n",
       "      <td>2.689290e+05</td>\n",
       "      <td>0.000000</td>\n",
       "      <td>18.790000</td>\n",
       "      <td>2.514000</td>\n",
       "      <td>126.111903</td>\n",
       "      <td>5.143000</td>\n",
       "    </tr>\n",
       "    <tr>\n",
       "      <th>25%</th>\n",
       "      <td>4.000000</td>\n",
       "      <td>2010-07-30 00:00:00</td>\n",
       "      <td>5.842439e+05</td>\n",
       "      <td>0.000000</td>\n",
       "      <td>47.085000</td>\n",
       "      <td>2.851500</td>\n",
       "      <td>133.361048</td>\n",
       "      <td>6.833000</td>\n",
       "    </tr>\n",
       "    <tr>\n",
       "      <th>50%</th>\n",
       "      <td>9.000000</td>\n",
       "      <td>2011-04-22 00:00:00</td>\n",
       "      <td>1.366396e+06</td>\n",
       "      <td>0.000000</td>\n",
       "      <td>60.853967</td>\n",
       "      <td>3.316992</td>\n",
       "      <td>192.826069</td>\n",
       "      <td>7.567000</td>\n",
       "    </tr>\n",
       "    <tr>\n",
       "      <th>75%</th>\n",
       "      <td>16.000000</td>\n",
       "      <td>2012-01-13 00:00:00</td>\n",
       "      <td>1.809576e+06</td>\n",
       "      <td>0.000000</td>\n",
       "      <td>75.045000</td>\n",
       "      <td>3.683000</td>\n",
       "      <td>214.781675</td>\n",
       "      <td>8.059000</td>\n",
       "    </tr>\n",
       "    <tr>\n",
       "      <th>max</th>\n",
       "      <td>20.000000</td>\n",
       "      <td>2012-10-19 00:00:00</td>\n",
       "      <td>2.771397e+06</td>\n",
       "      <td>1.000000</td>\n",
       "      <td>91.650000</td>\n",
       "      <td>4.170000</td>\n",
       "      <td>226.968844</td>\n",
       "      <td>9.524000</td>\n",
       "    </tr>\n",
       "    <tr>\n",
       "      <th>std</th>\n",
       "      <td>6.228663</td>\n",
       "      <td>NaN</td>\n",
       "      <td>6.577463e+05</td>\n",
       "      <td>0.250490</td>\n",
       "      <td>17.444613</td>\n",
       "      <td>0.452979</td>\n",
       "      <td>38.009862</td>\n",
       "      <td>0.942684</td>\n",
       "    </tr>\n",
       "  </tbody>\n",
       "</table>\n",
       "</div>"
      ],
      "text/plain": [
       "            Store                           Date  Weekly_Sales  Holiday_Flag   \n",
       "count  131.000000                            113  1.310000e+02    120.000000  \\\n",
       "mean     9.938931  2011-04-24 21:52:33.982300928  1.257990e+06      0.066667   \n",
       "min      1.000000            2010-02-05 00:00:00  2.689290e+05      0.000000   \n",
       "25%      4.000000            2010-07-30 00:00:00  5.842439e+05      0.000000   \n",
       "50%      9.000000            2011-04-22 00:00:00  1.366396e+06      0.000000   \n",
       "75%     16.000000            2012-01-13 00:00:00  1.809576e+06      0.000000   \n",
       "max     20.000000            2012-10-19 00:00:00  2.771397e+06      1.000000   \n",
       "std      6.228663                            NaN  6.577463e+05      0.250490   \n",
       "\n",
       "       Temperature  Fuel_Price         CPI  Unemployment  \n",
       "count   131.000000  131.000000  131.000000    131.000000  \n",
       "mean     60.453783    3.304198  180.000711      7.427871  \n",
       "min      18.790000    2.514000  126.111903      5.143000  \n",
       "25%      47.085000    2.851500  133.361048      6.833000  \n",
       "50%      60.853967    3.316992  192.826069      7.567000  \n",
       "75%      75.045000    3.683000  214.781675      8.059000  \n",
       "max      91.650000    4.170000  226.968844      9.524000  \n",
       "std      17.444613    0.452979   38.009862      0.942684  "
      ]
     },
     "execution_count": 149,
     "metadata": {},
     "output_type": "execute_result"
    }
   ],
   "source": [
    "df2.describe()"
   ]
  },
  {
   "attachments": {},
   "cell_type": "markdown",
   "metadata": {},
   "source": [
    "Notice how the number of rows the new data frame are unified and the mean and std for each column did not affect each other while masking and we have no 'na's"
   ]
  },
  {
   "cell_type": "code",
   "execution_count": 124,
   "metadata": {},
   "outputs": [
    {
     "data": {
      "text/html": [
       "<div>\n",
       "<style scoped>\n",
       "    .dataframe tbody tr th:only-of-type {\n",
       "        vertical-align: middle;\n",
       "    }\n",
       "\n",
       "    .dataframe tbody tr th {\n",
       "        vertical-align: top;\n",
       "    }\n",
       "\n",
       "    .dataframe thead th {\n",
       "        text-align: right;\n",
       "    }\n",
       "</style>\n",
       "<table border=\"1\" class=\"dataframe\">\n",
       "  <thead>\n",
       "    <tr style=\"text-align: right;\">\n",
       "      <th></th>\n",
       "      <th>Store</th>\n",
       "      <th>Date</th>\n",
       "      <th>Weekly_Sales</th>\n",
       "      <th>Holiday_Flag</th>\n",
       "      <th>Temperature</th>\n",
       "      <th>Fuel_Price</th>\n",
       "      <th>CPI</th>\n",
       "      <th>Unemployment</th>\n",
       "    </tr>\n",
       "  </thead>\n",
       "  <tbody>\n",
       "    <tr>\n",
       "      <th>0</th>\n",
       "      <td>6.0</td>\n",
       "      <td>2011-02-18</td>\n",
       "      <td>1572117.54</td>\n",
       "      <td>NaN</td>\n",
       "      <td>59.61</td>\n",
       "      <td>3.045</td>\n",
       "      <td>214.777523</td>\n",
       "      <td>6.858</td>\n",
       "    </tr>\n",
       "    <tr>\n",
       "      <th>1</th>\n",
       "      <td>13.0</td>\n",
       "      <td>2011-03-25</td>\n",
       "      <td>1807545.43</td>\n",
       "      <td>0.0</td>\n",
       "      <td>42.38</td>\n",
       "      <td>3.435</td>\n",
       "      <td>128.616064</td>\n",
       "      <td>7.470</td>\n",
       "    </tr>\n",
       "    <tr>\n",
       "      <th>3</th>\n",
       "      <td>11.0</td>\n",
       "      <td>NaT</td>\n",
       "      <td>1244390.03</td>\n",
       "      <td>0.0</td>\n",
       "      <td>84.57</td>\n",
       "      <td>NaN</td>\n",
       "      <td>214.556497</td>\n",
       "      <td>7.346</td>\n",
       "    </tr>\n",
       "    <tr>\n",
       "      <th>4</th>\n",
       "      <td>6.0</td>\n",
       "      <td>2010-05-28</td>\n",
       "      <td>1644470.66</td>\n",
       "      <td>0.0</td>\n",
       "      <td>78.89</td>\n",
       "      <td>2.759</td>\n",
       "      <td>212.412888</td>\n",
       "      <td>7.092</td>\n",
       "    </tr>\n",
       "    <tr>\n",
       "      <th>5</th>\n",
       "      <td>4.0</td>\n",
       "      <td>2010-05-28</td>\n",
       "      <td>1857533.70</td>\n",
       "      <td>0.0</td>\n",
       "      <td>NaN</td>\n",
       "      <td>2.756</td>\n",
       "      <td>126.160226</td>\n",
       "      <td>7.896</td>\n",
       "    </tr>\n",
       "  </tbody>\n",
       "</table>\n",
       "</div>"
      ],
      "text/plain": [
       "   Store       Date  Weekly_Sales  Holiday_Flag  Temperature  Fuel_Price   \n",
       "0    6.0 2011-02-18    1572117.54           NaN        59.61       3.045  \\\n",
       "1   13.0 2011-03-25    1807545.43           0.0        42.38       3.435   \n",
       "3   11.0        NaT    1244390.03           0.0        84.57         NaN   \n",
       "4    6.0 2010-05-28    1644470.66           0.0        78.89       2.759   \n",
       "5    4.0 2010-05-28    1857533.70           0.0          NaN       2.756   \n",
       "\n",
       "          CPI  Unemployment  \n",
       "0  214.777523         6.858  \n",
       "1  128.616064         7.470  \n",
       "3  214.556497         7.346  \n",
       "4  212.412888         7.092  \n",
       "5  126.160226         7.896  "
      ]
     },
     "execution_count": 124,
     "metadata": {},
     "output_type": "execute_result"
    }
   ],
   "source": [
    "df.head()"
   ]
  },
  {
   "cell_type": "code",
   "execution_count": 125,
   "metadata": {},
   "outputs": [
    {
     "data": {
      "text/html": [
       "<div>\n",
       "<style scoped>\n",
       "    .dataframe tbody tr th:only-of-type {\n",
       "        vertical-align: middle;\n",
       "    }\n",
       "\n",
       "    .dataframe tbody tr th {\n",
       "        vertical-align: top;\n",
       "    }\n",
       "\n",
       "    .dataframe thead th {\n",
       "        text-align: right;\n",
       "    }\n",
       "</style>\n",
       "<table border=\"1\" class=\"dataframe\">\n",
       "  <thead>\n",
       "    <tr style=\"text-align: right;\">\n",
       "      <th></th>\n",
       "      <th>Store</th>\n",
       "      <th>Date</th>\n",
       "      <th>Weekly_Sales</th>\n",
       "      <th>Holiday_Flag</th>\n",
       "      <th>Temperature</th>\n",
       "      <th>Fuel_Price</th>\n",
       "      <th>CPI</th>\n",
       "      <th>Unemployment</th>\n",
       "    </tr>\n",
       "  </thead>\n",
       "  <tbody>\n",
       "    <tr>\n",
       "      <th>0</th>\n",
       "      <td>6.0</td>\n",
       "      <td>2011-02-18</td>\n",
       "      <td>1572117.54</td>\n",
       "      <td>NaN</td>\n",
       "      <td>59.61</td>\n",
       "      <td>3.045</td>\n",
       "      <td>214.777523</td>\n",
       "      <td>6.858</td>\n",
       "    </tr>\n",
       "    <tr>\n",
       "      <th>1</th>\n",
       "      <td>13.0</td>\n",
       "      <td>2011-03-25</td>\n",
       "      <td>1807545.43</td>\n",
       "      <td>0.0</td>\n",
       "      <td>42.38</td>\n",
       "      <td>3.435</td>\n",
       "      <td>128.616064</td>\n",
       "      <td>7.470</td>\n",
       "    </tr>\n",
       "    <tr>\n",
       "      <th>4</th>\n",
       "      <td>6.0</td>\n",
       "      <td>2010-05-28</td>\n",
       "      <td>1644470.66</td>\n",
       "      <td>0.0</td>\n",
       "      <td>78.89</td>\n",
       "      <td>2.759</td>\n",
       "      <td>212.412888</td>\n",
       "      <td>7.092</td>\n",
       "    </tr>\n",
       "    <tr>\n",
       "      <th>6</th>\n",
       "      <td>15.0</td>\n",
       "      <td>2011-06-03</td>\n",
       "      <td>695396.19</td>\n",
       "      <td>0.0</td>\n",
       "      <td>69.80</td>\n",
       "      <td>4.069</td>\n",
       "      <td>134.855161</td>\n",
       "      <td>7.658</td>\n",
       "    </tr>\n",
       "    <tr>\n",
       "      <th>7</th>\n",
       "      <td>20.0</td>\n",
       "      <td>2012-02-03</td>\n",
       "      <td>2203523.20</td>\n",
       "      <td>0.0</td>\n",
       "      <td>39.93</td>\n",
       "      <td>3.617</td>\n",
       "      <td>213.023622</td>\n",
       "      <td>6.961</td>\n",
       "    </tr>\n",
       "  </tbody>\n",
       "</table>\n",
       "</div>"
      ],
      "text/plain": [
       "   Store       Date  Weekly_Sales  Holiday_Flag  Temperature  Fuel_Price   \n",
       "0    6.0 2011-02-18    1572117.54           NaN        59.61       3.045  \\\n",
       "1   13.0 2011-03-25    1807545.43           0.0        42.38       3.435   \n",
       "4    6.0 2010-05-28    1644470.66           0.0        78.89       2.759   \n",
       "6   15.0 2011-06-03     695396.19           0.0        69.80       4.069   \n",
       "7   20.0 2012-02-03    2203523.20           0.0        39.93       3.617   \n",
       "\n",
       "          CPI  Unemployment  \n",
       "0  214.777523         6.858  \n",
       "1  128.616064         7.470  \n",
       "4  212.412888         7.092  \n",
       "6  134.855161         7.658  \n",
       "7  213.023622         6.961  "
      ]
     },
     "execution_count": 125,
     "metadata": {},
     "output_type": "execute_result"
    }
   ],
   "source": [
    "df2.head()"
   ]
  },
  {
   "attachments": {},
   "cell_type": "markdown",
   "metadata": {},
   "source": [
    "## C) ML Preprocessing & Pipelines"
   ]
  },
  {
   "cell_type": "code",
   "execution_count": 65,
   "metadata": {},
   "outputs": [
    {
     "data": {
      "text/plain": [
       "Store                  float64\n",
       "Date            datetime64[ns]\n",
       "Weekly_Sales           float64\n",
       "Holiday_Flag           float64\n",
       "Temperature            float64\n",
       "Fuel_Price             float64\n",
       "CPI                    float64\n",
       "Unemployment           float64\n",
       "dtype: object"
      ]
     },
     "execution_count": 65,
     "metadata": {},
     "output_type": "execute_result"
    }
   ],
   "source": [
    "df2.dtypes"
   ]
  },
  {
   "cell_type": "code",
   "execution_count": 74,
   "metadata": {},
   "outputs": [],
   "source": [
    "# cancelled no need\n",
    "#df2['Holiday_Flag'] = df2['Holiday_Flag'].apply(lambda x: 'Y' if x == 1 else 'N')"
   ]
  },
  {
   "cell_type": "code",
   "execution_count": 84,
   "metadata": {},
   "outputs": [],
   "source": [
    "# it is preferred to change the column to string since it is a categorical feature\n",
    "\n",
    "df2['Store'] = df2['Store'].astype(str)"
   ]
  },
  {
   "attachments": {},
   "cell_type": "markdown",
   "metadata": {},
   "source": [
    "### C.1) splitting the features from the target"
   ]
  },
  {
   "cell_type": "code",
   "execution_count": 119,
   "metadata": {},
   "outputs": [
    {
     "name": "stdout",
     "output_type": "stream",
     "text": [
      "  Store Holiday_Flag  Temperature  Fuel_Price         CPI  Unemployment\n",
      "0   6.0            N    59.610000    3.045000  214.777523         6.858\n",
      "1  13.0            N    42.380000    3.435000  128.616064         7.470\n",
      "3  11.0            N    84.570000    3.316992  214.556497         7.346\n",
      "4   6.0            N    78.890000    2.759000  212.412888         7.092\n",
      "5   4.0            N    60.853967    2.756000  126.160226         7.896\n",
      "\n",
      "0    1572117.54\n",
      "1    1807545.43\n",
      "3    1244390.03\n",
      "4    1644470.66\n",
      "5    1857533.70\n",
      "Name: Weekly_Sales, dtype: float64\n"
     ]
    }
   ],
   "source": [
    "final_list = ['Store','Holiday_Flag','Temperature','Fuel_Price','CPI', 'Unemployment']\n",
    "x = df2.loc[:,final_list]\n",
    "y = df2['Weekly_Sales']\n",
    "\n",
    "print('The features dataset:')\n",
    "print(x.head())\n",
    "print()\n",
    "print('The label series:')\n",
    "print(y.head())\n"
   ]
  },
  {
   "attachments": {},
   "cell_type": "markdown",
   "metadata": {},
   "source": [
    "### Categorizing the feature types and splitting to train and test "
   ]
  },
  {
   "cell_type": "code",
   "execution_count": 120,
   "metadata": {},
   "outputs": [
    {
     "name": "stdout",
     "output_type": "stream",
     "text": [
      "  Store Holiday_Flag  Temperature  Fuel_Price         CPI  Unemployment\n",
      "0   6.0            N    59.610000    3.045000  214.777523         6.858\n",
      "1  13.0            N    42.380000    3.435000  128.616064         7.470\n",
      "3  11.0            N    84.570000    3.316992  214.556497         7.346\n",
      "4   6.0            N    78.890000    2.759000  212.412888         7.092\n",
      "5   4.0            N    60.853967    2.756000  126.160226         7.896\n",
      "\n",
      "0    1572117.54\n",
      "1    1807545.43\n",
      "3    1244390.03\n",
      "4    1644470.66\n",
      "5    1857533.70\n",
      "Name: Weekly_Sales, dtype: float64\n"
     ]
    }
   ],
   "source": [
    "numeric_features = [ 'Temperature', 'Fuel_Price', 'CPI', 'Unemployment']\n",
    "categorical_features = ['Holiday_Flag','Store']\n",
    "\n",
    "\n",
    "X_train, X_test, y_train, y_test = train_test_split(x,y,test_size=0.2,random_state=12)\n",
    "\n"
   ]
  },
  {
   "cell_type": "code",
   "execution_count": 122,
   "metadata": {},
   "outputs": [],
   "source": [
    "# Create pipeline for numeric features\n",
    "\n",
    "numeric_transformer = Pipeline(steps=[\n",
    "    ('imputer', SimpleImputer(strategy='mean')), # in our case this will be used in the Unmployment column\n",
    "    ('scaler', StandardScaler())\n",
    "])\n",
    "\n",
    "\n",
    "\n",
    "# Create pipeline for categorical features\n",
    "\n",
    "# this is for the holidays flag column, we must consider it as a categorila feature and not a numeric one\n",
    "\n",
    "categorical_transformer = Pipeline(\n",
    "    steps=[\n",
    "    ('imputer', SimpleImputer(strategy='most_frequent')), # missing values will be replaced by most frequent value\n",
    "    ('encoder', OneHotEncoder(drop='first')) # first column will be dropped to avoid creating correlations between features\n",
    "    ])"
   ]
  },
  {
   "cell_type": "code",
   "execution_count": 123,
   "metadata": {},
   "outputs": [],
   "source": [
    "# Use ColumnTransformer to make a preprocessor object that describes all the treatments to be done\n",
    "preprocessor = ColumnTransformer(\n",
    "    transformers=[\n",
    "        ('num', numeric_transformer, numeric_features),\n",
    "        ('cat', categorical_transformer, categorical_features)\n",
    "    ])\n",
    "\n"
   ]
  },
  {
   "cell_type": "code",
   "execution_count": 124,
   "metadata": {},
   "outputs": [
    {
     "name": "stdout",
     "output_type": "stream",
     "text": [
      "Performing preprocessings on train set...\n",
      "   Store Holiday_Flag  Temperature  Fuel_Price         CPI  Unemployment\n",
      "89   2.0            N        76.42       3.786  215.154482         7.931\n",
      "63   5.0            N        69.17       3.594  224.019287         5.422\n",
      "50  13.0            N        61.11       3.788  130.959226         5.965\n",
      "10   8.0            N        82.92       3.554  219.070197         6.425\n",
      "11  18.0            N        52.02       2.878  132.763355         9.331\n",
      "\n",
      "...Done.\n",
      "  (0, 0)\t0.8871993301852785\n",
      "  (0, 1)\t1.0319553926991747\n",
      "  (0, 2)\t0.9418105339322878\n",
      "  (0, 3)\t0.5128730927917755\n",
      "  (0, 14)\t1.0\n",
      "  (1, 0)\t0.46159700716036506\n",
      "  (1, 1)\t0.6192647064278891\n",
      "  (1, 2)\t1.170524013254484\n",
      "  (1, 3)\t-2.057452836592422\n",
      "  (1, 18)\t1.0\n",
      "  (2, 0)\t-0.011555368505952764\n",
      "  (2, 1)\t1.0362542540145\n",
      "  (2, 2)\t-1.2304414012702571\n",
      "  (2, 3)\t-1.5011806246930135\n",
      "  (2, 7)\t1.0\n",
      "  (3, 0)\t1.2687738266903734\n",
      "  (3, 1)\t0.5332874801213713\n",
      "  (3, 2)\t1.0428366366041597\n",
      "  (3, 3)\t-1.0299371302662572\n",
      "  (3, 21)\t1.0\n",
      "  (4, 0)\t-0.5451726259261545\n",
      "  (4, 1)\t-0.919727644458778\n",
      "  (4, 2)\t-1.1838945662207108\n",
      "  (4, 3)\t1.9470924236558158\n",
      "  (4, 12)\t1.0\n",
      "\n"
     ]
    }
   ],
   "source": [
    "# Preprocessings on train set\n",
    "print(\"Performing preprocessings on train set...\")\n",
    "print(X_train.head())\n",
    "print()\n",
    "\n",
    "X_train = preprocessor.fit_transform(X_train)\n",
    "\n",
    "print('...train set transformed and processed.')\n",
    "print()\n",
    "\n",
    "print(X_train[0:5]) \n",
    "print()\n"
   ]
  },
  {
   "attachments": {},
   "cell_type": "markdown",
   "metadata": {},
   "source": [
    "Notice the X_train sample, why is it like this and not the usual shape that we know.\n",
    "this is because it has become a sparce dense matrix with plenty of zero this is due to the oneHotEncoder implementted on the stores column which are too many, 20 stores "
   ]
  },
  {
   "cell_type": "code",
   "execution_count": 97,
   "metadata": {},
   "outputs": [
    {
     "name": "stdout",
     "output_type": "stream",
     "text": [
      "Performing preprocessings on test set...\n",
      "    Store Holiday_Flag  Temperature  Fuel_Price         CPI  Unemployment\n",
      "128  13.0            N        75.95    3.606000  129.201581         6.877\n",
      "79   20.0            N        69.37    3.316992  178.091144         7.527\n",
      "82   11.0            N        52.77    3.510000  223.917015         6.833\n",
      "73    1.0            N        85.22    2.619000  211.567306         7.787\n",
      "21    5.0            N        77.38    3.899000  216.534361         6.489\n",
      "...Done.\n",
      "  (0, 0)\t0.8596085588995256\n",
      "  (0, 1)\t0.6450578743198445\n",
      "  (0, 2)\t-1.2757889463737535\n",
      "  (0, 3)\t-0.566889174873008\n",
      "  (0, 7)\t1.0\n",
      "  (1, 0)\t0.4733377608989835\n",
      "  (1, 1)\t0.023855080137047277\n",
      "  (1, 2)\t-0.014429894292565894\n",
      "  (1, 3)\t0.09899837159958091\n",
      "  (1, 15)\t1.0\n",
      "  (2, 0)\t-0.5011447994063358\n",
      "  (2, 1)\t0.4387125311842017\n",
      "  (2, 2)\t1.1678853782598762\n",
      "  (2, 3)\t-0.6119646395573097\n",
      "  (2, 6)\t1.0\n",
      "  (3, 0)\t1.4037924946844837\n",
      "  (3, 1)\t-1.4764301847934802\n",
      "  (3, 2)\t0.8492607675387589\n",
      "  (3, 3)\t0.36535339018861773\n",
      "  (4, 0)\t0.9435549481306461\n",
      "  (4, 1)\t1.2748410570150872\n",
      "  (4, 2)\t0.9774116442446047\n",
      "  (4, 3)\t-0.9643728179981867\n",
      "  (4, 18)\t1.0\n",
      "\n"
     ]
    }
   ],
   "source": [
    "print(\"And now preprocessings the test set...\")\n",
    "\n",
    "print(X_test.head()) \n",
    "\n",
    "X_test = preprocessor.transform(X_test) # DON'T USE FIT otherwise data leakage\n",
    "\n",
    "\n",
    "print('...Done.')\n",
    "print(X_test[0:5,:]) \n",
    "print()"
   ]
  },
  {
   "attachments": {},
   "cell_type": "markdown",
   "metadata": {},
   "source": [
    "## Model training"
   ]
  },
  {
   "cell_type": "code",
   "execution_count": 98,
   "metadata": {},
   "outputs": [],
   "source": [
    "model_linear = LinearRegression()\n"
   ]
  },
  {
   "cell_type": "code",
   "execution_count": 99,
   "metadata": {},
   "outputs": [
    {
     "data": {
      "text/html": [
       "<style>#sk-container-id-4 {color: black;background-color: white;}#sk-container-id-4 pre{padding: 0;}#sk-container-id-4 div.sk-toggleable {background-color: white;}#sk-container-id-4 label.sk-toggleable__label {cursor: pointer;display: block;width: 100%;margin-bottom: 0;padding: 0.3em;box-sizing: border-box;text-align: center;}#sk-container-id-4 label.sk-toggleable__label-arrow:before {content: \"▸\";float: left;margin-right: 0.25em;color: #696969;}#sk-container-id-4 label.sk-toggleable__label-arrow:hover:before {color: black;}#sk-container-id-4 div.sk-estimator:hover label.sk-toggleable__label-arrow:before {color: black;}#sk-container-id-4 div.sk-toggleable__content {max-height: 0;max-width: 0;overflow: hidden;text-align: left;background-color: #f0f8ff;}#sk-container-id-4 div.sk-toggleable__content pre {margin: 0.2em;color: black;border-radius: 0.25em;background-color: #f0f8ff;}#sk-container-id-4 input.sk-toggleable__control:checked~div.sk-toggleable__content {max-height: 200px;max-width: 100%;overflow: auto;}#sk-container-id-4 input.sk-toggleable__control:checked~label.sk-toggleable__label-arrow:before {content: \"▾\";}#sk-container-id-4 div.sk-estimator input.sk-toggleable__control:checked~label.sk-toggleable__label {background-color: #d4ebff;}#sk-container-id-4 div.sk-label input.sk-toggleable__control:checked~label.sk-toggleable__label {background-color: #d4ebff;}#sk-container-id-4 input.sk-hidden--visually {border: 0;clip: rect(1px 1px 1px 1px);clip: rect(1px, 1px, 1px, 1px);height: 1px;margin: -1px;overflow: hidden;padding: 0;position: absolute;width: 1px;}#sk-container-id-4 div.sk-estimator {font-family: monospace;background-color: #f0f8ff;border: 1px dotted black;border-radius: 0.25em;box-sizing: border-box;margin-bottom: 0.5em;}#sk-container-id-4 div.sk-estimator:hover {background-color: #d4ebff;}#sk-container-id-4 div.sk-parallel-item::after {content: \"\";width: 100%;border-bottom: 1px solid gray;flex-grow: 1;}#sk-container-id-4 div.sk-label:hover label.sk-toggleable__label {background-color: #d4ebff;}#sk-container-id-4 div.sk-serial::before {content: \"\";position: absolute;border-left: 1px solid gray;box-sizing: border-box;top: 0;bottom: 0;left: 50%;z-index: 0;}#sk-container-id-4 div.sk-serial {display: flex;flex-direction: column;align-items: center;background-color: white;padding-right: 0.2em;padding-left: 0.2em;position: relative;}#sk-container-id-4 div.sk-item {position: relative;z-index: 1;}#sk-container-id-4 div.sk-parallel {display: flex;align-items: stretch;justify-content: center;background-color: white;position: relative;}#sk-container-id-4 div.sk-item::before, #sk-container-id-4 div.sk-parallel-item::before {content: \"\";position: absolute;border-left: 1px solid gray;box-sizing: border-box;top: 0;bottom: 0;left: 50%;z-index: -1;}#sk-container-id-4 div.sk-parallel-item {display: flex;flex-direction: column;z-index: 1;position: relative;background-color: white;}#sk-container-id-4 div.sk-parallel-item:first-child::after {align-self: flex-end;width: 50%;}#sk-container-id-4 div.sk-parallel-item:last-child::after {align-self: flex-start;width: 50%;}#sk-container-id-4 div.sk-parallel-item:only-child::after {width: 0;}#sk-container-id-4 div.sk-dashed-wrapped {border: 1px dashed gray;margin: 0 0.4em 0.5em 0.4em;box-sizing: border-box;padding-bottom: 0.4em;background-color: white;}#sk-container-id-4 div.sk-label label {font-family: monospace;font-weight: bold;display: inline-block;line-height: 1.2em;}#sk-container-id-4 div.sk-label-container {text-align: center;}#sk-container-id-4 div.sk-container {/* jupyter's `normalize.less` sets `[hidden] { display: none; }` but bootstrap.min.css set `[hidden] { display: none !important; }` so we also need the `!important` here to be able to override the default hidden behavior on the sphinx rendered scikit-learn.org. See: https://github.com/scikit-learn/scikit-learn/issues/21755 */display: inline-block !important;position: relative;}#sk-container-id-4 div.sk-text-repr-fallback {display: none;}</style><div id=\"sk-container-id-4\" class=\"sk-top-container\"><div class=\"sk-text-repr-fallback\"><pre>LinearRegression()</pre><b>In a Jupyter environment, please rerun this cell to show the HTML representation or trust the notebook. <br />On GitHub, the HTML representation is unable to render, please try loading this page with nbviewer.org.</b></div><div class=\"sk-container\" hidden><div class=\"sk-item\"><div class=\"sk-estimator sk-toggleable\"><input class=\"sk-toggleable__control sk-hidden--visually\" id=\"sk-estimator-id-4\" type=\"checkbox\" checked><label for=\"sk-estimator-id-4\" class=\"sk-toggleable__label sk-toggleable__label-arrow\">LinearRegression</label><div class=\"sk-toggleable__content\"><pre>LinearRegression()</pre></div></div></div></div></div>"
      ],
      "text/plain": [
       "LinearRegression()"
      ]
     },
     "execution_count": 99,
     "metadata": {},
     "output_type": "execute_result"
    }
   ],
   "source": [
    "model_linear.fit(X_train,y_train)"
   ]
  },
  {
   "cell_type": "code",
   "execution_count": 100,
   "metadata": {},
   "outputs": [
    {
     "name": "stdout",
     "output_type": "stream",
     "text": [
      "Accuracy on training set :  0.9662213305521965\n",
      "Accuracy on test set :  0.9201952696277663\n"
     ]
    }
   ],
   "source": [
    "print(\"Accuracy on training set : \", model_linear.score(X_train, y_train)) # Here, the features must be passed first, and then the true label\n",
    "print(\"Accuracy on test set : \", model_linear.score(X_test, y_test))"
   ]
  },
  {
   "attachments": {},
   "cell_type": "markdown",
   "metadata": {},
   "source": [
    "The results are wonderful, \n",
    "1. No huge difference between the training and the test accuracy results \"only 4%\".\n",
    "2. In addition both values are high. \n",
    "3. No indication of huge overfitting since no significant difference between the training and test accuracy\n",
    "The overfitting case occurs when there's an excellent training score and bad test score. meaning that it only learnt by heart the training set and only knows the training set, if any other data is passed it would fail.\n",
    "\n",
    "this is not our case, However, let's check if we coul dimprove it more sing either engineering features or the regressors Ridge and Lasso.\n",
    "\n",
    "BUt before that let's investigate the co-efficients"
   ]
  },
  {
   "cell_type": "code",
   "execution_count": 101,
   "metadata": {},
   "outputs": [
    {
     "name": "stdout",
     "output_type": "stream",
     "text": [
      "R2 score on training set :  0.9662213305521965\n",
      "R2 score on test set :  0.9201952696277663\n"
     ]
    }
   ],
   "source": [
    "Y_train_pred = model_linear.predict(X_train)\n",
    "Y_test_pred = model_linear.predict(X_test)\n",
    "\n",
    "print(\"R2 score on training set : \", r2_score(y_train, Y_train_pred))\n",
    "print(\"R2 score on test set : \", r2_score(y_test, Y_test_pred))\n"
   ]
  },
  {
   "attachments": {},
   "cell_type": "markdown",
   "metadata": {},
   "source": [
    "## model Co efficients:"
   ]
  },
  {
   "cell_type": "code",
   "execution_count": 102,
   "metadata": {},
   "outputs": [
    {
     "data": {
      "text/plain": [
       "array([  -18874.90901376,   -50994.70371245,   198924.10643282,\n",
       "         -37369.19317447,    26501.8002835 ,   766219.67556464,\n",
       "         -93047.08504421,   874180.4905529 ,   652393.64515598,\n",
       "        -460915.04447173,  -978467.25327016,  -287055.48790376,\n",
       "          15204.34606234,   306329.61235054,   297861.19476641,\n",
       "         442439.40265071, -1176913.42309146,  1019903.82574477,\n",
       "       -1314669.00751744,   -36251.36942406,  -929885.53593959,\n",
       "        -747414.87991149, -1143052.09532149])"
      ]
     },
     "execution_count": 102,
     "metadata": {},
     "output_type": "execute_result"
    }
   ],
   "source": [
    "model_linear.coef_"
   ]
  },
  {
   "cell_type": "code",
   "execution_count": 55,
   "metadata": {},
   "outputs": [
    {
     "name": "stdout",
     "output_type": "stream",
     "text": [
      "Names of columns corresponding to each coefficient:  ['Temperature', 'Fuel_Price', 'CPI', 'Unemployment', 'x0_1.0', 'x1_2.0', 'x1_3.0', 'x1_4.0', 'x1_5.0', 'x1_6.0', 'x1_7.0', 'x1_8.0', 'x1_9.0', 'x1_10.0', 'x1_11.0', 'x1_13.0', 'x1_14.0', 'x1_15.0', 'x1_16.0', 'x1_17.0', 'x1_18.0', 'x1_19.0', 'x1_20.0']\n"
     ]
    }
   ],
   "source": [
    "column_names = []\n",
    "for name, pipeline, features_list in preprocessor.transformers_: # loop over pipelines\n",
    "    if name == 'num': # if pipeline is for numeric variables\n",
    "        features = features_list # just get the names of columns to which it has been applied\n",
    "    else: # if pipeline is for categorical variables\n",
    "        features = pipeline.named_steps['encoder'].get_feature_names_out() # get output columns names from OneHotEncoder\n",
    "    column_names.extend(features) # concatenate features names\n",
    "        \n",
    "print(\"Names of columns corresponding to each coefficient: \", column_names)"
   ]
  },
  {
   "cell_type": "code",
   "execution_count": 57,
   "metadata": {},
   "outputs": [
    {
     "data": {
      "text/html": [
       "<div>\n",
       "<style scoped>\n",
       "    .dataframe tbody tr th:only-of-type {\n",
       "        vertical-align: middle;\n",
       "    }\n",
       "\n",
       "    .dataframe tbody tr th {\n",
       "        vertical-align: top;\n",
       "    }\n",
       "\n",
       "    .dataframe thead th {\n",
       "        text-align: right;\n",
       "    }\n",
       "</style>\n",
       "<table border=\"1\" class=\"dataframe\">\n",
       "  <thead>\n",
       "    <tr style=\"text-align: right;\">\n",
       "      <th></th>\n",
       "      <th>coefficients</th>\n",
       "    </tr>\n",
       "  </thead>\n",
       "  <tbody>\n",
       "    <tr>\n",
       "      <th>Temperature</th>\n",
       "      <td>-1.887491e+04</td>\n",
       "    </tr>\n",
       "    <tr>\n",
       "      <th>Fuel_Price</th>\n",
       "      <td>-5.099470e+04</td>\n",
       "    </tr>\n",
       "    <tr>\n",
       "      <th>CPI</th>\n",
       "      <td>1.989241e+05</td>\n",
       "    </tr>\n",
       "    <tr>\n",
       "      <th>Unemployment</th>\n",
       "      <td>-3.736919e+04</td>\n",
       "    </tr>\n",
       "    <tr>\n",
       "      <th>x0_1.0</th>\n",
       "      <td>2.650180e+04</td>\n",
       "    </tr>\n",
       "    <tr>\n",
       "      <th>x1_2.0</th>\n",
       "      <td>2.978612e+05</td>\n",
       "    </tr>\n",
       "    <tr>\n",
       "      <th>x1_3.0</th>\n",
       "      <td>-1.176913e+06</td>\n",
       "    </tr>\n",
       "    <tr>\n",
       "      <th>x1_4.0</th>\n",
       "      <td>1.019904e+06</td>\n",
       "    </tr>\n",
       "    <tr>\n",
       "      <th>x1_5.0</th>\n",
       "      <td>-1.314669e+06</td>\n",
       "    </tr>\n",
       "    <tr>\n",
       "      <th>x1_6.0</th>\n",
       "      <td>-3.625137e+04</td>\n",
       "    </tr>\n",
       "    <tr>\n",
       "      <th>x1_7.0</th>\n",
       "      <td>-9.298855e+05</td>\n",
       "    </tr>\n",
       "    <tr>\n",
       "      <th>x1_8.0</th>\n",
       "      <td>-7.474149e+05</td>\n",
       "    </tr>\n",
       "    <tr>\n",
       "      <th>x1_9.0</th>\n",
       "      <td>-1.143052e+06</td>\n",
       "    </tr>\n",
       "    <tr>\n",
       "      <th>x1_10.0</th>\n",
       "      <td>7.662197e+05</td>\n",
       "    </tr>\n",
       "    <tr>\n",
       "      <th>x1_11.0</th>\n",
       "      <td>-9.304709e+04</td>\n",
       "    </tr>\n",
       "    <tr>\n",
       "      <th>x1_13.0</th>\n",
       "      <td>8.741805e+05</td>\n",
       "    </tr>\n",
       "    <tr>\n",
       "      <th>x1_14.0</th>\n",
       "      <td>6.523936e+05</td>\n",
       "    </tr>\n",
       "    <tr>\n",
       "      <th>x1_15.0</th>\n",
       "      <td>-4.609150e+05</td>\n",
       "    </tr>\n",
       "    <tr>\n",
       "      <th>x1_16.0</th>\n",
       "      <td>-9.784673e+05</td>\n",
       "    </tr>\n",
       "    <tr>\n",
       "      <th>x1_17.0</th>\n",
       "      <td>-2.870555e+05</td>\n",
       "    </tr>\n",
       "    <tr>\n",
       "      <th>x1_18.0</th>\n",
       "      <td>1.520435e+04</td>\n",
       "    </tr>\n",
       "    <tr>\n",
       "      <th>x1_19.0</th>\n",
       "      <td>3.063296e+05</td>\n",
       "    </tr>\n",
       "    <tr>\n",
       "      <th>x1_20.0</th>\n",
       "      <td>4.424394e+05</td>\n",
       "    </tr>\n",
       "  </tbody>\n",
       "</table>\n",
       "</div>"
      ],
      "text/plain": [
       "              coefficients\n",
       "Temperature  -1.887491e+04\n",
       "Fuel_Price   -5.099470e+04\n",
       "CPI           1.989241e+05\n",
       "Unemployment -3.736919e+04\n",
       "x0_1.0        2.650180e+04\n",
       "x1_2.0        2.978612e+05\n",
       "x1_3.0       -1.176913e+06\n",
       "x1_4.0        1.019904e+06\n",
       "x1_5.0       -1.314669e+06\n",
       "x1_6.0       -3.625137e+04\n",
       "x1_7.0       -9.298855e+05\n",
       "x1_8.0       -7.474149e+05\n",
       "x1_9.0       -1.143052e+06\n",
       "x1_10.0       7.662197e+05\n",
       "x1_11.0      -9.304709e+04\n",
       "x1_13.0       8.741805e+05\n",
       "x1_14.0       6.523936e+05\n",
       "x1_15.0      -4.609150e+05\n",
       "x1_16.0      -9.784673e+05\n",
       "x1_17.0      -2.870555e+05\n",
       "x1_18.0       1.520435e+04\n",
       "x1_19.0       3.063296e+05\n",
       "x1_20.0       4.424394e+05"
      ]
     },
     "execution_count": 57,
     "metadata": {},
     "output_type": "execute_result"
    }
   ],
   "source": [
    "# Create a pandas DataFrame\n",
    "coefs = pd.DataFrame(index = column_names, data = model.coef_.transpose(), columns=[\"coefficients\"])\n",
    "coefs"
   ]
  },
  {
   "attachments": {},
   "cell_type": "markdown",
   "metadata": {},
   "source": [
    "# Create a pandas DataFrame\n",
    "coefs = pd.DataFrame(index = column_names, data = regressor.coef_.transpose(), columns=[\"coefficients\"])\n",
    "coefs"
   ]
  },
  {
   "cell_type": "code",
   "execution_count": 127,
   "metadata": {},
   "outputs": [
    {
     "name": "stdout",
     "output_type": "stream",
     "text": [
      "Temperature: -18874.909013755027\n",
      "Fuel_Price: -50994.70371244922\n",
      "CPI: 198924.10643281622\n",
      "Unemployment: -37369.19317446862\n",
      "Holiday_Flag_Y: 26501.800283496792\n",
      "Store_10.0: 766219.675564637\n",
      "Store_11.0: -93047.08504421315\n",
      "Store_13.0: 874180.490552895\n",
      "Store_14.0: 652393.6451559784\n",
      "Store_15.0: -460915.0444717274\n",
      "Store_16.0: -978467.2532701641\n",
      "Store_17.0: -287055.48790376156\n",
      "Store_18.0: 15204.346062341638\n",
      "Store_19.0: 306329.6123505404\n",
      "Store_2.0: 297861.19476641\n",
      "Store_20.0: 442439.4026507138\n",
      "Store_3.0: -1176913.4230914586\n",
      "Store_4.0: 1019903.8257447692\n",
      "Store_5.0: -1314669.0075174375\n",
      "Store_6.0: -36251.36942406133\n",
      "Store_7.0: -929885.5359395852\n",
      "Store_8.0: -747414.8799114854\n",
      "Store_9.0: -1143052.095321491\n",
      "           Feature   Coefficient\n",
      "17       Store_4.0  1.019904e+06\n",
      "7       Store_13.0  8.741805e+05\n",
      "5       Store_10.0  7.662197e+05\n",
      "8       Store_14.0  6.523936e+05\n",
      "15      Store_20.0  4.424394e+05\n",
      "13      Store_19.0  3.063296e+05\n",
      "14       Store_2.0  2.978612e+05\n",
      "2              CPI  1.989241e+05\n",
      "4   Holiday_Flag_Y  2.650180e+04\n",
      "12      Store_18.0  1.520435e+04\n",
      "0      Temperature -1.887491e+04\n",
      "19       Store_6.0 -3.625137e+04\n",
      "3     Unemployment -3.736919e+04\n",
      "1       Fuel_Price -5.099470e+04\n",
      "6       Store_11.0 -9.304709e+04\n",
      "11      Store_17.0 -2.870555e+05\n",
      "9       Store_15.0 -4.609150e+05\n",
      "21       Store_8.0 -7.474149e+05\n",
      "20       Store_7.0 -9.298855e+05\n",
      "10      Store_16.0 -9.784673e+05\n",
      "22       Store_9.0 -1.143052e+06\n",
      "16       Store_3.0 -1.176913e+06\n",
      "18       Store_5.0 -1.314669e+06\n"
     ]
    }
   ],
   "source": [
    "# Assuming you have trained your model and obtained the coefficients\n",
    "\n",
    "# Step 1: Get the coefficients\n",
    "coefficients = model.coef_\n",
    "\n",
    "# Step 2: Get the feature names\n",
    "feature_names = []\n",
    "\n",
    "# Assuming you used the ColumnTransformer to preprocess your data\n",
    "for transformer_in_columns in preprocessor.transformers_:\n",
    "    transformer_name, transformer, columns = transformer_in_columns\n",
    "    if transformer_name == 'num':\n",
    "        feature_names.extend(columns)\n",
    "    elif transformer_name == 'cat':\n",
    "        one_hot_encoder = transformer.named_steps['encoder']\n",
    "        feature_names.extend(one_hot_encoder.get_feature_names_out(columns))\n",
    "\n",
    "# Step 3: Match coefficients with feature names\n",
    "coefficients_with_features = dict(zip(feature_names, coefficients))\n",
    "\n",
    "# Print the coefficients with their corresponding feature names\n",
    "for feature, coefficient in coefficients_with_features.items():\n",
    "    print(f\"{feature}: {coefficient}\")\n",
    "\n",
    "coefficients_df = pd.DataFrame({'Feature': feature_names, 'Coefficient': coefficients})\n",
    "\n",
    "# Step 4: Sort the DataFrame in descending order based on coefficient magnitude\n",
    "coefficients_df = coefficients_df.sort_values(by='Coefficient', ascending=False)\n",
    "\n",
    "\n",
    "# Print the sorted DataFrame\n",
    "print(coefficients_df)"
   ]
  },
  {
   "attachments": {},
   "cell_type": "markdown",
   "metadata": {},
   "source": [
    "Regressor"
   ]
  },
  {
   "cell_type": "code",
   "execution_count": 132,
   "metadata": {},
   "outputs": [
    {
     "name": "stdout",
     "output_type": "stream",
     "text": [
      "3-fold cross-validation...\n",
      "The cross-validated R2-score is :  0.9267035624854393\n",
      "The standard deviation is :  0.01619758906143055\n",
      "The cross-validated R2-score is :  0.8476556737731308\n",
      "The standard deviation is :  0.02657474230307866\n",
      "The cross-validated R2-score is :  0.9156525066483695\n",
      "The standard deviation is :  0.0064732957495451495\n"
     ]
    }
   ],
   "source": [
    "# Perform 3-fold cross-validation to evaluate the generalized R2 score obtained with a Ridge model\n",
    "# usually the values chosen for k are 3, 5 or 10\n",
    "\n",
    "print(\"3-fold cross-validation...\")\n",
    "model_regressor = Ridge(0)\n",
    "scores = cross_val_score(model_regressor, X_train, y_train, cv=3)\n",
    "print('The cross-validated R2-score is : ', scores.mean())\n",
    "print('The standard deviation is : ', scores.std())\n",
    "\n",
    "model_regressor = Ridge(1)\n",
    "scores = cross_val_score(model_regressor, X_train, y_train, cv=3)\n",
    "print('The cross-validated R2-score is : ', scores.mean())\n",
    "print('The standard deviation is : ', scores.std())\n",
    "\n",
    "\n",
    "model_regressor = Ridge(0.3)\n",
    "scores = cross_val_score(model_regressor, X_train, y_train, cv=3)\n",
    "print('The cross-validated R2-score is : ', scores.mean())\n",
    "print('The standard deviation is : ', scores.std())"
   ]
  },
  {
   "cell_type": "code",
   "execution_count": 129,
   "metadata": {},
   "outputs": [
    {
     "name": "stdout",
     "output_type": "stream",
     "text": [
      "Grid search...\n",
      "...Done.\n",
      "Best hyperparameters :  {'alpha': 0.1}\n",
      "Best R2 score :  0.9293317637533356\n"
     ]
    }
   ],
   "source": [
    "# Perform grid search\n",
    "print(\"Grid search...\")\n",
    "model_regressor = Ridge()\n",
    "# Grid of values to be tested\n",
    "params = {\n",
    "    'alpha': [0.0, 0.1, 0.5, 1.0, 2] # 0 corresponds to no regularization\n",
    "}\n",
    "gridsearch = GridSearchCV(model_regressor, param_grid = params, cv = 3) # cv : the number of folds to be used for CV\n",
    "\n",
    "print(\"Trying various hyperparameters and searching the optimum results.\")\n",
    "\n",
    "gridsearch.fit(X_train, y_train)\n",
    "print(\"...Done.\")\n",
    "print(\"Best hyperparameters : \", gridsearch.best_params_)\n",
    "print(\"Best R2 score : \", gridsearch.best_score_)"
   ]
  },
  {
   "cell_type": "code",
   "execution_count": 142,
   "metadata": {},
   "outputs": [
    {
     "name": "stdout",
     "output_type": "stream",
     "text": [
      "Grid search...\n",
      "Trying various hyperparameters and searching the optimum results.\n",
      "...Done.\n",
      "Best hyperparameters :  {'alpha': 200}\n",
      "Best R2 score :  0.9292495504331088\n"
     ]
    }
   ],
   "source": [
    "# Perform grid search\n",
    "print(\"Grid search...\")\n",
    "model_regressor_lasso = Lasso()\n",
    "# Grid of values to be tested\n",
    "params = {\n",
    "    'alpha': [1, 2, 3, 5, 10, 20, 200] \n",
    "}\n",
    "gridsearch = GridSearchCV(model_regressor_lasso, param_grid = params, cv = 3) # cv : the number of folds to be used for CV\n",
    "\n",
    "print(\"Trying various hyperparameters and searching the optimum results.\")\n",
    "\n",
    "gridsearch.fit(X_train, y_train)\n",
    "print(\"...Done.\")\n",
    "print(\"Best hyperparameters : \", gridsearch.best_params_)\n",
    "print(\"Best R2 score : \", gridsearch.best_score_)"
   ]
  },
  {
   "attachments": {},
   "cell_type": "markdown",
   "metadata": {},
   "source": [
    "Preleminary Analysis"
   ]
  },
  {
   "cell_type": "code",
   "execution_count": 42,
   "metadata": {},
   "outputs": [],
   "source": [
    "import plotly.express as px"
   ]
  },
  {
   "cell_type": "code",
   "execution_count": 62,
   "metadata": {},
   "outputs": [
    {
     "data": {
      "application/vnd.plotly.v1+json": {
       "config": {
        "plotlyServerURL": "https://plot.ly"
       },
       "data": [
        {
         "hovertemplate": "Date=%{x}<br>Weekly_Sales=%{y}<extra></extra>",
         "legendgroup": "",
         "marker": {
          "color": "#636efa",
          "symbol": "circle"
         },
         "mode": "markers",
         "name": "",
         "orientation": "v",
         "showlegend": false,
         "type": "scatter",
         "x": [
          "2011-02-18T00:00:00",
          "2011-03-25T00:00:00",
          null,
          "2010-05-28T00:00:00",
          "2010-05-28T00:00:00",
          "2011-03-06T00:00:00",
          "2012-03-02T00:00:00",
          "2010-10-12T00:00:00",
          null,
          "2011-08-19T00:00:00",
          "2010-10-15T00:00:00",
          "2011-05-13T00:00:00",
          "2012-03-16T00:00:00",
          "2010-01-10T00:00:00",
          "2010-04-30T00:00:00",
          "2010-08-20T00:00:00",
          null,
          "2011-12-16T00:00:00",
          "2010-02-04T00:00:00",
          "2011-05-13T00:00:00",
          "2012-12-10T00:00:00",
          "2010-03-26T00:00:00",
          "2012-04-05T00:00:00",
          "2012-12-10T00:00:00",
          "2012-01-13T00:00:00",
          "2011-05-20T00:00:00",
          "2010-04-16T00:00:00",
          "2011-08-26T00:00:00",
          "2011-06-05T00:00:00",
          "2012-10-02T00:00:00",
          "2012-10-02T00:00:00",
          null,
          "2011-03-25T00:00:00",
          "2011-09-23T00:00:00",
          "2011-04-15T00:00:00",
          "2011-06-24T00:00:00",
          "2011-11-11T00:00:00",
          "2012-04-27T00:00:00",
          "2012-09-14T00:00:00",
          null,
          "2011-08-26T00:00:00",
          "2010-12-02T00:00:00",
          "2012-02-24T00:00:00",
          "2010-07-30T00:00:00",
          "2010-02-07T00:00:00",
          "2011-05-08T00:00:00",
          "2012-03-30T00:00:00",
          "2012-01-06T00:00:00",
          "2010-12-11T00:00:00",
          "2010-06-25T00:00:00",
          "2011-03-25T00:00:00",
          "2012-06-07T00:00:00",
          "2011-09-23T00:00:00",
          "2010-08-27T00:00:00",
          "2010-07-30T00:00:00",
          "2012-02-17T00:00:00",
          "2011-06-05T00:00:00",
          "2012-02-03T00:00:00",
          "2010-12-17T00:00:00",
          "2012-10-19T00:00:00",
          "2011-12-16T00:00:00",
          null,
          "2010-06-08T00:00:00",
          "2010-05-02T00:00:00",
          "2011-12-08T00:00:00",
          "2010-12-17T00:00:00",
          "2010-10-12T00:00:00",
          "2010-08-27T00:00:00",
          "2012-10-19T00:00:00",
          "2010-06-25T00:00:00",
          "2012-03-16T00:00:00",
          "2011-11-18T00:00:00",
          "2010-09-24T00:00:00",
          "2010-11-19T00:00:00",
          null,
          null,
          null,
          "2011-07-01T00:00:00",
          null,
          "2012-11-05T00:00:00",
          null,
          null,
          "2010-09-07T00:00:00",
          null,
          null,
          "2011-05-27T00:00:00",
          "2011-07-15T00:00:00",
          "2010-05-14T00:00:00",
          "2010-12-03T00:00:00",
          "2010-04-30T00:00:00",
          "2010-06-25T00:00:00",
          "2010-02-07T00:00:00",
          "2010-06-18T00:00:00",
          "2012-06-01T00:00:00",
          null,
          "2010-10-12T00:00:00",
          "2012-06-22T00:00:00",
          "2010-07-30T00:00:00",
          "2010-02-26T00:00:00",
          "2010-12-02T00:00:00",
          "2010-05-28T00:00:00",
          "2010-12-31T00:00:00",
          "2012-06-22T00:00:00",
          "2010-02-19T00:00:00",
          "2012-01-20T00:00:00",
          "2010-11-26T00:00:00",
          "2010-02-19T00:00:00",
          "2012-04-20T00:00:00",
          "2010-06-18T00:00:00",
          "2011-07-01T00:00:00",
          "2010-09-17T00:00:00",
          "2011-07-29T00:00:00",
          "2012-07-09T00:00:00",
          "2011-05-27T00:00:00",
          "2011-10-06T00:00:00",
          "2011-11-18T00:00:00",
          "2010-09-07T00:00:00",
          "2011-12-08T00:00:00",
          null,
          "2012-03-16T00:00:00",
          "2010-12-11T00:00:00",
          "2011-07-22T00:00:00",
          "2010-10-09T00:00:00",
          "2011-08-07T00:00:00",
          null,
          "2011-04-22T00:00:00",
          "2012-05-25T00:00:00",
          "2010-12-11T00:00:00",
          "2011-07-10T00:00:00",
          "2010-04-06T00:00:00",
          "2012-10-19T00:00:00",
          "2010-06-18T00:00:00",
          null,
          "2010-11-06T00:00:00",
          "2011-12-08T00:00:00",
          "2012-04-20T00:00:00"
         ],
         "xaxis": "x",
         "y": [
          1572117.54,
          1807545.43,
          1244390.03,
          1644470.66,
          1857533.7,
          695396.19,
          2203523.2,
          2600519.26,
          418925.47,
          895066.5,
          1029618.1,
          414094.05,
          1677472.78,
          829207.27,
          1498080.16,
          1997397.63,
          1205307.5,
          2432736.52,
          561145.14,
          290930.01,
          1074079,
          1427023.45,
          1405007.44,
          919878.34,
          367438.62,
          435397.19,
          757738.76,
          1420405.41,
          1021154.48,
          563460.77,
          2077256.24,
          1853161.99,
          1266564.94,
          365248.94,
          988157.72,
          2008344.92,
          311906.7,
          961186.23,
          526525.16,
          1661767.33,
          629994.47,
          1641957.44,
          1861802.7,
          268929.03,
          1549018.68,
          1624383.75,
          485095.41,
          2035431.39,
          1916812.74,
          509263.28,
          1879451.23,
          1805999.79,
          1847430.96,
          888816.78,
          1532308.78,
          2020550.99,
          2095599.93,
          1990371.02,
          1295605.35,
          313358.15,
          2771397.17,
          1714309.9,
          1166117.85,
          461622.22,
          955913.68,
          1588430.71,
          2461468.35,
          1449142.92,
          1508068.77,
          1973135.87,
          570611.23,
          1539483.7,
          1789687.65,
          519823.3,
          359206.21,
          1569607.94,
          607475.44,
          1758050.79,
          986922.62,
          431985.36,
          2045837.55,
          1797732.56,
          485389.15,
          1046782.52,
          384200.69,
          964332.51,
          1953544.76,
          1494251.5,
          860336.16,
          298697.84,
          1768172.31,
          2018314.71,
          364076.85,
          1799520.14,
          1087051.26,
          2302504.86,
          419497.95,
          1366395.96,
          2095591.63,
          994801.4,
          1256282.79,
          1799737.79,
          1468350.36,
          2124451.54,
          1811606.21,
          1757242.51,
          660838.75,
          457340.06,
          513073.87,
          1864746.1,
          836707.85,
          275142.17,
          597876.55,
          1466046.67,
          1467473.63,
          398838.97,
          614253.33,
          1970341.38,
          1048134.24,
          2025582.62,
          855459.96,
          2036231.39,
          903119.03,
          2066541.86,
          1831676.03,
          1639358.93,
          532739.77,
          301827.36,
          403342.4,
          396968.8,
          424513.08,
          2248645.59,
          716388.81,
          845252.21,
          856796.1,
          1255087.26
         ],
         "yaxis": "y"
        }
       ],
       "layout": {
        "legend": {
         "tracegroupgap": 0
        },
        "margin": {
         "t": 60
        },
        "template": {
         "data": {
          "bar": [
           {
            "error_x": {
             "color": "#2a3f5f"
            },
            "error_y": {
             "color": "#2a3f5f"
            },
            "marker": {
             "line": {
              "color": "#E5ECF6",
              "width": 0.5
             },
             "pattern": {
              "fillmode": "overlay",
              "size": 10,
              "solidity": 0.2
             }
            },
            "type": "bar"
           }
          ],
          "barpolar": [
           {
            "marker": {
             "line": {
              "color": "#E5ECF6",
              "width": 0.5
             },
             "pattern": {
              "fillmode": "overlay",
              "size": 10,
              "solidity": 0.2
             }
            },
            "type": "barpolar"
           }
          ],
          "carpet": [
           {
            "aaxis": {
             "endlinecolor": "#2a3f5f",
             "gridcolor": "white",
             "linecolor": "white",
             "minorgridcolor": "white",
             "startlinecolor": "#2a3f5f"
            },
            "baxis": {
             "endlinecolor": "#2a3f5f",
             "gridcolor": "white",
             "linecolor": "white",
             "minorgridcolor": "white",
             "startlinecolor": "#2a3f5f"
            },
            "type": "carpet"
           }
          ],
          "choropleth": [
           {
            "colorbar": {
             "outlinewidth": 0,
             "ticks": ""
            },
            "type": "choropleth"
           }
          ],
          "contour": [
           {
            "colorbar": {
             "outlinewidth": 0,
             "ticks": ""
            },
            "colorscale": [
             [
              0,
              "#0d0887"
             ],
             [
              0.1111111111111111,
              "#46039f"
             ],
             [
              0.2222222222222222,
              "#7201a8"
             ],
             [
              0.3333333333333333,
              "#9c179e"
             ],
             [
              0.4444444444444444,
              "#bd3786"
             ],
             [
              0.5555555555555556,
              "#d8576b"
             ],
             [
              0.6666666666666666,
              "#ed7953"
             ],
             [
              0.7777777777777778,
              "#fb9f3a"
             ],
             [
              0.8888888888888888,
              "#fdca26"
             ],
             [
              1,
              "#f0f921"
             ]
            ],
            "type": "contour"
           }
          ],
          "contourcarpet": [
           {
            "colorbar": {
             "outlinewidth": 0,
             "ticks": ""
            },
            "type": "contourcarpet"
           }
          ],
          "heatmap": [
           {
            "colorbar": {
             "outlinewidth": 0,
             "ticks": ""
            },
            "colorscale": [
             [
              0,
              "#0d0887"
             ],
             [
              0.1111111111111111,
              "#46039f"
             ],
             [
              0.2222222222222222,
              "#7201a8"
             ],
             [
              0.3333333333333333,
              "#9c179e"
             ],
             [
              0.4444444444444444,
              "#bd3786"
             ],
             [
              0.5555555555555556,
              "#d8576b"
             ],
             [
              0.6666666666666666,
              "#ed7953"
             ],
             [
              0.7777777777777778,
              "#fb9f3a"
             ],
             [
              0.8888888888888888,
              "#fdca26"
             ],
             [
              1,
              "#f0f921"
             ]
            ],
            "type": "heatmap"
           }
          ],
          "heatmapgl": [
           {
            "colorbar": {
             "outlinewidth": 0,
             "ticks": ""
            },
            "colorscale": [
             [
              0,
              "#0d0887"
             ],
             [
              0.1111111111111111,
              "#46039f"
             ],
             [
              0.2222222222222222,
              "#7201a8"
             ],
             [
              0.3333333333333333,
              "#9c179e"
             ],
             [
              0.4444444444444444,
              "#bd3786"
             ],
             [
              0.5555555555555556,
              "#d8576b"
             ],
             [
              0.6666666666666666,
              "#ed7953"
             ],
             [
              0.7777777777777778,
              "#fb9f3a"
             ],
             [
              0.8888888888888888,
              "#fdca26"
             ],
             [
              1,
              "#f0f921"
             ]
            ],
            "type": "heatmapgl"
           }
          ],
          "histogram": [
           {
            "marker": {
             "pattern": {
              "fillmode": "overlay",
              "size": 10,
              "solidity": 0.2
             }
            },
            "type": "histogram"
           }
          ],
          "histogram2d": [
           {
            "colorbar": {
             "outlinewidth": 0,
             "ticks": ""
            },
            "colorscale": [
             [
              0,
              "#0d0887"
             ],
             [
              0.1111111111111111,
              "#46039f"
             ],
             [
              0.2222222222222222,
              "#7201a8"
             ],
             [
              0.3333333333333333,
              "#9c179e"
             ],
             [
              0.4444444444444444,
              "#bd3786"
             ],
             [
              0.5555555555555556,
              "#d8576b"
             ],
             [
              0.6666666666666666,
              "#ed7953"
             ],
             [
              0.7777777777777778,
              "#fb9f3a"
             ],
             [
              0.8888888888888888,
              "#fdca26"
             ],
             [
              1,
              "#f0f921"
             ]
            ],
            "type": "histogram2d"
           }
          ],
          "histogram2dcontour": [
           {
            "colorbar": {
             "outlinewidth": 0,
             "ticks": ""
            },
            "colorscale": [
             [
              0,
              "#0d0887"
             ],
             [
              0.1111111111111111,
              "#46039f"
             ],
             [
              0.2222222222222222,
              "#7201a8"
             ],
             [
              0.3333333333333333,
              "#9c179e"
             ],
             [
              0.4444444444444444,
              "#bd3786"
             ],
             [
              0.5555555555555556,
              "#d8576b"
             ],
             [
              0.6666666666666666,
              "#ed7953"
             ],
             [
              0.7777777777777778,
              "#fb9f3a"
             ],
             [
              0.8888888888888888,
              "#fdca26"
             ],
             [
              1,
              "#f0f921"
             ]
            ],
            "type": "histogram2dcontour"
           }
          ],
          "mesh3d": [
           {
            "colorbar": {
             "outlinewidth": 0,
             "ticks": ""
            },
            "type": "mesh3d"
           }
          ],
          "parcoords": [
           {
            "line": {
             "colorbar": {
              "outlinewidth": 0,
              "ticks": ""
             }
            },
            "type": "parcoords"
           }
          ],
          "pie": [
           {
            "automargin": true,
            "type": "pie"
           }
          ],
          "scatter": [
           {
            "fillpattern": {
             "fillmode": "overlay",
             "size": 10,
             "solidity": 0.2
            },
            "type": "scatter"
           }
          ],
          "scatter3d": [
           {
            "line": {
             "colorbar": {
              "outlinewidth": 0,
              "ticks": ""
             }
            },
            "marker": {
             "colorbar": {
              "outlinewidth": 0,
              "ticks": ""
             }
            },
            "type": "scatter3d"
           }
          ],
          "scattercarpet": [
           {
            "marker": {
             "colorbar": {
              "outlinewidth": 0,
              "ticks": ""
             }
            },
            "type": "scattercarpet"
           }
          ],
          "scattergeo": [
           {
            "marker": {
             "colorbar": {
              "outlinewidth": 0,
              "ticks": ""
             }
            },
            "type": "scattergeo"
           }
          ],
          "scattergl": [
           {
            "marker": {
             "colorbar": {
              "outlinewidth": 0,
              "ticks": ""
             }
            },
            "type": "scattergl"
           }
          ],
          "scattermapbox": [
           {
            "marker": {
             "colorbar": {
              "outlinewidth": 0,
              "ticks": ""
             }
            },
            "type": "scattermapbox"
           }
          ],
          "scatterpolar": [
           {
            "marker": {
             "colorbar": {
              "outlinewidth": 0,
              "ticks": ""
             }
            },
            "type": "scatterpolar"
           }
          ],
          "scatterpolargl": [
           {
            "marker": {
             "colorbar": {
              "outlinewidth": 0,
              "ticks": ""
             }
            },
            "type": "scatterpolargl"
           }
          ],
          "scatterternary": [
           {
            "marker": {
             "colorbar": {
              "outlinewidth": 0,
              "ticks": ""
             }
            },
            "type": "scatterternary"
           }
          ],
          "surface": [
           {
            "colorbar": {
             "outlinewidth": 0,
             "ticks": ""
            },
            "colorscale": [
             [
              0,
              "#0d0887"
             ],
             [
              0.1111111111111111,
              "#46039f"
             ],
             [
              0.2222222222222222,
              "#7201a8"
             ],
             [
              0.3333333333333333,
              "#9c179e"
             ],
             [
              0.4444444444444444,
              "#bd3786"
             ],
             [
              0.5555555555555556,
              "#d8576b"
             ],
             [
              0.6666666666666666,
              "#ed7953"
             ],
             [
              0.7777777777777778,
              "#fb9f3a"
             ],
             [
              0.8888888888888888,
              "#fdca26"
             ],
             [
              1,
              "#f0f921"
             ]
            ],
            "type": "surface"
           }
          ],
          "table": [
           {
            "cells": {
             "fill": {
              "color": "#EBF0F8"
             },
             "line": {
              "color": "white"
             }
            },
            "header": {
             "fill": {
              "color": "#C8D4E3"
             },
             "line": {
              "color": "white"
             }
            },
            "type": "table"
           }
          ]
         },
         "layout": {
          "annotationdefaults": {
           "arrowcolor": "#2a3f5f",
           "arrowhead": 0,
           "arrowwidth": 1
          },
          "autotypenumbers": "strict",
          "coloraxis": {
           "colorbar": {
            "outlinewidth": 0,
            "ticks": ""
           }
          },
          "colorscale": {
           "diverging": [
            [
             0,
             "#8e0152"
            ],
            [
             0.1,
             "#c51b7d"
            ],
            [
             0.2,
             "#de77ae"
            ],
            [
             0.3,
             "#f1b6da"
            ],
            [
             0.4,
             "#fde0ef"
            ],
            [
             0.5,
             "#f7f7f7"
            ],
            [
             0.6,
             "#e6f5d0"
            ],
            [
             0.7,
             "#b8e186"
            ],
            [
             0.8,
             "#7fbc41"
            ],
            [
             0.9,
             "#4d9221"
            ],
            [
             1,
             "#276419"
            ]
           ],
           "sequential": [
            [
             0,
             "#0d0887"
            ],
            [
             0.1111111111111111,
             "#46039f"
            ],
            [
             0.2222222222222222,
             "#7201a8"
            ],
            [
             0.3333333333333333,
             "#9c179e"
            ],
            [
             0.4444444444444444,
             "#bd3786"
            ],
            [
             0.5555555555555556,
             "#d8576b"
            ],
            [
             0.6666666666666666,
             "#ed7953"
            ],
            [
             0.7777777777777778,
             "#fb9f3a"
            ],
            [
             0.8888888888888888,
             "#fdca26"
            ],
            [
             1,
             "#f0f921"
            ]
           ],
           "sequentialminus": [
            [
             0,
             "#0d0887"
            ],
            [
             0.1111111111111111,
             "#46039f"
            ],
            [
             0.2222222222222222,
             "#7201a8"
            ],
            [
             0.3333333333333333,
             "#9c179e"
            ],
            [
             0.4444444444444444,
             "#bd3786"
            ],
            [
             0.5555555555555556,
             "#d8576b"
            ],
            [
             0.6666666666666666,
             "#ed7953"
            ],
            [
             0.7777777777777778,
             "#fb9f3a"
            ],
            [
             0.8888888888888888,
             "#fdca26"
            ],
            [
             1,
             "#f0f921"
            ]
           ]
          },
          "colorway": [
           "#636efa",
           "#EF553B",
           "#00cc96",
           "#ab63fa",
           "#FFA15A",
           "#19d3f3",
           "#FF6692",
           "#B6E880",
           "#FF97FF",
           "#FECB52"
          ],
          "font": {
           "color": "#2a3f5f"
          },
          "geo": {
           "bgcolor": "white",
           "lakecolor": "white",
           "landcolor": "#E5ECF6",
           "showlakes": true,
           "showland": true,
           "subunitcolor": "white"
          },
          "hoverlabel": {
           "align": "left"
          },
          "hovermode": "closest",
          "mapbox": {
           "style": "light"
          },
          "paper_bgcolor": "white",
          "plot_bgcolor": "#E5ECF6",
          "polar": {
           "angularaxis": {
            "gridcolor": "white",
            "linecolor": "white",
            "ticks": ""
           },
           "bgcolor": "#E5ECF6",
           "radialaxis": {
            "gridcolor": "white",
            "linecolor": "white",
            "ticks": ""
           }
          },
          "scene": {
           "xaxis": {
            "backgroundcolor": "#E5ECF6",
            "gridcolor": "white",
            "gridwidth": 2,
            "linecolor": "white",
            "showbackground": true,
            "ticks": "",
            "zerolinecolor": "white"
           },
           "yaxis": {
            "backgroundcolor": "#E5ECF6",
            "gridcolor": "white",
            "gridwidth": 2,
            "linecolor": "white",
            "showbackground": true,
            "ticks": "",
            "zerolinecolor": "white"
           },
           "zaxis": {
            "backgroundcolor": "#E5ECF6",
            "gridcolor": "white",
            "gridwidth": 2,
            "linecolor": "white",
            "showbackground": true,
            "ticks": "",
            "zerolinecolor": "white"
           }
          },
          "shapedefaults": {
           "line": {
            "color": "#2a3f5f"
           }
          },
          "ternary": {
           "aaxis": {
            "gridcolor": "white",
            "linecolor": "white",
            "ticks": ""
           },
           "baxis": {
            "gridcolor": "white",
            "linecolor": "white",
            "ticks": ""
           },
           "bgcolor": "#E5ECF6",
           "caxis": {
            "gridcolor": "white",
            "linecolor": "white",
            "ticks": ""
           }
          },
          "title": {
           "x": 0.05
          },
          "xaxis": {
           "automargin": true,
           "gridcolor": "white",
           "linecolor": "white",
           "ticks": "",
           "title": {
            "standoff": 15
           },
           "zerolinecolor": "white",
           "zerolinewidth": 2
          },
          "yaxis": {
           "automargin": true,
           "gridcolor": "white",
           "linecolor": "white",
           "ticks": "",
           "title": {
            "standoff": 15
           },
           "zerolinecolor": "white",
           "zerolinewidth": 2
          }
         }
        },
        "xaxis": {
         "anchor": "y",
         "domain": [
          0,
          1
         ],
         "title": {
          "text": "Date"
         }
        },
        "yaxis": {
         "anchor": "x",
         "domain": [
          0,
          1
         ],
         "title": {
          "text": "Weekly_Sales"
         }
        }
       }
      }
     },
     "metadata": {},
     "output_type": "display_data"
    },
    {
     "data": {
      "application/vnd.plotly.v1+json": {
       "config": {
        "plotlyServerURL": "https://plot.ly"
       },
       "data": [
        {
         "hovertemplate": "Holiday_Flag=%{x}<br>Weekly_Sales=%{y}<extra></extra>",
         "legendgroup": "",
         "marker": {
          "color": "#636efa",
          "symbol": "circle"
         },
         "mode": "markers",
         "name": "",
         "orientation": "v",
         "showlegend": false,
         "type": "scatter",
         "x": [
          null,
          0,
          0,
          0,
          0,
          0,
          0,
          0,
          0,
          0,
          0,
          0,
          0,
          0,
          null,
          0,
          0,
          0,
          0,
          0,
          0,
          0,
          0,
          0,
          0,
          0,
          0,
          0,
          0,
          1,
          1,
          0,
          0,
          0,
          0,
          0,
          0,
          0,
          0,
          1,
          null,
          1,
          0,
          0,
          0,
          null,
          0,
          0,
          0,
          0,
          null,
          0,
          0,
          0,
          0,
          0,
          0,
          0,
          0,
          0,
          0,
          null,
          0,
          0,
          0,
          0,
          0,
          null,
          0,
          0,
          0,
          0,
          0,
          0,
          0,
          0,
          0,
          0,
          0,
          0,
          0,
          0,
          null,
          0,
          0,
          0,
          0,
          0,
          0,
          0,
          0,
          0,
          0,
          0,
          0,
          0,
          0,
          0,
          0,
          1,
          0,
          1,
          0,
          0,
          0,
          1,
          0,
          0,
          null,
          0,
          0,
          0,
          1,
          0,
          0,
          0,
          0,
          0,
          0,
          0,
          0,
          0,
          1,
          null,
          0,
          0,
          0,
          0,
          0,
          0,
          0,
          0,
          null,
          0,
          0,
          0
         ],
         "xaxis": "x",
         "y": [
          1572117.54,
          1807545.43,
          1244390.03,
          1644470.66,
          1857533.7,
          695396.19,
          2203523.2,
          2600519.26,
          418925.47,
          895066.5,
          1029618.1,
          414094.05,
          1677472.78,
          829207.27,
          1498080.16,
          1997397.63,
          1205307.5,
          2432736.52,
          561145.14,
          290930.01,
          1074079,
          1427023.45,
          1405007.44,
          919878.34,
          367438.62,
          435397.19,
          757738.76,
          1420405.41,
          1021154.48,
          563460.77,
          2077256.24,
          1853161.99,
          1266564.94,
          365248.94,
          988157.72,
          2008344.92,
          311906.7,
          961186.23,
          526525.16,
          1661767.33,
          629994.47,
          1641957.44,
          1861802.7,
          268929.03,
          1549018.68,
          1624383.75,
          485095.41,
          2035431.39,
          1916812.74,
          509263.28,
          1879451.23,
          1805999.79,
          1847430.96,
          888816.78,
          1532308.78,
          2020550.99,
          2095599.93,
          1990371.02,
          1295605.35,
          313358.15,
          2771397.17,
          1714309.9,
          1166117.85,
          461622.22,
          955913.68,
          1588430.71,
          2461468.35,
          1449142.92,
          1508068.77,
          1973135.87,
          570611.23,
          1539483.7,
          1789687.65,
          519823.3,
          359206.21,
          1569607.94,
          607475.44,
          1758050.79,
          986922.62,
          431985.36,
          2045837.55,
          1797732.56,
          485389.15,
          1046782.52,
          384200.69,
          964332.51,
          1953544.76,
          1494251.5,
          860336.16,
          298697.84,
          1768172.31,
          2018314.71,
          364076.85,
          1799520.14,
          1087051.26,
          2302504.86,
          419497.95,
          1366395.96,
          2095591.63,
          994801.4,
          1256282.79,
          1799737.79,
          1468350.36,
          2124451.54,
          1811606.21,
          1757242.51,
          660838.75,
          457340.06,
          513073.87,
          1864746.1,
          836707.85,
          275142.17,
          597876.55,
          1466046.67,
          1467473.63,
          398838.97,
          614253.33,
          1970341.38,
          1048134.24,
          2025582.62,
          855459.96,
          2036231.39,
          903119.03,
          2066541.86,
          1831676.03,
          1639358.93,
          532739.77,
          301827.36,
          403342.4,
          396968.8,
          424513.08,
          2248645.59,
          716388.81,
          845252.21,
          856796.1,
          1255087.26
         ],
         "yaxis": "y"
        }
       ],
       "layout": {
        "legend": {
         "tracegroupgap": 0
        },
        "margin": {
         "t": 60
        },
        "template": {
         "data": {
          "bar": [
           {
            "error_x": {
             "color": "#2a3f5f"
            },
            "error_y": {
             "color": "#2a3f5f"
            },
            "marker": {
             "line": {
              "color": "#E5ECF6",
              "width": 0.5
             },
             "pattern": {
              "fillmode": "overlay",
              "size": 10,
              "solidity": 0.2
             }
            },
            "type": "bar"
           }
          ],
          "barpolar": [
           {
            "marker": {
             "line": {
              "color": "#E5ECF6",
              "width": 0.5
             },
             "pattern": {
              "fillmode": "overlay",
              "size": 10,
              "solidity": 0.2
             }
            },
            "type": "barpolar"
           }
          ],
          "carpet": [
           {
            "aaxis": {
             "endlinecolor": "#2a3f5f",
             "gridcolor": "white",
             "linecolor": "white",
             "minorgridcolor": "white",
             "startlinecolor": "#2a3f5f"
            },
            "baxis": {
             "endlinecolor": "#2a3f5f",
             "gridcolor": "white",
             "linecolor": "white",
             "minorgridcolor": "white",
             "startlinecolor": "#2a3f5f"
            },
            "type": "carpet"
           }
          ],
          "choropleth": [
           {
            "colorbar": {
             "outlinewidth": 0,
             "ticks": ""
            },
            "type": "choropleth"
           }
          ],
          "contour": [
           {
            "colorbar": {
             "outlinewidth": 0,
             "ticks": ""
            },
            "colorscale": [
             [
              0,
              "#0d0887"
             ],
             [
              0.1111111111111111,
              "#46039f"
             ],
             [
              0.2222222222222222,
              "#7201a8"
             ],
             [
              0.3333333333333333,
              "#9c179e"
             ],
             [
              0.4444444444444444,
              "#bd3786"
             ],
             [
              0.5555555555555556,
              "#d8576b"
             ],
             [
              0.6666666666666666,
              "#ed7953"
             ],
             [
              0.7777777777777778,
              "#fb9f3a"
             ],
             [
              0.8888888888888888,
              "#fdca26"
             ],
             [
              1,
              "#f0f921"
             ]
            ],
            "type": "contour"
           }
          ],
          "contourcarpet": [
           {
            "colorbar": {
             "outlinewidth": 0,
             "ticks": ""
            },
            "type": "contourcarpet"
           }
          ],
          "heatmap": [
           {
            "colorbar": {
             "outlinewidth": 0,
             "ticks": ""
            },
            "colorscale": [
             [
              0,
              "#0d0887"
             ],
             [
              0.1111111111111111,
              "#46039f"
             ],
             [
              0.2222222222222222,
              "#7201a8"
             ],
             [
              0.3333333333333333,
              "#9c179e"
             ],
             [
              0.4444444444444444,
              "#bd3786"
             ],
             [
              0.5555555555555556,
              "#d8576b"
             ],
             [
              0.6666666666666666,
              "#ed7953"
             ],
             [
              0.7777777777777778,
              "#fb9f3a"
             ],
             [
              0.8888888888888888,
              "#fdca26"
             ],
             [
              1,
              "#f0f921"
             ]
            ],
            "type": "heatmap"
           }
          ],
          "heatmapgl": [
           {
            "colorbar": {
             "outlinewidth": 0,
             "ticks": ""
            },
            "colorscale": [
             [
              0,
              "#0d0887"
             ],
             [
              0.1111111111111111,
              "#46039f"
             ],
             [
              0.2222222222222222,
              "#7201a8"
             ],
             [
              0.3333333333333333,
              "#9c179e"
             ],
             [
              0.4444444444444444,
              "#bd3786"
             ],
             [
              0.5555555555555556,
              "#d8576b"
             ],
             [
              0.6666666666666666,
              "#ed7953"
             ],
             [
              0.7777777777777778,
              "#fb9f3a"
             ],
             [
              0.8888888888888888,
              "#fdca26"
             ],
             [
              1,
              "#f0f921"
             ]
            ],
            "type": "heatmapgl"
           }
          ],
          "histogram": [
           {
            "marker": {
             "pattern": {
              "fillmode": "overlay",
              "size": 10,
              "solidity": 0.2
             }
            },
            "type": "histogram"
           }
          ],
          "histogram2d": [
           {
            "colorbar": {
             "outlinewidth": 0,
             "ticks": ""
            },
            "colorscale": [
             [
              0,
              "#0d0887"
             ],
             [
              0.1111111111111111,
              "#46039f"
             ],
             [
              0.2222222222222222,
              "#7201a8"
             ],
             [
              0.3333333333333333,
              "#9c179e"
             ],
             [
              0.4444444444444444,
              "#bd3786"
             ],
             [
              0.5555555555555556,
              "#d8576b"
             ],
             [
              0.6666666666666666,
              "#ed7953"
             ],
             [
              0.7777777777777778,
              "#fb9f3a"
             ],
             [
              0.8888888888888888,
              "#fdca26"
             ],
             [
              1,
              "#f0f921"
             ]
            ],
            "type": "histogram2d"
           }
          ],
          "histogram2dcontour": [
           {
            "colorbar": {
             "outlinewidth": 0,
             "ticks": ""
            },
            "colorscale": [
             [
              0,
              "#0d0887"
             ],
             [
              0.1111111111111111,
              "#46039f"
             ],
             [
              0.2222222222222222,
              "#7201a8"
             ],
             [
              0.3333333333333333,
              "#9c179e"
             ],
             [
              0.4444444444444444,
              "#bd3786"
             ],
             [
              0.5555555555555556,
              "#d8576b"
             ],
             [
              0.6666666666666666,
              "#ed7953"
             ],
             [
              0.7777777777777778,
              "#fb9f3a"
             ],
             [
              0.8888888888888888,
              "#fdca26"
             ],
             [
              1,
              "#f0f921"
             ]
            ],
            "type": "histogram2dcontour"
           }
          ],
          "mesh3d": [
           {
            "colorbar": {
             "outlinewidth": 0,
             "ticks": ""
            },
            "type": "mesh3d"
           }
          ],
          "parcoords": [
           {
            "line": {
             "colorbar": {
              "outlinewidth": 0,
              "ticks": ""
             }
            },
            "type": "parcoords"
           }
          ],
          "pie": [
           {
            "automargin": true,
            "type": "pie"
           }
          ],
          "scatter": [
           {
            "fillpattern": {
             "fillmode": "overlay",
             "size": 10,
             "solidity": 0.2
            },
            "type": "scatter"
           }
          ],
          "scatter3d": [
           {
            "line": {
             "colorbar": {
              "outlinewidth": 0,
              "ticks": ""
             }
            },
            "marker": {
             "colorbar": {
              "outlinewidth": 0,
              "ticks": ""
             }
            },
            "type": "scatter3d"
           }
          ],
          "scattercarpet": [
           {
            "marker": {
             "colorbar": {
              "outlinewidth": 0,
              "ticks": ""
             }
            },
            "type": "scattercarpet"
           }
          ],
          "scattergeo": [
           {
            "marker": {
             "colorbar": {
              "outlinewidth": 0,
              "ticks": ""
             }
            },
            "type": "scattergeo"
           }
          ],
          "scattergl": [
           {
            "marker": {
             "colorbar": {
              "outlinewidth": 0,
              "ticks": ""
             }
            },
            "type": "scattergl"
           }
          ],
          "scattermapbox": [
           {
            "marker": {
             "colorbar": {
              "outlinewidth": 0,
              "ticks": ""
             }
            },
            "type": "scattermapbox"
           }
          ],
          "scatterpolar": [
           {
            "marker": {
             "colorbar": {
              "outlinewidth": 0,
              "ticks": ""
             }
            },
            "type": "scatterpolar"
           }
          ],
          "scatterpolargl": [
           {
            "marker": {
             "colorbar": {
              "outlinewidth": 0,
              "ticks": ""
             }
            },
            "type": "scatterpolargl"
           }
          ],
          "scatterternary": [
           {
            "marker": {
             "colorbar": {
              "outlinewidth": 0,
              "ticks": ""
             }
            },
            "type": "scatterternary"
           }
          ],
          "surface": [
           {
            "colorbar": {
             "outlinewidth": 0,
             "ticks": ""
            },
            "colorscale": [
             [
              0,
              "#0d0887"
             ],
             [
              0.1111111111111111,
              "#46039f"
             ],
             [
              0.2222222222222222,
              "#7201a8"
             ],
             [
              0.3333333333333333,
              "#9c179e"
             ],
             [
              0.4444444444444444,
              "#bd3786"
             ],
             [
              0.5555555555555556,
              "#d8576b"
             ],
             [
              0.6666666666666666,
              "#ed7953"
             ],
             [
              0.7777777777777778,
              "#fb9f3a"
             ],
             [
              0.8888888888888888,
              "#fdca26"
             ],
             [
              1,
              "#f0f921"
             ]
            ],
            "type": "surface"
           }
          ],
          "table": [
           {
            "cells": {
             "fill": {
              "color": "#EBF0F8"
             },
             "line": {
              "color": "white"
             }
            },
            "header": {
             "fill": {
              "color": "#C8D4E3"
             },
             "line": {
              "color": "white"
             }
            },
            "type": "table"
           }
          ]
         },
         "layout": {
          "annotationdefaults": {
           "arrowcolor": "#2a3f5f",
           "arrowhead": 0,
           "arrowwidth": 1
          },
          "autotypenumbers": "strict",
          "coloraxis": {
           "colorbar": {
            "outlinewidth": 0,
            "ticks": ""
           }
          },
          "colorscale": {
           "diverging": [
            [
             0,
             "#8e0152"
            ],
            [
             0.1,
             "#c51b7d"
            ],
            [
             0.2,
             "#de77ae"
            ],
            [
             0.3,
             "#f1b6da"
            ],
            [
             0.4,
             "#fde0ef"
            ],
            [
             0.5,
             "#f7f7f7"
            ],
            [
             0.6,
             "#e6f5d0"
            ],
            [
             0.7,
             "#b8e186"
            ],
            [
             0.8,
             "#7fbc41"
            ],
            [
             0.9,
             "#4d9221"
            ],
            [
             1,
             "#276419"
            ]
           ],
           "sequential": [
            [
             0,
             "#0d0887"
            ],
            [
             0.1111111111111111,
             "#46039f"
            ],
            [
             0.2222222222222222,
             "#7201a8"
            ],
            [
             0.3333333333333333,
             "#9c179e"
            ],
            [
             0.4444444444444444,
             "#bd3786"
            ],
            [
             0.5555555555555556,
             "#d8576b"
            ],
            [
             0.6666666666666666,
             "#ed7953"
            ],
            [
             0.7777777777777778,
             "#fb9f3a"
            ],
            [
             0.8888888888888888,
             "#fdca26"
            ],
            [
             1,
             "#f0f921"
            ]
           ],
           "sequentialminus": [
            [
             0,
             "#0d0887"
            ],
            [
             0.1111111111111111,
             "#46039f"
            ],
            [
             0.2222222222222222,
             "#7201a8"
            ],
            [
             0.3333333333333333,
             "#9c179e"
            ],
            [
             0.4444444444444444,
             "#bd3786"
            ],
            [
             0.5555555555555556,
             "#d8576b"
            ],
            [
             0.6666666666666666,
             "#ed7953"
            ],
            [
             0.7777777777777778,
             "#fb9f3a"
            ],
            [
             0.8888888888888888,
             "#fdca26"
            ],
            [
             1,
             "#f0f921"
            ]
           ]
          },
          "colorway": [
           "#636efa",
           "#EF553B",
           "#00cc96",
           "#ab63fa",
           "#FFA15A",
           "#19d3f3",
           "#FF6692",
           "#B6E880",
           "#FF97FF",
           "#FECB52"
          ],
          "font": {
           "color": "#2a3f5f"
          },
          "geo": {
           "bgcolor": "white",
           "lakecolor": "white",
           "landcolor": "#E5ECF6",
           "showlakes": true,
           "showland": true,
           "subunitcolor": "white"
          },
          "hoverlabel": {
           "align": "left"
          },
          "hovermode": "closest",
          "mapbox": {
           "style": "light"
          },
          "paper_bgcolor": "white",
          "plot_bgcolor": "#E5ECF6",
          "polar": {
           "angularaxis": {
            "gridcolor": "white",
            "linecolor": "white",
            "ticks": ""
           },
           "bgcolor": "#E5ECF6",
           "radialaxis": {
            "gridcolor": "white",
            "linecolor": "white",
            "ticks": ""
           }
          },
          "scene": {
           "xaxis": {
            "backgroundcolor": "#E5ECF6",
            "gridcolor": "white",
            "gridwidth": 2,
            "linecolor": "white",
            "showbackground": true,
            "ticks": "",
            "zerolinecolor": "white"
           },
           "yaxis": {
            "backgroundcolor": "#E5ECF6",
            "gridcolor": "white",
            "gridwidth": 2,
            "linecolor": "white",
            "showbackground": true,
            "ticks": "",
            "zerolinecolor": "white"
           },
           "zaxis": {
            "backgroundcolor": "#E5ECF6",
            "gridcolor": "white",
            "gridwidth": 2,
            "linecolor": "white",
            "showbackground": true,
            "ticks": "",
            "zerolinecolor": "white"
           }
          },
          "shapedefaults": {
           "line": {
            "color": "#2a3f5f"
           }
          },
          "ternary": {
           "aaxis": {
            "gridcolor": "white",
            "linecolor": "white",
            "ticks": ""
           },
           "baxis": {
            "gridcolor": "white",
            "linecolor": "white",
            "ticks": ""
           },
           "bgcolor": "#E5ECF6",
           "caxis": {
            "gridcolor": "white",
            "linecolor": "white",
            "ticks": ""
           }
          },
          "title": {
           "x": 0.05
          },
          "xaxis": {
           "automargin": true,
           "gridcolor": "white",
           "linecolor": "white",
           "ticks": "",
           "title": {
            "standoff": 15
           },
           "zerolinecolor": "white",
           "zerolinewidth": 2
          },
          "yaxis": {
           "automargin": true,
           "gridcolor": "white",
           "linecolor": "white",
           "ticks": "",
           "title": {
            "standoff": 15
           },
           "zerolinecolor": "white",
           "zerolinewidth": 2
          }
         }
        },
        "xaxis": {
         "anchor": "y",
         "domain": [
          0,
          1
         ],
         "title": {
          "text": "Holiday_Flag"
         }
        },
        "yaxis": {
         "anchor": "x",
         "domain": [
          0,
          1
         ],
         "title": {
          "text": "Weekly_Sales"
         }
        }
       }
      }
     },
     "metadata": {},
     "output_type": "display_data"
    },
    {
     "data": {
      "application/vnd.plotly.v1+json": {
       "config": {
        "plotlyServerURL": "https://plot.ly"
       },
       "data": [
        {
         "hovertemplate": "Temperature=%{x}<br>Weekly_Sales=%{y}<extra></extra>",
         "legendgroup": "",
         "marker": {
          "color": "#636efa",
          "symbol": "circle"
         },
         "mode": "markers",
         "name": "",
         "orientation": "v",
         "showlegend": false,
         "type": "scatter",
         "x": [
          59.61,
          42.38,
          84.57,
          78.89,
          null,
          69.8,
          39.93,
          30.54,
          60.12,
          82.92,
          52.02,
          36.61,
          64.74,
          60.07,
          68.91,
          76.34,
          21.33,
          50.13,
          38.26,
          77.38,
          50.97,
          39.07,
          50.76,
          44.82,
          51.86,
          43.95,
          45.22,
          null,
          68.4,
          18.79,
          37,
          87.7,
          33.26,
          80.19,
          null,
          81.85,
          60.71,
          50.43,
          null,
          null,
          57.6,
          38.51,
          54.63,
          82.46,
          66.25,
          91.65,
          48.29,
          61.11,
          59.69,
          85.02,
          41.76,
          86.87,
          63.6,
          74.92,
          null,
          36.85,
          null,
          57.62,
          52.77,
          69.17,
          36.44,
          43.43,
          73.67,
          45.71,
          91.04,
          27.4,
          36.78,
          85.22,
          67.97,
          75.17,
          47.42,
          62.25,
          69.37,
          49.96,
          null,
          52.77,
          79.97,
          44.69,
          null,
          75.19,
          39.79,
          76.42,
          78.51,
          68.91,
          null,
          null,
          78.47,
          74.78,
          49.76,
          67.53,
          90.32,
          78.82,
          83.52,
          46.75,
          69.75,
          42.4,
          82.7,
          72.83,
          34.89,
          33.34,
          69.12,
          28.85,
          null,
          39.69,
          32.71,
          69.9,
          null,
          39.3,
          82.99,
          34.32,
          75.32,
          89.42,
          57.84,
          null,
          68.26,
          63.91,
          61.79,
          75.95,
          73.25,
          52.5,
          null,
          82.84,
          83.63,
          84.59,
          88.44,
          74.24,
          50.6,
          62.37,
          75.54,
          78.53,
          73.44,
          72.62,
          20.74,
          57.14,
          86.05,
          55.2
         ],
         "xaxis": "x",
         "y": [
          1572117.54,
          1807545.43,
          1244390.03,
          1644470.66,
          1857533.7,
          695396.19,
          2203523.2,
          2600519.26,
          418925.47,
          895066.5,
          1029618.1,
          414094.05,
          1677472.78,
          829207.27,
          1498080.16,
          1997397.63,
          1205307.5,
          2432736.52,
          561145.14,
          290930.01,
          1074079,
          1427023.45,
          1405007.44,
          919878.34,
          367438.62,
          435397.19,
          757738.76,
          1420405.41,
          1021154.48,
          563460.77,
          2077256.24,
          1853161.99,
          1266564.94,
          365248.94,
          988157.72,
          2008344.92,
          311906.7,
          961186.23,
          526525.16,
          1661767.33,
          629994.47,
          1641957.44,
          1861802.7,
          268929.03,
          1549018.68,
          1624383.75,
          485095.41,
          2035431.39,
          1916812.74,
          509263.28,
          1879451.23,
          1805999.79,
          1847430.96,
          888816.78,
          1532308.78,
          2020550.99,
          2095599.93,
          1990371.02,
          1295605.35,
          313358.15,
          2771397.17,
          1714309.9,
          1166117.85,
          461622.22,
          955913.68,
          1588430.71,
          2461468.35,
          1449142.92,
          1508068.77,
          1973135.87,
          570611.23,
          1539483.7,
          1789687.65,
          519823.3,
          359206.21,
          1569607.94,
          607475.44,
          1758050.79,
          986922.62,
          431985.36,
          2045837.55,
          1797732.56,
          485389.15,
          1046782.52,
          384200.69,
          964332.51,
          1953544.76,
          1494251.5,
          860336.16,
          298697.84,
          1768172.31,
          2018314.71,
          364076.85,
          1799520.14,
          1087051.26,
          2302504.86,
          419497.95,
          1366395.96,
          2095591.63,
          994801.4,
          1256282.79,
          1799737.79,
          1468350.36,
          2124451.54,
          1811606.21,
          1757242.51,
          660838.75,
          457340.06,
          513073.87,
          1864746.1,
          836707.85,
          275142.17,
          597876.55,
          1466046.67,
          1467473.63,
          398838.97,
          614253.33,
          1970341.38,
          1048134.24,
          2025582.62,
          855459.96,
          2036231.39,
          903119.03,
          2066541.86,
          1831676.03,
          1639358.93,
          532739.77,
          301827.36,
          403342.4,
          396968.8,
          424513.08,
          2248645.59,
          716388.81,
          845252.21,
          856796.1,
          1255087.26
         ],
         "yaxis": "y"
        }
       ],
       "layout": {
        "legend": {
         "tracegroupgap": 0
        },
        "margin": {
         "t": 60
        },
        "template": {
         "data": {
          "bar": [
           {
            "error_x": {
             "color": "#2a3f5f"
            },
            "error_y": {
             "color": "#2a3f5f"
            },
            "marker": {
             "line": {
              "color": "#E5ECF6",
              "width": 0.5
             },
             "pattern": {
              "fillmode": "overlay",
              "size": 10,
              "solidity": 0.2
             }
            },
            "type": "bar"
           }
          ],
          "barpolar": [
           {
            "marker": {
             "line": {
              "color": "#E5ECF6",
              "width": 0.5
             },
             "pattern": {
              "fillmode": "overlay",
              "size": 10,
              "solidity": 0.2
             }
            },
            "type": "barpolar"
           }
          ],
          "carpet": [
           {
            "aaxis": {
             "endlinecolor": "#2a3f5f",
             "gridcolor": "white",
             "linecolor": "white",
             "minorgridcolor": "white",
             "startlinecolor": "#2a3f5f"
            },
            "baxis": {
             "endlinecolor": "#2a3f5f",
             "gridcolor": "white",
             "linecolor": "white",
             "minorgridcolor": "white",
             "startlinecolor": "#2a3f5f"
            },
            "type": "carpet"
           }
          ],
          "choropleth": [
           {
            "colorbar": {
             "outlinewidth": 0,
             "ticks": ""
            },
            "type": "choropleth"
           }
          ],
          "contour": [
           {
            "colorbar": {
             "outlinewidth": 0,
             "ticks": ""
            },
            "colorscale": [
             [
              0,
              "#0d0887"
             ],
             [
              0.1111111111111111,
              "#46039f"
             ],
             [
              0.2222222222222222,
              "#7201a8"
             ],
             [
              0.3333333333333333,
              "#9c179e"
             ],
             [
              0.4444444444444444,
              "#bd3786"
             ],
             [
              0.5555555555555556,
              "#d8576b"
             ],
             [
              0.6666666666666666,
              "#ed7953"
             ],
             [
              0.7777777777777778,
              "#fb9f3a"
             ],
             [
              0.8888888888888888,
              "#fdca26"
             ],
             [
              1,
              "#f0f921"
             ]
            ],
            "type": "contour"
           }
          ],
          "contourcarpet": [
           {
            "colorbar": {
             "outlinewidth": 0,
             "ticks": ""
            },
            "type": "contourcarpet"
           }
          ],
          "heatmap": [
           {
            "colorbar": {
             "outlinewidth": 0,
             "ticks": ""
            },
            "colorscale": [
             [
              0,
              "#0d0887"
             ],
             [
              0.1111111111111111,
              "#46039f"
             ],
             [
              0.2222222222222222,
              "#7201a8"
             ],
             [
              0.3333333333333333,
              "#9c179e"
             ],
             [
              0.4444444444444444,
              "#bd3786"
             ],
             [
              0.5555555555555556,
              "#d8576b"
             ],
             [
              0.6666666666666666,
              "#ed7953"
             ],
             [
              0.7777777777777778,
              "#fb9f3a"
             ],
             [
              0.8888888888888888,
              "#fdca26"
             ],
             [
              1,
              "#f0f921"
             ]
            ],
            "type": "heatmap"
           }
          ],
          "heatmapgl": [
           {
            "colorbar": {
             "outlinewidth": 0,
             "ticks": ""
            },
            "colorscale": [
             [
              0,
              "#0d0887"
             ],
             [
              0.1111111111111111,
              "#46039f"
             ],
             [
              0.2222222222222222,
              "#7201a8"
             ],
             [
              0.3333333333333333,
              "#9c179e"
             ],
             [
              0.4444444444444444,
              "#bd3786"
             ],
             [
              0.5555555555555556,
              "#d8576b"
             ],
             [
              0.6666666666666666,
              "#ed7953"
             ],
             [
              0.7777777777777778,
              "#fb9f3a"
             ],
             [
              0.8888888888888888,
              "#fdca26"
             ],
             [
              1,
              "#f0f921"
             ]
            ],
            "type": "heatmapgl"
           }
          ],
          "histogram": [
           {
            "marker": {
             "pattern": {
              "fillmode": "overlay",
              "size": 10,
              "solidity": 0.2
             }
            },
            "type": "histogram"
           }
          ],
          "histogram2d": [
           {
            "colorbar": {
             "outlinewidth": 0,
             "ticks": ""
            },
            "colorscale": [
             [
              0,
              "#0d0887"
             ],
             [
              0.1111111111111111,
              "#46039f"
             ],
             [
              0.2222222222222222,
              "#7201a8"
             ],
             [
              0.3333333333333333,
              "#9c179e"
             ],
             [
              0.4444444444444444,
              "#bd3786"
             ],
             [
              0.5555555555555556,
              "#d8576b"
             ],
             [
              0.6666666666666666,
              "#ed7953"
             ],
             [
              0.7777777777777778,
              "#fb9f3a"
             ],
             [
              0.8888888888888888,
              "#fdca26"
             ],
             [
              1,
              "#f0f921"
             ]
            ],
            "type": "histogram2d"
           }
          ],
          "histogram2dcontour": [
           {
            "colorbar": {
             "outlinewidth": 0,
             "ticks": ""
            },
            "colorscale": [
             [
              0,
              "#0d0887"
             ],
             [
              0.1111111111111111,
              "#46039f"
             ],
             [
              0.2222222222222222,
              "#7201a8"
             ],
             [
              0.3333333333333333,
              "#9c179e"
             ],
             [
              0.4444444444444444,
              "#bd3786"
             ],
             [
              0.5555555555555556,
              "#d8576b"
             ],
             [
              0.6666666666666666,
              "#ed7953"
             ],
             [
              0.7777777777777778,
              "#fb9f3a"
             ],
             [
              0.8888888888888888,
              "#fdca26"
             ],
             [
              1,
              "#f0f921"
             ]
            ],
            "type": "histogram2dcontour"
           }
          ],
          "mesh3d": [
           {
            "colorbar": {
             "outlinewidth": 0,
             "ticks": ""
            },
            "type": "mesh3d"
           }
          ],
          "parcoords": [
           {
            "line": {
             "colorbar": {
              "outlinewidth": 0,
              "ticks": ""
             }
            },
            "type": "parcoords"
           }
          ],
          "pie": [
           {
            "automargin": true,
            "type": "pie"
           }
          ],
          "scatter": [
           {
            "fillpattern": {
             "fillmode": "overlay",
             "size": 10,
             "solidity": 0.2
            },
            "type": "scatter"
           }
          ],
          "scatter3d": [
           {
            "line": {
             "colorbar": {
              "outlinewidth": 0,
              "ticks": ""
             }
            },
            "marker": {
             "colorbar": {
              "outlinewidth": 0,
              "ticks": ""
             }
            },
            "type": "scatter3d"
           }
          ],
          "scattercarpet": [
           {
            "marker": {
             "colorbar": {
              "outlinewidth": 0,
              "ticks": ""
             }
            },
            "type": "scattercarpet"
           }
          ],
          "scattergeo": [
           {
            "marker": {
             "colorbar": {
              "outlinewidth": 0,
              "ticks": ""
             }
            },
            "type": "scattergeo"
           }
          ],
          "scattergl": [
           {
            "marker": {
             "colorbar": {
              "outlinewidth": 0,
              "ticks": ""
             }
            },
            "type": "scattergl"
           }
          ],
          "scattermapbox": [
           {
            "marker": {
             "colorbar": {
              "outlinewidth": 0,
              "ticks": ""
             }
            },
            "type": "scattermapbox"
           }
          ],
          "scatterpolar": [
           {
            "marker": {
             "colorbar": {
              "outlinewidth": 0,
              "ticks": ""
             }
            },
            "type": "scatterpolar"
           }
          ],
          "scatterpolargl": [
           {
            "marker": {
             "colorbar": {
              "outlinewidth": 0,
              "ticks": ""
             }
            },
            "type": "scatterpolargl"
           }
          ],
          "scatterternary": [
           {
            "marker": {
             "colorbar": {
              "outlinewidth": 0,
              "ticks": ""
             }
            },
            "type": "scatterternary"
           }
          ],
          "surface": [
           {
            "colorbar": {
             "outlinewidth": 0,
             "ticks": ""
            },
            "colorscale": [
             [
              0,
              "#0d0887"
             ],
             [
              0.1111111111111111,
              "#46039f"
             ],
             [
              0.2222222222222222,
              "#7201a8"
             ],
             [
              0.3333333333333333,
              "#9c179e"
             ],
             [
              0.4444444444444444,
              "#bd3786"
             ],
             [
              0.5555555555555556,
              "#d8576b"
             ],
             [
              0.6666666666666666,
              "#ed7953"
             ],
             [
              0.7777777777777778,
              "#fb9f3a"
             ],
             [
              0.8888888888888888,
              "#fdca26"
             ],
             [
              1,
              "#f0f921"
             ]
            ],
            "type": "surface"
           }
          ],
          "table": [
           {
            "cells": {
             "fill": {
              "color": "#EBF0F8"
             },
             "line": {
              "color": "white"
             }
            },
            "header": {
             "fill": {
              "color": "#C8D4E3"
             },
             "line": {
              "color": "white"
             }
            },
            "type": "table"
           }
          ]
         },
         "layout": {
          "annotationdefaults": {
           "arrowcolor": "#2a3f5f",
           "arrowhead": 0,
           "arrowwidth": 1
          },
          "autotypenumbers": "strict",
          "coloraxis": {
           "colorbar": {
            "outlinewidth": 0,
            "ticks": ""
           }
          },
          "colorscale": {
           "diverging": [
            [
             0,
             "#8e0152"
            ],
            [
             0.1,
             "#c51b7d"
            ],
            [
             0.2,
             "#de77ae"
            ],
            [
             0.3,
             "#f1b6da"
            ],
            [
             0.4,
             "#fde0ef"
            ],
            [
             0.5,
             "#f7f7f7"
            ],
            [
             0.6,
             "#e6f5d0"
            ],
            [
             0.7,
             "#b8e186"
            ],
            [
             0.8,
             "#7fbc41"
            ],
            [
             0.9,
             "#4d9221"
            ],
            [
             1,
             "#276419"
            ]
           ],
           "sequential": [
            [
             0,
             "#0d0887"
            ],
            [
             0.1111111111111111,
             "#46039f"
            ],
            [
             0.2222222222222222,
             "#7201a8"
            ],
            [
             0.3333333333333333,
             "#9c179e"
            ],
            [
             0.4444444444444444,
             "#bd3786"
            ],
            [
             0.5555555555555556,
             "#d8576b"
            ],
            [
             0.6666666666666666,
             "#ed7953"
            ],
            [
             0.7777777777777778,
             "#fb9f3a"
            ],
            [
             0.8888888888888888,
             "#fdca26"
            ],
            [
             1,
             "#f0f921"
            ]
           ],
           "sequentialminus": [
            [
             0,
             "#0d0887"
            ],
            [
             0.1111111111111111,
             "#46039f"
            ],
            [
             0.2222222222222222,
             "#7201a8"
            ],
            [
             0.3333333333333333,
             "#9c179e"
            ],
            [
             0.4444444444444444,
             "#bd3786"
            ],
            [
             0.5555555555555556,
             "#d8576b"
            ],
            [
             0.6666666666666666,
             "#ed7953"
            ],
            [
             0.7777777777777778,
             "#fb9f3a"
            ],
            [
             0.8888888888888888,
             "#fdca26"
            ],
            [
             1,
             "#f0f921"
            ]
           ]
          },
          "colorway": [
           "#636efa",
           "#EF553B",
           "#00cc96",
           "#ab63fa",
           "#FFA15A",
           "#19d3f3",
           "#FF6692",
           "#B6E880",
           "#FF97FF",
           "#FECB52"
          ],
          "font": {
           "color": "#2a3f5f"
          },
          "geo": {
           "bgcolor": "white",
           "lakecolor": "white",
           "landcolor": "#E5ECF6",
           "showlakes": true,
           "showland": true,
           "subunitcolor": "white"
          },
          "hoverlabel": {
           "align": "left"
          },
          "hovermode": "closest",
          "mapbox": {
           "style": "light"
          },
          "paper_bgcolor": "white",
          "plot_bgcolor": "#E5ECF6",
          "polar": {
           "angularaxis": {
            "gridcolor": "white",
            "linecolor": "white",
            "ticks": ""
           },
           "bgcolor": "#E5ECF6",
           "radialaxis": {
            "gridcolor": "white",
            "linecolor": "white",
            "ticks": ""
           }
          },
          "scene": {
           "xaxis": {
            "backgroundcolor": "#E5ECF6",
            "gridcolor": "white",
            "gridwidth": 2,
            "linecolor": "white",
            "showbackground": true,
            "ticks": "",
            "zerolinecolor": "white"
           },
           "yaxis": {
            "backgroundcolor": "#E5ECF6",
            "gridcolor": "white",
            "gridwidth": 2,
            "linecolor": "white",
            "showbackground": true,
            "ticks": "",
            "zerolinecolor": "white"
           },
           "zaxis": {
            "backgroundcolor": "#E5ECF6",
            "gridcolor": "white",
            "gridwidth": 2,
            "linecolor": "white",
            "showbackground": true,
            "ticks": "",
            "zerolinecolor": "white"
           }
          },
          "shapedefaults": {
           "line": {
            "color": "#2a3f5f"
           }
          },
          "ternary": {
           "aaxis": {
            "gridcolor": "white",
            "linecolor": "white",
            "ticks": ""
           },
           "baxis": {
            "gridcolor": "white",
            "linecolor": "white",
            "ticks": ""
           },
           "bgcolor": "#E5ECF6",
           "caxis": {
            "gridcolor": "white",
            "linecolor": "white",
            "ticks": ""
           }
          },
          "title": {
           "x": 0.05
          },
          "xaxis": {
           "automargin": true,
           "gridcolor": "white",
           "linecolor": "white",
           "ticks": "",
           "title": {
            "standoff": 15
           },
           "zerolinecolor": "white",
           "zerolinewidth": 2
          },
          "yaxis": {
           "automargin": true,
           "gridcolor": "white",
           "linecolor": "white",
           "ticks": "",
           "title": {
            "standoff": 15
           },
           "zerolinecolor": "white",
           "zerolinewidth": 2
          }
         }
        },
        "xaxis": {
         "anchor": "y",
         "domain": [
          0,
          1
         ],
         "title": {
          "text": "Temperature"
         }
        },
        "yaxis": {
         "anchor": "x",
         "domain": [
          0,
          1
         ],
         "title": {
          "text": "Weekly_Sales"
         }
        }
       }
      }
     },
     "metadata": {},
     "output_type": "display_data"
    },
    {
     "data": {
      "application/vnd.plotly.v1+json": {
       "config": {
        "plotlyServerURL": "https://plot.ly"
       },
       "data": [
        {
         "hovertemplate": "Fuel_Price=%{x}<br>Weekly_Sales=%{y}<extra></extra>",
         "legendgroup": "",
         "marker": {
          "color": "#636efa",
          "symbol": "circle"
         },
         "mode": "markers",
         "name": "",
         "orientation": "v",
         "showlegend": false,
         "type": "scatter",
         "x": [
          3.045,
          3.435,
          null,
          2.759,
          2.756,
          4.069,
          3.617,
          3.109,
          3.555,
          3.554,
          2.878,
          3.767,
          3.734,
          2.853,
          2.78,
          2.85,
          2.7880000000000003,
          null,
          2.725,
          3.899,
          4.029,
          2.963,
          4.124,
          3.797,
          3.261,
          3.828,
          2.915,
          3.523,
          4.1930000000000005,
          3.103,
          null,
          3.48,
          3.789,
          3.467,
          3.823,
          3.57,
          3.297,
          4.023,
          3.659,
          3.73,
          3.485,
          2.548,
          3.555,
          2.64,
          2.958,
          3.684,
          3.75,
          3.788,
          2.728,
          2.653,
          3.625,
          3.666,
          3.648,
          2.619,
          2.64,
          3.695,
          4.046,
          3.882,
          3.236,
          3.594,
          3.149,
          3.287,
          2.792,
          2.572,
          3.701,
          3.139,
          2.817,
          2.619,
          3.594,
          2.8080000000000003,
          4.021,
          3.3080000000000003,
          null,
          2.7710000000000004,
          3.63,
          3.51,
          3.972,
          2.9760000000000004,
          3.793,
          3.688,
          3.739,
          3.786,
          2.642,
          3.63,
          2.667,
          4.087,
          3.76,
          2.854,
          null,
          null,
          null,
          2.814,
          2.637,
          null,
          3.815,
          2.86,
          3.346,
          2.932,
          null,
          2.548,
          2.906,
          3.179,
          3.722,
          2.514,
          null,
          2.735,
          2.909,
          3.936,
          2.637,
          3.193,
          2.582,
          3.682,
          3.596,
          3.786,
          null,
          3.3080000000000003,
          2.7110000000000003,
          3.606,
          3.84,
          3.529,
          2.8310000000000004,
          3.627,
          3.044,
          3.469,
          3.112,
          3.807,
          3.804,
          null,
          3.285,
          2.705,
          3.594,
          2.78,
          2.778,
          2.841,
          3.638,
          4.17
         ],
         "xaxis": "x",
         "y": [
          1572117.54,
          1807545.43,
          1244390.03,
          1644470.66,
          1857533.7,
          695396.19,
          2203523.2,
          2600519.26,
          418925.47,
          895066.5,
          1029618.1,
          414094.05,
          1677472.78,
          829207.27,
          1498080.16,
          1997397.63,
          1205307.5,
          2432736.52,
          561145.14,
          290930.01,
          1074079,
          1427023.45,
          1405007.44,
          919878.34,
          367438.62,
          435397.19,
          757738.76,
          1420405.41,
          1021154.48,
          563460.77,
          2077256.24,
          1853161.99,
          1266564.94,
          365248.94,
          988157.72,
          2008344.92,
          311906.7,
          961186.23,
          526525.16,
          1661767.33,
          629994.47,
          1641957.44,
          1861802.7,
          268929.03,
          1549018.68,
          1624383.75,
          485095.41,
          2035431.39,
          1916812.74,
          509263.28,
          1879451.23,
          1805999.79,
          1847430.96,
          888816.78,
          1532308.78,
          2020550.99,
          2095599.93,
          1990371.02,
          1295605.35,
          313358.15,
          2771397.17,
          1714309.9,
          1166117.85,
          461622.22,
          955913.68,
          1588430.71,
          2461468.35,
          1449142.92,
          1508068.77,
          1973135.87,
          570611.23,
          1539483.7,
          1789687.65,
          519823.3,
          359206.21,
          1569607.94,
          607475.44,
          1758050.79,
          986922.62,
          431985.36,
          2045837.55,
          1797732.56,
          485389.15,
          1046782.52,
          384200.69,
          964332.51,
          1953544.76,
          1494251.5,
          860336.16,
          298697.84,
          1768172.31,
          2018314.71,
          364076.85,
          1799520.14,
          1087051.26,
          2302504.86,
          419497.95,
          1366395.96,
          2095591.63,
          994801.4,
          1256282.79,
          1799737.79,
          1468350.36,
          2124451.54,
          1811606.21,
          1757242.51,
          660838.75,
          457340.06,
          513073.87,
          1864746.1,
          836707.85,
          275142.17,
          597876.55,
          1466046.67,
          1467473.63,
          398838.97,
          614253.33,
          1970341.38,
          1048134.24,
          2025582.62,
          855459.96,
          2036231.39,
          903119.03,
          2066541.86,
          1831676.03,
          1639358.93,
          532739.77,
          301827.36,
          403342.4,
          396968.8,
          424513.08,
          2248645.59,
          716388.81,
          845252.21,
          856796.1,
          1255087.26
         ],
         "yaxis": "y"
        }
       ],
       "layout": {
        "legend": {
         "tracegroupgap": 0
        },
        "margin": {
         "t": 60
        },
        "template": {
         "data": {
          "bar": [
           {
            "error_x": {
             "color": "#2a3f5f"
            },
            "error_y": {
             "color": "#2a3f5f"
            },
            "marker": {
             "line": {
              "color": "#E5ECF6",
              "width": 0.5
             },
             "pattern": {
              "fillmode": "overlay",
              "size": 10,
              "solidity": 0.2
             }
            },
            "type": "bar"
           }
          ],
          "barpolar": [
           {
            "marker": {
             "line": {
              "color": "#E5ECF6",
              "width": 0.5
             },
             "pattern": {
              "fillmode": "overlay",
              "size": 10,
              "solidity": 0.2
             }
            },
            "type": "barpolar"
           }
          ],
          "carpet": [
           {
            "aaxis": {
             "endlinecolor": "#2a3f5f",
             "gridcolor": "white",
             "linecolor": "white",
             "minorgridcolor": "white",
             "startlinecolor": "#2a3f5f"
            },
            "baxis": {
             "endlinecolor": "#2a3f5f",
             "gridcolor": "white",
             "linecolor": "white",
             "minorgridcolor": "white",
             "startlinecolor": "#2a3f5f"
            },
            "type": "carpet"
           }
          ],
          "choropleth": [
           {
            "colorbar": {
             "outlinewidth": 0,
             "ticks": ""
            },
            "type": "choropleth"
           }
          ],
          "contour": [
           {
            "colorbar": {
             "outlinewidth": 0,
             "ticks": ""
            },
            "colorscale": [
             [
              0,
              "#0d0887"
             ],
             [
              0.1111111111111111,
              "#46039f"
             ],
             [
              0.2222222222222222,
              "#7201a8"
             ],
             [
              0.3333333333333333,
              "#9c179e"
             ],
             [
              0.4444444444444444,
              "#bd3786"
             ],
             [
              0.5555555555555556,
              "#d8576b"
             ],
             [
              0.6666666666666666,
              "#ed7953"
             ],
             [
              0.7777777777777778,
              "#fb9f3a"
             ],
             [
              0.8888888888888888,
              "#fdca26"
             ],
             [
              1,
              "#f0f921"
             ]
            ],
            "type": "contour"
           }
          ],
          "contourcarpet": [
           {
            "colorbar": {
             "outlinewidth": 0,
             "ticks": ""
            },
            "type": "contourcarpet"
           }
          ],
          "heatmap": [
           {
            "colorbar": {
             "outlinewidth": 0,
             "ticks": ""
            },
            "colorscale": [
             [
              0,
              "#0d0887"
             ],
             [
              0.1111111111111111,
              "#46039f"
             ],
             [
              0.2222222222222222,
              "#7201a8"
             ],
             [
              0.3333333333333333,
              "#9c179e"
             ],
             [
              0.4444444444444444,
              "#bd3786"
             ],
             [
              0.5555555555555556,
              "#d8576b"
             ],
             [
              0.6666666666666666,
              "#ed7953"
             ],
             [
              0.7777777777777778,
              "#fb9f3a"
             ],
             [
              0.8888888888888888,
              "#fdca26"
             ],
             [
              1,
              "#f0f921"
             ]
            ],
            "type": "heatmap"
           }
          ],
          "heatmapgl": [
           {
            "colorbar": {
             "outlinewidth": 0,
             "ticks": ""
            },
            "colorscale": [
             [
              0,
              "#0d0887"
             ],
             [
              0.1111111111111111,
              "#46039f"
             ],
             [
              0.2222222222222222,
              "#7201a8"
             ],
             [
              0.3333333333333333,
              "#9c179e"
             ],
             [
              0.4444444444444444,
              "#bd3786"
             ],
             [
              0.5555555555555556,
              "#d8576b"
             ],
             [
              0.6666666666666666,
              "#ed7953"
             ],
             [
              0.7777777777777778,
              "#fb9f3a"
             ],
             [
              0.8888888888888888,
              "#fdca26"
             ],
             [
              1,
              "#f0f921"
             ]
            ],
            "type": "heatmapgl"
           }
          ],
          "histogram": [
           {
            "marker": {
             "pattern": {
              "fillmode": "overlay",
              "size": 10,
              "solidity": 0.2
             }
            },
            "type": "histogram"
           }
          ],
          "histogram2d": [
           {
            "colorbar": {
             "outlinewidth": 0,
             "ticks": ""
            },
            "colorscale": [
             [
              0,
              "#0d0887"
             ],
             [
              0.1111111111111111,
              "#46039f"
             ],
             [
              0.2222222222222222,
              "#7201a8"
             ],
             [
              0.3333333333333333,
              "#9c179e"
             ],
             [
              0.4444444444444444,
              "#bd3786"
             ],
             [
              0.5555555555555556,
              "#d8576b"
             ],
             [
              0.6666666666666666,
              "#ed7953"
             ],
             [
              0.7777777777777778,
              "#fb9f3a"
             ],
             [
              0.8888888888888888,
              "#fdca26"
             ],
             [
              1,
              "#f0f921"
             ]
            ],
            "type": "histogram2d"
           }
          ],
          "histogram2dcontour": [
           {
            "colorbar": {
             "outlinewidth": 0,
             "ticks": ""
            },
            "colorscale": [
             [
              0,
              "#0d0887"
             ],
             [
              0.1111111111111111,
              "#46039f"
             ],
             [
              0.2222222222222222,
              "#7201a8"
             ],
             [
              0.3333333333333333,
              "#9c179e"
             ],
             [
              0.4444444444444444,
              "#bd3786"
             ],
             [
              0.5555555555555556,
              "#d8576b"
             ],
             [
              0.6666666666666666,
              "#ed7953"
             ],
             [
              0.7777777777777778,
              "#fb9f3a"
             ],
             [
              0.8888888888888888,
              "#fdca26"
             ],
             [
              1,
              "#f0f921"
             ]
            ],
            "type": "histogram2dcontour"
           }
          ],
          "mesh3d": [
           {
            "colorbar": {
             "outlinewidth": 0,
             "ticks": ""
            },
            "type": "mesh3d"
           }
          ],
          "parcoords": [
           {
            "line": {
             "colorbar": {
              "outlinewidth": 0,
              "ticks": ""
             }
            },
            "type": "parcoords"
           }
          ],
          "pie": [
           {
            "automargin": true,
            "type": "pie"
           }
          ],
          "scatter": [
           {
            "fillpattern": {
             "fillmode": "overlay",
             "size": 10,
             "solidity": 0.2
            },
            "type": "scatter"
           }
          ],
          "scatter3d": [
           {
            "line": {
             "colorbar": {
              "outlinewidth": 0,
              "ticks": ""
             }
            },
            "marker": {
             "colorbar": {
              "outlinewidth": 0,
              "ticks": ""
             }
            },
            "type": "scatter3d"
           }
          ],
          "scattercarpet": [
           {
            "marker": {
             "colorbar": {
              "outlinewidth": 0,
              "ticks": ""
             }
            },
            "type": "scattercarpet"
           }
          ],
          "scattergeo": [
           {
            "marker": {
             "colorbar": {
              "outlinewidth": 0,
              "ticks": ""
             }
            },
            "type": "scattergeo"
           }
          ],
          "scattergl": [
           {
            "marker": {
             "colorbar": {
              "outlinewidth": 0,
              "ticks": ""
             }
            },
            "type": "scattergl"
           }
          ],
          "scattermapbox": [
           {
            "marker": {
             "colorbar": {
              "outlinewidth": 0,
              "ticks": ""
             }
            },
            "type": "scattermapbox"
           }
          ],
          "scatterpolar": [
           {
            "marker": {
             "colorbar": {
              "outlinewidth": 0,
              "ticks": ""
             }
            },
            "type": "scatterpolar"
           }
          ],
          "scatterpolargl": [
           {
            "marker": {
             "colorbar": {
              "outlinewidth": 0,
              "ticks": ""
             }
            },
            "type": "scatterpolargl"
           }
          ],
          "scatterternary": [
           {
            "marker": {
             "colorbar": {
              "outlinewidth": 0,
              "ticks": ""
             }
            },
            "type": "scatterternary"
           }
          ],
          "surface": [
           {
            "colorbar": {
             "outlinewidth": 0,
             "ticks": ""
            },
            "colorscale": [
             [
              0,
              "#0d0887"
             ],
             [
              0.1111111111111111,
              "#46039f"
             ],
             [
              0.2222222222222222,
              "#7201a8"
             ],
             [
              0.3333333333333333,
              "#9c179e"
             ],
             [
              0.4444444444444444,
              "#bd3786"
             ],
             [
              0.5555555555555556,
              "#d8576b"
             ],
             [
              0.6666666666666666,
              "#ed7953"
             ],
             [
              0.7777777777777778,
              "#fb9f3a"
             ],
             [
              0.8888888888888888,
              "#fdca26"
             ],
             [
              1,
              "#f0f921"
             ]
            ],
            "type": "surface"
           }
          ],
          "table": [
           {
            "cells": {
             "fill": {
              "color": "#EBF0F8"
             },
             "line": {
              "color": "white"
             }
            },
            "header": {
             "fill": {
              "color": "#C8D4E3"
             },
             "line": {
              "color": "white"
             }
            },
            "type": "table"
           }
          ]
         },
         "layout": {
          "annotationdefaults": {
           "arrowcolor": "#2a3f5f",
           "arrowhead": 0,
           "arrowwidth": 1
          },
          "autotypenumbers": "strict",
          "coloraxis": {
           "colorbar": {
            "outlinewidth": 0,
            "ticks": ""
           }
          },
          "colorscale": {
           "diverging": [
            [
             0,
             "#8e0152"
            ],
            [
             0.1,
             "#c51b7d"
            ],
            [
             0.2,
             "#de77ae"
            ],
            [
             0.3,
             "#f1b6da"
            ],
            [
             0.4,
             "#fde0ef"
            ],
            [
             0.5,
             "#f7f7f7"
            ],
            [
             0.6,
             "#e6f5d0"
            ],
            [
             0.7,
             "#b8e186"
            ],
            [
             0.8,
             "#7fbc41"
            ],
            [
             0.9,
             "#4d9221"
            ],
            [
             1,
             "#276419"
            ]
           ],
           "sequential": [
            [
             0,
             "#0d0887"
            ],
            [
             0.1111111111111111,
             "#46039f"
            ],
            [
             0.2222222222222222,
             "#7201a8"
            ],
            [
             0.3333333333333333,
             "#9c179e"
            ],
            [
             0.4444444444444444,
             "#bd3786"
            ],
            [
             0.5555555555555556,
             "#d8576b"
            ],
            [
             0.6666666666666666,
             "#ed7953"
            ],
            [
             0.7777777777777778,
             "#fb9f3a"
            ],
            [
             0.8888888888888888,
             "#fdca26"
            ],
            [
             1,
             "#f0f921"
            ]
           ],
           "sequentialminus": [
            [
             0,
             "#0d0887"
            ],
            [
             0.1111111111111111,
             "#46039f"
            ],
            [
             0.2222222222222222,
             "#7201a8"
            ],
            [
             0.3333333333333333,
             "#9c179e"
            ],
            [
             0.4444444444444444,
             "#bd3786"
            ],
            [
             0.5555555555555556,
             "#d8576b"
            ],
            [
             0.6666666666666666,
             "#ed7953"
            ],
            [
             0.7777777777777778,
             "#fb9f3a"
            ],
            [
             0.8888888888888888,
             "#fdca26"
            ],
            [
             1,
             "#f0f921"
            ]
           ]
          },
          "colorway": [
           "#636efa",
           "#EF553B",
           "#00cc96",
           "#ab63fa",
           "#FFA15A",
           "#19d3f3",
           "#FF6692",
           "#B6E880",
           "#FF97FF",
           "#FECB52"
          ],
          "font": {
           "color": "#2a3f5f"
          },
          "geo": {
           "bgcolor": "white",
           "lakecolor": "white",
           "landcolor": "#E5ECF6",
           "showlakes": true,
           "showland": true,
           "subunitcolor": "white"
          },
          "hoverlabel": {
           "align": "left"
          },
          "hovermode": "closest",
          "mapbox": {
           "style": "light"
          },
          "paper_bgcolor": "white",
          "plot_bgcolor": "#E5ECF6",
          "polar": {
           "angularaxis": {
            "gridcolor": "white",
            "linecolor": "white",
            "ticks": ""
           },
           "bgcolor": "#E5ECF6",
           "radialaxis": {
            "gridcolor": "white",
            "linecolor": "white",
            "ticks": ""
           }
          },
          "scene": {
           "xaxis": {
            "backgroundcolor": "#E5ECF6",
            "gridcolor": "white",
            "gridwidth": 2,
            "linecolor": "white",
            "showbackground": true,
            "ticks": "",
            "zerolinecolor": "white"
           },
           "yaxis": {
            "backgroundcolor": "#E5ECF6",
            "gridcolor": "white",
            "gridwidth": 2,
            "linecolor": "white",
            "showbackground": true,
            "ticks": "",
            "zerolinecolor": "white"
           },
           "zaxis": {
            "backgroundcolor": "#E5ECF6",
            "gridcolor": "white",
            "gridwidth": 2,
            "linecolor": "white",
            "showbackground": true,
            "ticks": "",
            "zerolinecolor": "white"
           }
          },
          "shapedefaults": {
           "line": {
            "color": "#2a3f5f"
           }
          },
          "ternary": {
           "aaxis": {
            "gridcolor": "white",
            "linecolor": "white",
            "ticks": ""
           },
           "baxis": {
            "gridcolor": "white",
            "linecolor": "white",
            "ticks": ""
           },
           "bgcolor": "#E5ECF6",
           "caxis": {
            "gridcolor": "white",
            "linecolor": "white",
            "ticks": ""
           }
          },
          "title": {
           "x": 0.05
          },
          "xaxis": {
           "automargin": true,
           "gridcolor": "white",
           "linecolor": "white",
           "ticks": "",
           "title": {
            "standoff": 15
           },
           "zerolinecolor": "white",
           "zerolinewidth": 2
          },
          "yaxis": {
           "automargin": true,
           "gridcolor": "white",
           "linecolor": "white",
           "ticks": "",
           "title": {
            "standoff": 15
           },
           "zerolinecolor": "white",
           "zerolinewidth": 2
          }
         }
        },
        "xaxis": {
         "anchor": "y",
         "domain": [
          0,
          1
         ],
         "title": {
          "text": "Fuel_Price"
         }
        },
        "yaxis": {
         "anchor": "x",
         "domain": [
          0,
          1
         ],
         "title": {
          "text": "Weekly_Sales"
         }
        }
       }
      }
     },
     "metadata": {},
     "output_type": "display_data"
    },
    {
     "data": {
      "application/vnd.plotly.v1+json": {
       "config": {
        "plotlyServerURL": "https://plot.ly"
       },
       "data": [
        {
         "hovertemplate": "CPI=%{x}<br>Weekly_Sales=%{y}<extra></extra>",
         "legendgroup": "",
         "marker": {
          "color": "#636efa",
          "symbol": "circle"
         },
         "mode": "markers",
         "name": "",
         "orientation": "v",
         "showlegend": false,
         "type": "scatter",
         "x": [
          214.7775231,
          128.6160645,
          214.55649680000005,
          212.412888,
          126.1602258,
          134.85516130000002,
          213.0236225,
          null,
          224.1320199,
          219.07019680000005,
          132.7633548,
          192.826069,
          221.2118132,
          126.2346,
          211.8942725,
          null,
          131.52790320000005,
          null,
          189.7048215,
          216.5343611,
          138.9117,
          131.863129,
          138.0332,
          131.1083333,
          null,
          192.831317,
          126.5621,
          217.2706543,
          129.04443329999998,
          196.9195056,
          null,
          214.9296249,
          133.9587419,
          219.7414914,
          134.2784667,
          129.0663,
          218.5699621,
          137.9781333,
          198.1267184,
          222.4390153,
          194.3796374,
          211.24216980000003,
          220.275944,
          211.9270006,
          132.5218667,
          215.544618,
          197.4133259,
          130.95922579999998,
          211.6608975,
          214.8965756,
          184.9943679,
          130.7196333,
          129.5183333,
          214.9362793,
          212.8944846,
          189.8424834,
          185.9374378,
          130.6457931,
          126.8794839,
          224.0192873,
          129.8980645,
          127.1917742,
          132.6141935,
          214.4248812,
          129.2015806,
          null,
          126.7934,
          211.5673056,
          223.4257233,
          204.5675459,
          137.5843871,
          218.2205088,
          null,
          215.43728540000004,
          221.4342146,
          223.9170153,
          135.8738387,
          211.0648881,
          131.03754840000002,
          225.2351496,
          213.4725116,
          215.1544822,
          214.6564301,
          null,
          214.7027646,
          129.0623548,
          186.1399808,
          210.3374261,
          214.7492449,
          210.939388,
          126.1266,
          126.1392,
          214.7858259,
          219.355063,
          135.4468,
          126.7934,
          225.3068615,
          132.5983871,
          null,
          214.62141890000004,
          132.2939355,
          204.6432267,
          138.1629,
          210.9451605,
          130.27922579999998,
          215.0614025,
          131.637,
          197.7227385,
          215.0166484,
          182.5983058,
          214.8785562,
          216.0464364,
          198.0950484,
          215.5037878,
          134.94254840000002,
          221.6432852,
          189.5231276,
          129.2015806,
          138.1857097,
          130.82619350000002,
          126.5461613,
          129.1507742,
          126.11458059999998,
          129.1125,
          126.1283548,
          217.0146941,
          197.5886046,
          212.5604113,
          null,
          214.4958382,
          226.9688442,
          182.4424199,
          null,
          126.1119032,
          219.0075249,
          137.9230667
         ],
         "xaxis": "x",
         "y": [
          1572117.54,
          1807545.43,
          1244390.03,
          1644470.66,
          1857533.7,
          695396.19,
          2203523.2,
          2600519.26,
          418925.47,
          895066.5,
          1029618.1,
          414094.05,
          1677472.78,
          829207.27,
          1498080.16,
          1997397.63,
          1205307.5,
          2432736.52,
          561145.14,
          290930.01,
          1074079,
          1427023.45,
          1405007.44,
          919878.34,
          367438.62,
          435397.19,
          757738.76,
          1420405.41,
          1021154.48,
          563460.77,
          2077256.24,
          1853161.99,
          1266564.94,
          365248.94,
          988157.72,
          2008344.92,
          311906.7,
          961186.23,
          526525.16,
          1661767.33,
          629994.47,
          1641957.44,
          1861802.7,
          268929.03,
          1549018.68,
          1624383.75,
          485095.41,
          2035431.39,
          1916812.74,
          509263.28,
          1879451.23,
          1805999.79,
          1847430.96,
          888816.78,
          1532308.78,
          2020550.99,
          2095599.93,
          1990371.02,
          1295605.35,
          313358.15,
          2771397.17,
          1714309.9,
          1166117.85,
          461622.22,
          955913.68,
          1588430.71,
          2461468.35,
          1449142.92,
          1508068.77,
          1973135.87,
          570611.23,
          1539483.7,
          1789687.65,
          519823.3,
          359206.21,
          1569607.94,
          607475.44,
          1758050.79,
          986922.62,
          431985.36,
          2045837.55,
          1797732.56,
          485389.15,
          1046782.52,
          384200.69,
          964332.51,
          1953544.76,
          1494251.5,
          860336.16,
          298697.84,
          1768172.31,
          2018314.71,
          364076.85,
          1799520.14,
          1087051.26,
          2302504.86,
          419497.95,
          1366395.96,
          2095591.63,
          994801.4,
          1256282.79,
          1799737.79,
          1468350.36,
          2124451.54,
          1811606.21,
          1757242.51,
          660838.75,
          457340.06,
          513073.87,
          1864746.1,
          836707.85,
          275142.17,
          597876.55,
          1466046.67,
          1467473.63,
          398838.97,
          614253.33,
          1970341.38,
          1048134.24,
          2025582.62,
          855459.96,
          2036231.39,
          903119.03,
          2066541.86,
          1831676.03,
          1639358.93,
          532739.77,
          301827.36,
          403342.4,
          396968.8,
          424513.08,
          2248645.59,
          716388.81,
          845252.21,
          856796.1,
          1255087.26
         ],
         "yaxis": "y"
        }
       ],
       "layout": {
        "legend": {
         "tracegroupgap": 0
        },
        "margin": {
         "t": 60
        },
        "template": {
         "data": {
          "bar": [
           {
            "error_x": {
             "color": "#2a3f5f"
            },
            "error_y": {
             "color": "#2a3f5f"
            },
            "marker": {
             "line": {
              "color": "#E5ECF6",
              "width": 0.5
             },
             "pattern": {
              "fillmode": "overlay",
              "size": 10,
              "solidity": 0.2
             }
            },
            "type": "bar"
           }
          ],
          "barpolar": [
           {
            "marker": {
             "line": {
              "color": "#E5ECF6",
              "width": 0.5
             },
             "pattern": {
              "fillmode": "overlay",
              "size": 10,
              "solidity": 0.2
             }
            },
            "type": "barpolar"
           }
          ],
          "carpet": [
           {
            "aaxis": {
             "endlinecolor": "#2a3f5f",
             "gridcolor": "white",
             "linecolor": "white",
             "minorgridcolor": "white",
             "startlinecolor": "#2a3f5f"
            },
            "baxis": {
             "endlinecolor": "#2a3f5f",
             "gridcolor": "white",
             "linecolor": "white",
             "minorgridcolor": "white",
             "startlinecolor": "#2a3f5f"
            },
            "type": "carpet"
           }
          ],
          "choropleth": [
           {
            "colorbar": {
             "outlinewidth": 0,
             "ticks": ""
            },
            "type": "choropleth"
           }
          ],
          "contour": [
           {
            "colorbar": {
             "outlinewidth": 0,
             "ticks": ""
            },
            "colorscale": [
             [
              0,
              "#0d0887"
             ],
             [
              0.1111111111111111,
              "#46039f"
             ],
             [
              0.2222222222222222,
              "#7201a8"
             ],
             [
              0.3333333333333333,
              "#9c179e"
             ],
             [
              0.4444444444444444,
              "#bd3786"
             ],
             [
              0.5555555555555556,
              "#d8576b"
             ],
             [
              0.6666666666666666,
              "#ed7953"
             ],
             [
              0.7777777777777778,
              "#fb9f3a"
             ],
             [
              0.8888888888888888,
              "#fdca26"
             ],
             [
              1,
              "#f0f921"
             ]
            ],
            "type": "contour"
           }
          ],
          "contourcarpet": [
           {
            "colorbar": {
             "outlinewidth": 0,
             "ticks": ""
            },
            "type": "contourcarpet"
           }
          ],
          "heatmap": [
           {
            "colorbar": {
             "outlinewidth": 0,
             "ticks": ""
            },
            "colorscale": [
             [
              0,
              "#0d0887"
             ],
             [
              0.1111111111111111,
              "#46039f"
             ],
             [
              0.2222222222222222,
              "#7201a8"
             ],
             [
              0.3333333333333333,
              "#9c179e"
             ],
             [
              0.4444444444444444,
              "#bd3786"
             ],
             [
              0.5555555555555556,
              "#d8576b"
             ],
             [
              0.6666666666666666,
              "#ed7953"
             ],
             [
              0.7777777777777778,
              "#fb9f3a"
             ],
             [
              0.8888888888888888,
              "#fdca26"
             ],
             [
              1,
              "#f0f921"
             ]
            ],
            "type": "heatmap"
           }
          ],
          "heatmapgl": [
           {
            "colorbar": {
             "outlinewidth": 0,
             "ticks": ""
            },
            "colorscale": [
             [
              0,
              "#0d0887"
             ],
             [
              0.1111111111111111,
              "#46039f"
             ],
             [
              0.2222222222222222,
              "#7201a8"
             ],
             [
              0.3333333333333333,
              "#9c179e"
             ],
             [
              0.4444444444444444,
              "#bd3786"
             ],
             [
              0.5555555555555556,
              "#d8576b"
             ],
             [
              0.6666666666666666,
              "#ed7953"
             ],
             [
              0.7777777777777778,
              "#fb9f3a"
             ],
             [
              0.8888888888888888,
              "#fdca26"
             ],
             [
              1,
              "#f0f921"
             ]
            ],
            "type": "heatmapgl"
           }
          ],
          "histogram": [
           {
            "marker": {
             "pattern": {
              "fillmode": "overlay",
              "size": 10,
              "solidity": 0.2
             }
            },
            "type": "histogram"
           }
          ],
          "histogram2d": [
           {
            "colorbar": {
             "outlinewidth": 0,
             "ticks": ""
            },
            "colorscale": [
             [
              0,
              "#0d0887"
             ],
             [
              0.1111111111111111,
              "#46039f"
             ],
             [
              0.2222222222222222,
              "#7201a8"
             ],
             [
              0.3333333333333333,
              "#9c179e"
             ],
             [
              0.4444444444444444,
              "#bd3786"
             ],
             [
              0.5555555555555556,
              "#d8576b"
             ],
             [
              0.6666666666666666,
              "#ed7953"
             ],
             [
              0.7777777777777778,
              "#fb9f3a"
             ],
             [
              0.8888888888888888,
              "#fdca26"
             ],
             [
              1,
              "#f0f921"
             ]
            ],
            "type": "histogram2d"
           }
          ],
          "histogram2dcontour": [
           {
            "colorbar": {
             "outlinewidth": 0,
             "ticks": ""
            },
            "colorscale": [
             [
              0,
              "#0d0887"
             ],
             [
              0.1111111111111111,
              "#46039f"
             ],
             [
              0.2222222222222222,
              "#7201a8"
             ],
             [
              0.3333333333333333,
              "#9c179e"
             ],
             [
              0.4444444444444444,
              "#bd3786"
             ],
             [
              0.5555555555555556,
              "#d8576b"
             ],
             [
              0.6666666666666666,
              "#ed7953"
             ],
             [
              0.7777777777777778,
              "#fb9f3a"
             ],
             [
              0.8888888888888888,
              "#fdca26"
             ],
             [
              1,
              "#f0f921"
             ]
            ],
            "type": "histogram2dcontour"
           }
          ],
          "mesh3d": [
           {
            "colorbar": {
             "outlinewidth": 0,
             "ticks": ""
            },
            "type": "mesh3d"
           }
          ],
          "parcoords": [
           {
            "line": {
             "colorbar": {
              "outlinewidth": 0,
              "ticks": ""
             }
            },
            "type": "parcoords"
           }
          ],
          "pie": [
           {
            "automargin": true,
            "type": "pie"
           }
          ],
          "scatter": [
           {
            "fillpattern": {
             "fillmode": "overlay",
             "size": 10,
             "solidity": 0.2
            },
            "type": "scatter"
           }
          ],
          "scatter3d": [
           {
            "line": {
             "colorbar": {
              "outlinewidth": 0,
              "ticks": ""
             }
            },
            "marker": {
             "colorbar": {
              "outlinewidth": 0,
              "ticks": ""
             }
            },
            "type": "scatter3d"
           }
          ],
          "scattercarpet": [
           {
            "marker": {
             "colorbar": {
              "outlinewidth": 0,
              "ticks": ""
             }
            },
            "type": "scattercarpet"
           }
          ],
          "scattergeo": [
           {
            "marker": {
             "colorbar": {
              "outlinewidth": 0,
              "ticks": ""
             }
            },
            "type": "scattergeo"
           }
          ],
          "scattergl": [
           {
            "marker": {
             "colorbar": {
              "outlinewidth": 0,
              "ticks": ""
             }
            },
            "type": "scattergl"
           }
          ],
          "scattermapbox": [
           {
            "marker": {
             "colorbar": {
              "outlinewidth": 0,
              "ticks": ""
             }
            },
            "type": "scattermapbox"
           }
          ],
          "scatterpolar": [
           {
            "marker": {
             "colorbar": {
              "outlinewidth": 0,
              "ticks": ""
             }
            },
            "type": "scatterpolar"
           }
          ],
          "scatterpolargl": [
           {
            "marker": {
             "colorbar": {
              "outlinewidth": 0,
              "ticks": ""
             }
            },
            "type": "scatterpolargl"
           }
          ],
          "scatterternary": [
           {
            "marker": {
             "colorbar": {
              "outlinewidth": 0,
              "ticks": ""
             }
            },
            "type": "scatterternary"
           }
          ],
          "surface": [
           {
            "colorbar": {
             "outlinewidth": 0,
             "ticks": ""
            },
            "colorscale": [
             [
              0,
              "#0d0887"
             ],
             [
              0.1111111111111111,
              "#46039f"
             ],
             [
              0.2222222222222222,
              "#7201a8"
             ],
             [
              0.3333333333333333,
              "#9c179e"
             ],
             [
              0.4444444444444444,
              "#bd3786"
             ],
             [
              0.5555555555555556,
              "#d8576b"
             ],
             [
              0.6666666666666666,
              "#ed7953"
             ],
             [
              0.7777777777777778,
              "#fb9f3a"
             ],
             [
              0.8888888888888888,
              "#fdca26"
             ],
             [
              1,
              "#f0f921"
             ]
            ],
            "type": "surface"
           }
          ],
          "table": [
           {
            "cells": {
             "fill": {
              "color": "#EBF0F8"
             },
             "line": {
              "color": "white"
             }
            },
            "header": {
             "fill": {
              "color": "#C8D4E3"
             },
             "line": {
              "color": "white"
             }
            },
            "type": "table"
           }
          ]
         },
         "layout": {
          "annotationdefaults": {
           "arrowcolor": "#2a3f5f",
           "arrowhead": 0,
           "arrowwidth": 1
          },
          "autotypenumbers": "strict",
          "coloraxis": {
           "colorbar": {
            "outlinewidth": 0,
            "ticks": ""
           }
          },
          "colorscale": {
           "diverging": [
            [
             0,
             "#8e0152"
            ],
            [
             0.1,
             "#c51b7d"
            ],
            [
             0.2,
             "#de77ae"
            ],
            [
             0.3,
             "#f1b6da"
            ],
            [
             0.4,
             "#fde0ef"
            ],
            [
             0.5,
             "#f7f7f7"
            ],
            [
             0.6,
             "#e6f5d0"
            ],
            [
             0.7,
             "#b8e186"
            ],
            [
             0.8,
             "#7fbc41"
            ],
            [
             0.9,
             "#4d9221"
            ],
            [
             1,
             "#276419"
            ]
           ],
           "sequential": [
            [
             0,
             "#0d0887"
            ],
            [
             0.1111111111111111,
             "#46039f"
            ],
            [
             0.2222222222222222,
             "#7201a8"
            ],
            [
             0.3333333333333333,
             "#9c179e"
            ],
            [
             0.4444444444444444,
             "#bd3786"
            ],
            [
             0.5555555555555556,
             "#d8576b"
            ],
            [
             0.6666666666666666,
             "#ed7953"
            ],
            [
             0.7777777777777778,
             "#fb9f3a"
            ],
            [
             0.8888888888888888,
             "#fdca26"
            ],
            [
             1,
             "#f0f921"
            ]
           ],
           "sequentialminus": [
            [
             0,
             "#0d0887"
            ],
            [
             0.1111111111111111,
             "#46039f"
            ],
            [
             0.2222222222222222,
             "#7201a8"
            ],
            [
             0.3333333333333333,
             "#9c179e"
            ],
            [
             0.4444444444444444,
             "#bd3786"
            ],
            [
             0.5555555555555556,
             "#d8576b"
            ],
            [
             0.6666666666666666,
             "#ed7953"
            ],
            [
             0.7777777777777778,
             "#fb9f3a"
            ],
            [
             0.8888888888888888,
             "#fdca26"
            ],
            [
             1,
             "#f0f921"
            ]
           ]
          },
          "colorway": [
           "#636efa",
           "#EF553B",
           "#00cc96",
           "#ab63fa",
           "#FFA15A",
           "#19d3f3",
           "#FF6692",
           "#B6E880",
           "#FF97FF",
           "#FECB52"
          ],
          "font": {
           "color": "#2a3f5f"
          },
          "geo": {
           "bgcolor": "white",
           "lakecolor": "white",
           "landcolor": "#E5ECF6",
           "showlakes": true,
           "showland": true,
           "subunitcolor": "white"
          },
          "hoverlabel": {
           "align": "left"
          },
          "hovermode": "closest",
          "mapbox": {
           "style": "light"
          },
          "paper_bgcolor": "white",
          "plot_bgcolor": "#E5ECF6",
          "polar": {
           "angularaxis": {
            "gridcolor": "white",
            "linecolor": "white",
            "ticks": ""
           },
           "bgcolor": "#E5ECF6",
           "radialaxis": {
            "gridcolor": "white",
            "linecolor": "white",
            "ticks": ""
           }
          },
          "scene": {
           "xaxis": {
            "backgroundcolor": "#E5ECF6",
            "gridcolor": "white",
            "gridwidth": 2,
            "linecolor": "white",
            "showbackground": true,
            "ticks": "",
            "zerolinecolor": "white"
           },
           "yaxis": {
            "backgroundcolor": "#E5ECF6",
            "gridcolor": "white",
            "gridwidth": 2,
            "linecolor": "white",
            "showbackground": true,
            "ticks": "",
            "zerolinecolor": "white"
           },
           "zaxis": {
            "backgroundcolor": "#E5ECF6",
            "gridcolor": "white",
            "gridwidth": 2,
            "linecolor": "white",
            "showbackground": true,
            "ticks": "",
            "zerolinecolor": "white"
           }
          },
          "shapedefaults": {
           "line": {
            "color": "#2a3f5f"
           }
          },
          "ternary": {
           "aaxis": {
            "gridcolor": "white",
            "linecolor": "white",
            "ticks": ""
           },
           "baxis": {
            "gridcolor": "white",
            "linecolor": "white",
            "ticks": ""
           },
           "bgcolor": "#E5ECF6",
           "caxis": {
            "gridcolor": "white",
            "linecolor": "white",
            "ticks": ""
           }
          },
          "title": {
           "x": 0.05
          },
          "xaxis": {
           "automargin": true,
           "gridcolor": "white",
           "linecolor": "white",
           "ticks": "",
           "title": {
            "standoff": 15
           },
           "zerolinecolor": "white",
           "zerolinewidth": 2
          },
          "yaxis": {
           "automargin": true,
           "gridcolor": "white",
           "linecolor": "white",
           "ticks": "",
           "title": {
            "standoff": 15
           },
           "zerolinecolor": "white",
           "zerolinewidth": 2
          }
         }
        },
        "xaxis": {
         "anchor": "y",
         "domain": [
          0,
          1
         ],
         "title": {
          "text": "CPI"
         }
        },
        "yaxis": {
         "anchor": "x",
         "domain": [
          0,
          1
         ],
         "title": {
          "text": "Weekly_Sales"
         }
        }
       }
      }
     },
     "metadata": {},
     "output_type": "display_data"
    },
    {
     "data": {
      "application/vnd.plotly.v1+json": {
       "config": {
        "plotlyServerURL": "https://plot.ly"
       },
       "data": [
        {
         "hovertemplate": "Unemployment=%{x}<br>Weekly_Sales=%{y}<extra></extra>",
         "legendgroup": "",
         "marker": {
          "color": "#636efa",
          "symbol": "circle"
         },
         "mode": "markers",
         "name": "",
         "orientation": "v",
         "showlegend": false,
         "type": "scatter",
         "x": [
          6.858,
          7.47,
          7.346,
          7.0920000000000005,
          7.896,
          7.657999999999999,
          6.961,
          null,
          6.832999999999998,
          6.425,
          9.331,
          8.595,
          7.348,
          6.885,
          7.0920000000000005,
          7.951,
          9.202,
          7.441,
          8.963,
          6.489,
          8.243,
          8.35,
          8.15,
          5.527,
          6.832999999999998,
          6.339,
          6.635,
          6.925,
          13.736,
          8.256,
          8.424,
          null,
          7.771,
          7.567,
          8.975,
          5.9460000000000015,
          6.3,
          8.304,
          6.061,
          6.908,
          8.622,
          8.106,
          7.057,
          6.496,
          8.099,
          7.9620000000000015,
          6.162000000000001,
          5.965,
          8.163,
          null,
          8.549,
          7.17,
          6.877000000000002,
          6.315,
          6.973,
          8.424,
          8.521,
          7.545,
          14.313,
          5.4220000000000015,
          5.143,
          8.744,
          9.342,
          7.3679999999999986,
          13.503,
          9.331,
          7.795,
          7.787000000000001,
          null,
          7.856,
          7.943,
          7.866,
          7.527,
          6.56,
          5.943,
          6.832999999999998,
          7.806,
          8.027999999999999,
          6.235,
          6.664,
          6.961,
          7.931,
          6.442,
          5.936,
          null,
          13.736,
          8.625,
          7.808,
          6.299,
          null,
          9.524,
          7.951,
          7.343,
          7.057,
          8.89,
          7.127000000000002,
          6.664,
          8.099,
          8.992,
          6.299,
          null,
          7.484,
          8.15,
          null,
          6.104,
          7.564,
          null,
          8.09,
          6.384,
          null,
          6.315,
          6.529,
          7.872000000000001,
          7.682,
          7.657999999999999,
          7.197,
          6.867999999999999,
          6.877000000000002,
          8.535,
          6.104,
          null,
          5.644,
          14.18,
          5.644,
          9.199,
          6.855,
          8.09,
          6.768,
          7.197,
          7.343,
          6.034,
          8.899,
          null,
          null,
          null,
          8.15
         ],
         "xaxis": "x",
         "y": [
          1572117.54,
          1807545.43,
          1244390.03,
          1644470.66,
          1857533.7,
          695396.19,
          2203523.2,
          2600519.26,
          418925.47,
          895066.5,
          1029618.1,
          414094.05,
          1677472.78,
          829207.27,
          1498080.16,
          1997397.63,
          1205307.5,
          2432736.52,
          561145.14,
          290930.01,
          1074079,
          1427023.45,
          1405007.44,
          919878.34,
          367438.62,
          435397.19,
          757738.76,
          1420405.41,
          1021154.48,
          563460.77,
          2077256.24,
          1853161.99,
          1266564.94,
          365248.94,
          988157.72,
          2008344.92,
          311906.7,
          961186.23,
          526525.16,
          1661767.33,
          629994.47,
          1641957.44,
          1861802.7,
          268929.03,
          1549018.68,
          1624383.75,
          485095.41,
          2035431.39,
          1916812.74,
          509263.28,
          1879451.23,
          1805999.79,
          1847430.96,
          888816.78,
          1532308.78,
          2020550.99,
          2095599.93,
          1990371.02,
          1295605.35,
          313358.15,
          2771397.17,
          1714309.9,
          1166117.85,
          461622.22,
          955913.68,
          1588430.71,
          2461468.35,
          1449142.92,
          1508068.77,
          1973135.87,
          570611.23,
          1539483.7,
          1789687.65,
          519823.3,
          359206.21,
          1569607.94,
          607475.44,
          1758050.79,
          986922.62,
          431985.36,
          2045837.55,
          1797732.56,
          485389.15,
          1046782.52,
          384200.69,
          964332.51,
          1953544.76,
          1494251.5,
          860336.16,
          298697.84,
          1768172.31,
          2018314.71,
          364076.85,
          1799520.14,
          1087051.26,
          2302504.86,
          419497.95,
          1366395.96,
          2095591.63,
          994801.4,
          1256282.79,
          1799737.79,
          1468350.36,
          2124451.54,
          1811606.21,
          1757242.51,
          660838.75,
          457340.06,
          513073.87,
          1864746.1,
          836707.85,
          275142.17,
          597876.55,
          1466046.67,
          1467473.63,
          398838.97,
          614253.33,
          1970341.38,
          1048134.24,
          2025582.62,
          855459.96,
          2036231.39,
          903119.03,
          2066541.86,
          1831676.03,
          1639358.93,
          532739.77,
          301827.36,
          403342.4,
          396968.8,
          424513.08,
          2248645.59,
          716388.81,
          845252.21,
          856796.1,
          1255087.26
         ],
         "yaxis": "y"
        }
       ],
       "layout": {
        "legend": {
         "tracegroupgap": 0
        },
        "margin": {
         "t": 60
        },
        "template": {
         "data": {
          "bar": [
           {
            "error_x": {
             "color": "#2a3f5f"
            },
            "error_y": {
             "color": "#2a3f5f"
            },
            "marker": {
             "line": {
              "color": "#E5ECF6",
              "width": 0.5
             },
             "pattern": {
              "fillmode": "overlay",
              "size": 10,
              "solidity": 0.2
             }
            },
            "type": "bar"
           }
          ],
          "barpolar": [
           {
            "marker": {
             "line": {
              "color": "#E5ECF6",
              "width": 0.5
             },
             "pattern": {
              "fillmode": "overlay",
              "size": 10,
              "solidity": 0.2
             }
            },
            "type": "barpolar"
           }
          ],
          "carpet": [
           {
            "aaxis": {
             "endlinecolor": "#2a3f5f",
             "gridcolor": "white",
             "linecolor": "white",
             "minorgridcolor": "white",
             "startlinecolor": "#2a3f5f"
            },
            "baxis": {
             "endlinecolor": "#2a3f5f",
             "gridcolor": "white",
             "linecolor": "white",
             "minorgridcolor": "white",
             "startlinecolor": "#2a3f5f"
            },
            "type": "carpet"
           }
          ],
          "choropleth": [
           {
            "colorbar": {
             "outlinewidth": 0,
             "ticks": ""
            },
            "type": "choropleth"
           }
          ],
          "contour": [
           {
            "colorbar": {
             "outlinewidth": 0,
             "ticks": ""
            },
            "colorscale": [
             [
              0,
              "#0d0887"
             ],
             [
              0.1111111111111111,
              "#46039f"
             ],
             [
              0.2222222222222222,
              "#7201a8"
             ],
             [
              0.3333333333333333,
              "#9c179e"
             ],
             [
              0.4444444444444444,
              "#bd3786"
             ],
             [
              0.5555555555555556,
              "#d8576b"
             ],
             [
              0.6666666666666666,
              "#ed7953"
             ],
             [
              0.7777777777777778,
              "#fb9f3a"
             ],
             [
              0.8888888888888888,
              "#fdca26"
             ],
             [
              1,
              "#f0f921"
             ]
            ],
            "type": "contour"
           }
          ],
          "contourcarpet": [
           {
            "colorbar": {
             "outlinewidth": 0,
             "ticks": ""
            },
            "type": "contourcarpet"
           }
          ],
          "heatmap": [
           {
            "colorbar": {
             "outlinewidth": 0,
             "ticks": ""
            },
            "colorscale": [
             [
              0,
              "#0d0887"
             ],
             [
              0.1111111111111111,
              "#46039f"
             ],
             [
              0.2222222222222222,
              "#7201a8"
             ],
             [
              0.3333333333333333,
              "#9c179e"
             ],
             [
              0.4444444444444444,
              "#bd3786"
             ],
             [
              0.5555555555555556,
              "#d8576b"
             ],
             [
              0.6666666666666666,
              "#ed7953"
             ],
             [
              0.7777777777777778,
              "#fb9f3a"
             ],
             [
              0.8888888888888888,
              "#fdca26"
             ],
             [
              1,
              "#f0f921"
             ]
            ],
            "type": "heatmap"
           }
          ],
          "heatmapgl": [
           {
            "colorbar": {
             "outlinewidth": 0,
             "ticks": ""
            },
            "colorscale": [
             [
              0,
              "#0d0887"
             ],
             [
              0.1111111111111111,
              "#46039f"
             ],
             [
              0.2222222222222222,
              "#7201a8"
             ],
             [
              0.3333333333333333,
              "#9c179e"
             ],
             [
              0.4444444444444444,
              "#bd3786"
             ],
             [
              0.5555555555555556,
              "#d8576b"
             ],
             [
              0.6666666666666666,
              "#ed7953"
             ],
             [
              0.7777777777777778,
              "#fb9f3a"
             ],
             [
              0.8888888888888888,
              "#fdca26"
             ],
             [
              1,
              "#f0f921"
             ]
            ],
            "type": "heatmapgl"
           }
          ],
          "histogram": [
           {
            "marker": {
             "pattern": {
              "fillmode": "overlay",
              "size": 10,
              "solidity": 0.2
             }
            },
            "type": "histogram"
           }
          ],
          "histogram2d": [
           {
            "colorbar": {
             "outlinewidth": 0,
             "ticks": ""
            },
            "colorscale": [
             [
              0,
              "#0d0887"
             ],
             [
              0.1111111111111111,
              "#46039f"
             ],
             [
              0.2222222222222222,
              "#7201a8"
             ],
             [
              0.3333333333333333,
              "#9c179e"
             ],
             [
              0.4444444444444444,
              "#bd3786"
             ],
             [
              0.5555555555555556,
              "#d8576b"
             ],
             [
              0.6666666666666666,
              "#ed7953"
             ],
             [
              0.7777777777777778,
              "#fb9f3a"
             ],
             [
              0.8888888888888888,
              "#fdca26"
             ],
             [
              1,
              "#f0f921"
             ]
            ],
            "type": "histogram2d"
           }
          ],
          "histogram2dcontour": [
           {
            "colorbar": {
             "outlinewidth": 0,
             "ticks": ""
            },
            "colorscale": [
             [
              0,
              "#0d0887"
             ],
             [
              0.1111111111111111,
              "#46039f"
             ],
             [
              0.2222222222222222,
              "#7201a8"
             ],
             [
              0.3333333333333333,
              "#9c179e"
             ],
             [
              0.4444444444444444,
              "#bd3786"
             ],
             [
              0.5555555555555556,
              "#d8576b"
             ],
             [
              0.6666666666666666,
              "#ed7953"
             ],
             [
              0.7777777777777778,
              "#fb9f3a"
             ],
             [
              0.8888888888888888,
              "#fdca26"
             ],
             [
              1,
              "#f0f921"
             ]
            ],
            "type": "histogram2dcontour"
           }
          ],
          "mesh3d": [
           {
            "colorbar": {
             "outlinewidth": 0,
             "ticks": ""
            },
            "type": "mesh3d"
           }
          ],
          "parcoords": [
           {
            "line": {
             "colorbar": {
              "outlinewidth": 0,
              "ticks": ""
             }
            },
            "type": "parcoords"
           }
          ],
          "pie": [
           {
            "automargin": true,
            "type": "pie"
           }
          ],
          "scatter": [
           {
            "fillpattern": {
             "fillmode": "overlay",
             "size": 10,
             "solidity": 0.2
            },
            "type": "scatter"
           }
          ],
          "scatter3d": [
           {
            "line": {
             "colorbar": {
              "outlinewidth": 0,
              "ticks": ""
             }
            },
            "marker": {
             "colorbar": {
              "outlinewidth": 0,
              "ticks": ""
             }
            },
            "type": "scatter3d"
           }
          ],
          "scattercarpet": [
           {
            "marker": {
             "colorbar": {
              "outlinewidth": 0,
              "ticks": ""
             }
            },
            "type": "scattercarpet"
           }
          ],
          "scattergeo": [
           {
            "marker": {
             "colorbar": {
              "outlinewidth": 0,
              "ticks": ""
             }
            },
            "type": "scattergeo"
           }
          ],
          "scattergl": [
           {
            "marker": {
             "colorbar": {
              "outlinewidth": 0,
              "ticks": ""
             }
            },
            "type": "scattergl"
           }
          ],
          "scattermapbox": [
           {
            "marker": {
             "colorbar": {
              "outlinewidth": 0,
              "ticks": ""
             }
            },
            "type": "scattermapbox"
           }
          ],
          "scatterpolar": [
           {
            "marker": {
             "colorbar": {
              "outlinewidth": 0,
              "ticks": ""
             }
            },
            "type": "scatterpolar"
           }
          ],
          "scatterpolargl": [
           {
            "marker": {
             "colorbar": {
              "outlinewidth": 0,
              "ticks": ""
             }
            },
            "type": "scatterpolargl"
           }
          ],
          "scatterternary": [
           {
            "marker": {
             "colorbar": {
              "outlinewidth": 0,
              "ticks": ""
             }
            },
            "type": "scatterternary"
           }
          ],
          "surface": [
           {
            "colorbar": {
             "outlinewidth": 0,
             "ticks": ""
            },
            "colorscale": [
             [
              0,
              "#0d0887"
             ],
             [
              0.1111111111111111,
              "#46039f"
             ],
             [
              0.2222222222222222,
              "#7201a8"
             ],
             [
              0.3333333333333333,
              "#9c179e"
             ],
             [
              0.4444444444444444,
              "#bd3786"
             ],
             [
              0.5555555555555556,
              "#d8576b"
             ],
             [
              0.6666666666666666,
              "#ed7953"
             ],
             [
              0.7777777777777778,
              "#fb9f3a"
             ],
             [
              0.8888888888888888,
              "#fdca26"
             ],
             [
              1,
              "#f0f921"
             ]
            ],
            "type": "surface"
           }
          ],
          "table": [
           {
            "cells": {
             "fill": {
              "color": "#EBF0F8"
             },
             "line": {
              "color": "white"
             }
            },
            "header": {
             "fill": {
              "color": "#C8D4E3"
             },
             "line": {
              "color": "white"
             }
            },
            "type": "table"
           }
          ]
         },
         "layout": {
          "annotationdefaults": {
           "arrowcolor": "#2a3f5f",
           "arrowhead": 0,
           "arrowwidth": 1
          },
          "autotypenumbers": "strict",
          "coloraxis": {
           "colorbar": {
            "outlinewidth": 0,
            "ticks": ""
           }
          },
          "colorscale": {
           "diverging": [
            [
             0,
             "#8e0152"
            ],
            [
             0.1,
             "#c51b7d"
            ],
            [
             0.2,
             "#de77ae"
            ],
            [
             0.3,
             "#f1b6da"
            ],
            [
             0.4,
             "#fde0ef"
            ],
            [
             0.5,
             "#f7f7f7"
            ],
            [
             0.6,
             "#e6f5d0"
            ],
            [
             0.7,
             "#b8e186"
            ],
            [
             0.8,
             "#7fbc41"
            ],
            [
             0.9,
             "#4d9221"
            ],
            [
             1,
             "#276419"
            ]
           ],
           "sequential": [
            [
             0,
             "#0d0887"
            ],
            [
             0.1111111111111111,
             "#46039f"
            ],
            [
             0.2222222222222222,
             "#7201a8"
            ],
            [
             0.3333333333333333,
             "#9c179e"
            ],
            [
             0.4444444444444444,
             "#bd3786"
            ],
            [
             0.5555555555555556,
             "#d8576b"
            ],
            [
             0.6666666666666666,
             "#ed7953"
            ],
            [
             0.7777777777777778,
             "#fb9f3a"
            ],
            [
             0.8888888888888888,
             "#fdca26"
            ],
            [
             1,
             "#f0f921"
            ]
           ],
           "sequentialminus": [
            [
             0,
             "#0d0887"
            ],
            [
             0.1111111111111111,
             "#46039f"
            ],
            [
             0.2222222222222222,
             "#7201a8"
            ],
            [
             0.3333333333333333,
             "#9c179e"
            ],
            [
             0.4444444444444444,
             "#bd3786"
            ],
            [
             0.5555555555555556,
             "#d8576b"
            ],
            [
             0.6666666666666666,
             "#ed7953"
            ],
            [
             0.7777777777777778,
             "#fb9f3a"
            ],
            [
             0.8888888888888888,
             "#fdca26"
            ],
            [
             1,
             "#f0f921"
            ]
           ]
          },
          "colorway": [
           "#636efa",
           "#EF553B",
           "#00cc96",
           "#ab63fa",
           "#FFA15A",
           "#19d3f3",
           "#FF6692",
           "#B6E880",
           "#FF97FF",
           "#FECB52"
          ],
          "font": {
           "color": "#2a3f5f"
          },
          "geo": {
           "bgcolor": "white",
           "lakecolor": "white",
           "landcolor": "#E5ECF6",
           "showlakes": true,
           "showland": true,
           "subunitcolor": "white"
          },
          "hoverlabel": {
           "align": "left"
          },
          "hovermode": "closest",
          "mapbox": {
           "style": "light"
          },
          "paper_bgcolor": "white",
          "plot_bgcolor": "#E5ECF6",
          "polar": {
           "angularaxis": {
            "gridcolor": "white",
            "linecolor": "white",
            "ticks": ""
           },
           "bgcolor": "#E5ECF6",
           "radialaxis": {
            "gridcolor": "white",
            "linecolor": "white",
            "ticks": ""
           }
          },
          "scene": {
           "xaxis": {
            "backgroundcolor": "#E5ECF6",
            "gridcolor": "white",
            "gridwidth": 2,
            "linecolor": "white",
            "showbackground": true,
            "ticks": "",
            "zerolinecolor": "white"
           },
           "yaxis": {
            "backgroundcolor": "#E5ECF6",
            "gridcolor": "white",
            "gridwidth": 2,
            "linecolor": "white",
            "showbackground": true,
            "ticks": "",
            "zerolinecolor": "white"
           },
           "zaxis": {
            "backgroundcolor": "#E5ECF6",
            "gridcolor": "white",
            "gridwidth": 2,
            "linecolor": "white",
            "showbackground": true,
            "ticks": "",
            "zerolinecolor": "white"
           }
          },
          "shapedefaults": {
           "line": {
            "color": "#2a3f5f"
           }
          },
          "ternary": {
           "aaxis": {
            "gridcolor": "white",
            "linecolor": "white",
            "ticks": ""
           },
           "baxis": {
            "gridcolor": "white",
            "linecolor": "white",
            "ticks": ""
           },
           "bgcolor": "#E5ECF6",
           "caxis": {
            "gridcolor": "white",
            "linecolor": "white",
            "ticks": ""
           }
          },
          "title": {
           "x": 0.05
          },
          "xaxis": {
           "automargin": true,
           "gridcolor": "white",
           "linecolor": "white",
           "ticks": "",
           "title": {
            "standoff": 15
           },
           "zerolinecolor": "white",
           "zerolinewidth": 2
          },
          "yaxis": {
           "automargin": true,
           "gridcolor": "white",
           "linecolor": "white",
           "ticks": "",
           "title": {
            "standoff": 15
           },
           "zerolinecolor": "white",
           "zerolinewidth": 2
          }
         }
        },
        "xaxis": {
         "anchor": "y",
         "domain": [
          0,
          1
         ],
         "title": {
          "text": "Unemployment"
         }
        },
        "yaxis": {
         "anchor": "x",
         "domain": [
          0,
          1
         ],
         "title": {
          "text": "Weekly_Sales"
         }
        }
       }
      }
     },
     "metadata": {},
     "output_type": "display_data"
    }
   ],
   "source": [
    "\n",
    "list_features = ['Date','Holiday_Flag','Temperature','Fuel_Price','CPI', 'Unemployment']\n",
    "for f in list_features:\n",
    "    fig = px.scatter(dataset, x=dataset[f], y=\"Weekly_Sales\")\n",
    "    fig.show()"
   ]
  },
  {
   "cell_type": "code",
   "execution_count": 45,
   "metadata": {},
   "outputs": [
    {
     "data": {
      "text/html": [
       "<div>\n",
       "<style scoped>\n",
       "    .dataframe tbody tr th:only-of-type {\n",
       "        vertical-align: middle;\n",
       "    }\n",
       "\n",
       "    .dataframe tbody tr th {\n",
       "        vertical-align: top;\n",
       "    }\n",
       "\n",
       "    .dataframe thead th {\n",
       "        text-align: right;\n",
       "    }\n",
       "</style>\n",
       "<table border=\"1\" class=\"dataframe\">\n",
       "  <thead>\n",
       "    <tr style=\"text-align: right;\">\n",
       "      <th></th>\n",
       "      <th>Store</th>\n",
       "      <th>Date</th>\n",
       "      <th>Weekly_Sales</th>\n",
       "      <th>Holiday_Flag</th>\n",
       "      <th>Temperature</th>\n",
       "      <th>Fuel_Price</th>\n",
       "      <th>CPI</th>\n",
       "      <th>Unemployment</th>\n",
       "    </tr>\n",
       "  </thead>\n",
       "  <tbody>\n",
       "    <tr>\n",
       "      <th>0</th>\n",
       "      <td>6.0</td>\n",
       "      <td>2011-02-18</td>\n",
       "      <td>1572117.54</td>\n",
       "      <td>NaN</td>\n",
       "      <td>59.61</td>\n",
       "      <td>3.045</td>\n",
       "      <td>214.777523</td>\n",
       "      <td>6.858</td>\n",
       "    </tr>\n",
       "    <tr>\n",
       "      <th>1</th>\n",
       "      <td>13.0</td>\n",
       "      <td>2011-03-25</td>\n",
       "      <td>1807545.43</td>\n",
       "      <td>0.0</td>\n",
       "      <td>42.38</td>\n",
       "      <td>3.435</td>\n",
       "      <td>128.616064</td>\n",
       "      <td>7.470</td>\n",
       "    </tr>\n",
       "    <tr>\n",
       "      <th>2</th>\n",
       "      <td>17.0</td>\n",
       "      <td>2012-07-27</td>\n",
       "      <td>NaN</td>\n",
       "      <td>0.0</td>\n",
       "      <td>NaN</td>\n",
       "      <td>NaN</td>\n",
       "      <td>130.719581</td>\n",
       "      <td>5.936</td>\n",
       "    </tr>\n",
       "    <tr>\n",
       "      <th>3</th>\n",
       "      <td>11.0</td>\n",
       "      <td>NaT</td>\n",
       "      <td>1244390.03</td>\n",
       "      <td>0.0</td>\n",
       "      <td>84.57</td>\n",
       "      <td>NaN</td>\n",
       "      <td>214.556497</td>\n",
       "      <td>7.346</td>\n",
       "    </tr>\n",
       "    <tr>\n",
       "      <th>4</th>\n",
       "      <td>6.0</td>\n",
       "      <td>2010-05-28</td>\n",
       "      <td>1644470.66</td>\n",
       "      <td>0.0</td>\n",
       "      <td>78.89</td>\n",
       "      <td>2.759</td>\n",
       "      <td>212.412888</td>\n",
       "      <td>7.092</td>\n",
       "    </tr>\n",
       "  </tbody>\n",
       "</table>\n",
       "</div>"
      ],
      "text/plain": [
       "   Store       Date  Weekly_Sales  Holiday_Flag  Temperature  Fuel_Price  \\\n",
       "0    6.0 2011-02-18    1572117.54           NaN        59.61       3.045   \n",
       "1   13.0 2011-03-25    1807545.43           0.0        42.38       3.435   \n",
       "2   17.0 2012-07-27           NaN           0.0          NaN         NaN   \n",
       "3   11.0        NaT    1244390.03           0.0        84.57         NaN   \n",
       "4    6.0 2010-05-28    1644470.66           0.0        78.89       2.759   \n",
       "\n",
       "          CPI  Unemployment  \n",
       "0  214.777523         6.858  \n",
       "1  128.616064         7.470  \n",
       "2  130.719581         5.936  \n",
       "3  214.556497         7.346  \n",
       "4  212.412888         7.092  "
      ]
     },
     "execution_count": 45,
     "metadata": {},
     "output_type": "execute_result"
    }
   ],
   "source": [
    "dataset.head()"
   ]
  },
  {
   "cell_type": "code",
   "execution_count": 50,
   "metadata": {},
   "outputs": [],
   "source": [
    "import plotly.graph_objects as go\n"
   ]
  },
  {
   "cell_type": "code",
   "execution_count": 67,
   "metadata": {},
   "outputs": [
    {
     "data": {
      "application/vnd.plotly.v1+json": {
       "config": {
        "plotlyServerURL": "https://plot.ly"
       },
       "data": [
        {
         "dimensions": [
          {
           "axis": {
            "matches": true
           },
           "label": "Store",
           "values": [
            6,
            13,
            11,
            6,
            4,
            15,
            20,
            14,
            3,
            8,
            18,
            7,
            1,
            17,
            6,
            13,
            18,
            2,
            7,
            5,
            18,
            19,
            19,
            17,
            3,
            16,
            17,
            6,
            12,
            7,
            14,
            2,
            19,
            3,
            18,
            4,
            5,
            18,
            16,
            1,
            7,
            1,
            2,
            5,
            19,
            1,
            16,
            13,
            2,
            9,
            14,
            10,
            13,
            8,
            6,
            14,
            14,
            10,
            12,
            5,
            4,
            10,
            18,
            3,
            12,
            18,
            13,
            1,
            1,
            20,
            15,
            1,
            20,
            9,
            5,
            11,
            15,
            2,
            17,
            3,
            20,
            2,
            9,
            17,
            3,
            12,
            14,
            1,
            8,
            5,
            10,
            13,
            3,
            2,
            18,
            4,
            3,
            19,
            14,
            8,
            18,
            20,
            19,
            2,
            13,
            11,
            15,
            7,
            9,
            14,
            8,
            5,
            7,
            1,
            19,
            3,
            16,
            13,
            18,
            13,
            17,
            4,
            12,
            4,
            10,
            6,
            7,
            5,
            3,
            3,
            3,
            14,
            7,
            17,
            8,
            19
           ]
          },
          {
           "axis": {
            "matches": true
           },
           "label": "Date",
           "values": [
            "2011-02-18T00:00:00",
            "2011-03-25T00:00:00",
            null,
            "2010-05-28T00:00:00",
            "2010-05-28T00:00:00",
            "2011-03-06T00:00:00",
            "2012-03-02T00:00:00",
            "2010-10-12T00:00:00",
            null,
            "2011-08-19T00:00:00",
            "2010-10-15T00:00:00",
            "2011-05-13T00:00:00",
            "2012-03-16T00:00:00",
            "2010-01-10T00:00:00",
            "2010-04-30T00:00:00",
            "2010-08-20T00:00:00",
            null,
            "2011-12-16T00:00:00",
            "2010-02-04T00:00:00",
            "2011-05-13T00:00:00",
            "2012-12-10T00:00:00",
            "2010-03-26T00:00:00",
            "2012-04-05T00:00:00",
            "2012-12-10T00:00:00",
            "2012-01-13T00:00:00",
            "2011-05-20T00:00:00",
            "2010-04-16T00:00:00",
            "2011-08-26T00:00:00",
            "2011-06-05T00:00:00",
            "2012-10-02T00:00:00",
            "2012-10-02T00:00:00",
            null,
            "2011-03-25T00:00:00",
            "2011-09-23T00:00:00",
            "2011-04-15T00:00:00",
            "2011-06-24T00:00:00",
            "2011-11-11T00:00:00",
            "2012-04-27T00:00:00",
            "2012-09-14T00:00:00",
            null,
            "2011-08-26T00:00:00",
            "2010-12-02T00:00:00",
            "2012-02-24T00:00:00",
            "2010-07-30T00:00:00",
            "2010-02-07T00:00:00",
            "2011-05-08T00:00:00",
            "2012-03-30T00:00:00",
            "2012-01-06T00:00:00",
            "2010-12-11T00:00:00",
            "2010-06-25T00:00:00",
            "2011-03-25T00:00:00",
            "2012-06-07T00:00:00",
            "2011-09-23T00:00:00",
            "2010-08-27T00:00:00",
            "2010-07-30T00:00:00",
            "2012-02-17T00:00:00",
            "2011-06-05T00:00:00",
            "2012-02-03T00:00:00",
            "2010-12-17T00:00:00",
            "2012-10-19T00:00:00",
            "2011-12-16T00:00:00",
            null,
            "2010-06-08T00:00:00",
            "2010-05-02T00:00:00",
            "2011-12-08T00:00:00",
            "2010-12-17T00:00:00",
            "2010-10-12T00:00:00",
            "2010-08-27T00:00:00",
            "2012-10-19T00:00:00",
            "2010-06-25T00:00:00",
            "2012-03-16T00:00:00",
            "2011-11-18T00:00:00",
            "2010-09-24T00:00:00",
            "2010-11-19T00:00:00",
            null,
            null,
            null,
            "2011-07-01T00:00:00",
            null,
            "2012-11-05T00:00:00",
            null,
            null,
            "2010-09-07T00:00:00",
            null,
            null,
            "2011-05-27T00:00:00",
            "2011-07-15T00:00:00",
            "2010-05-14T00:00:00",
            "2010-12-03T00:00:00",
            "2010-04-30T00:00:00",
            "2010-06-25T00:00:00",
            "2010-02-07T00:00:00",
            "2010-06-18T00:00:00",
            "2012-06-01T00:00:00",
            null,
            "2010-10-12T00:00:00",
            "2012-06-22T00:00:00",
            "2010-07-30T00:00:00",
            "2010-02-26T00:00:00",
            "2010-12-02T00:00:00",
            "2010-05-28T00:00:00",
            "2010-12-31T00:00:00",
            "2012-06-22T00:00:00",
            "2010-02-19T00:00:00",
            "2012-01-20T00:00:00",
            "2010-11-26T00:00:00",
            "2010-02-19T00:00:00",
            "2012-04-20T00:00:00",
            "2010-06-18T00:00:00",
            "2011-07-01T00:00:00",
            "2010-09-17T00:00:00",
            "2011-07-29T00:00:00",
            "2012-07-09T00:00:00",
            "2011-05-27T00:00:00",
            "2011-10-06T00:00:00",
            "2011-11-18T00:00:00",
            "2010-09-07T00:00:00",
            "2011-12-08T00:00:00",
            null,
            "2012-03-16T00:00:00",
            "2010-12-11T00:00:00",
            "2011-07-22T00:00:00",
            "2010-10-09T00:00:00",
            "2011-08-07T00:00:00",
            null,
            "2011-04-22T00:00:00",
            "2012-05-25T00:00:00",
            "2010-12-11T00:00:00",
            "2011-07-10T00:00:00",
            "2010-04-06T00:00:00",
            "2012-10-19T00:00:00",
            "2010-06-18T00:00:00",
            null,
            "2010-11-06T00:00:00",
            "2011-12-08T00:00:00",
            "2012-04-20T00:00:00"
           ]
          },
          {
           "axis": {
            "matches": true
           },
           "label": "Weekly_Sales",
           "values": [
            1572117.54,
            1807545.43,
            1244390.03,
            1644470.66,
            1857533.7,
            695396.19,
            2203523.2,
            2600519.26,
            418925.47,
            895066.5,
            1029618.1,
            414094.05,
            1677472.78,
            829207.27,
            1498080.16,
            1997397.63,
            1205307.5,
            2432736.52,
            561145.14,
            290930.01,
            1074079,
            1427023.45,
            1405007.44,
            919878.34,
            367438.62,
            435397.19,
            757738.76,
            1420405.41,
            1021154.48,
            563460.77,
            2077256.24,
            1853161.99,
            1266564.94,
            365248.94,
            988157.72,
            2008344.92,
            311906.7,
            961186.23,
            526525.16,
            1661767.33,
            629994.47,
            1641957.44,
            1861802.7,
            268929.03,
            1549018.68,
            1624383.75,
            485095.41,
            2035431.39,
            1916812.74,
            509263.28,
            1879451.23,
            1805999.79,
            1847430.96,
            888816.78,
            1532308.78,
            2020550.99,
            2095599.93,
            1990371.02,
            1295605.35,
            313358.15,
            2771397.17,
            1714309.9,
            1166117.85,
            461622.22,
            955913.68,
            1588430.71,
            2461468.35,
            1449142.92,
            1508068.77,
            1973135.87,
            570611.23,
            1539483.7,
            1789687.65,
            519823.3,
            359206.21,
            1569607.94,
            607475.44,
            1758050.79,
            986922.62,
            431985.36,
            2045837.55,
            1797732.56,
            485389.15,
            1046782.52,
            384200.69,
            964332.51,
            1953544.76,
            1494251.5,
            860336.16,
            298697.84,
            1768172.31,
            2018314.71,
            364076.85,
            1799520.14,
            1087051.26,
            2302504.86,
            419497.95,
            1366395.96,
            2095591.63,
            994801.4,
            1256282.79,
            1799737.79,
            1468350.36,
            2124451.54,
            1811606.21,
            1757242.51,
            660838.75,
            457340.06,
            513073.87,
            1864746.1,
            836707.85,
            275142.17,
            597876.55,
            1466046.67,
            1467473.63,
            398838.97,
            614253.33,
            1970341.38,
            1048134.24,
            2025582.62,
            855459.96,
            2036231.39,
            903119.03,
            2066541.86,
            1831676.03,
            1639358.93,
            532739.77,
            301827.36,
            403342.4,
            396968.8,
            424513.08,
            2248645.59,
            716388.81,
            845252.21,
            856796.1,
            1255087.26
           ]
          },
          {
           "axis": {
            "matches": true
           },
           "label": "Holiday_Flag",
           "values": [
            null,
            0,
            0,
            0,
            0,
            0,
            0,
            0,
            0,
            0,
            0,
            0,
            0,
            0,
            null,
            0,
            0,
            0,
            0,
            0,
            0,
            0,
            0,
            0,
            0,
            0,
            0,
            0,
            0,
            1,
            1,
            0,
            0,
            0,
            0,
            0,
            0,
            0,
            0,
            1,
            null,
            1,
            0,
            0,
            0,
            null,
            0,
            0,
            0,
            0,
            null,
            0,
            0,
            0,
            0,
            0,
            0,
            0,
            0,
            0,
            0,
            null,
            0,
            0,
            0,
            0,
            0,
            null,
            0,
            0,
            0,
            0,
            0,
            0,
            0,
            0,
            0,
            0,
            0,
            0,
            0,
            0,
            null,
            0,
            0,
            0,
            0,
            0,
            0,
            0,
            0,
            0,
            0,
            0,
            0,
            0,
            0,
            0,
            0,
            1,
            0,
            1,
            0,
            0,
            0,
            1,
            0,
            0,
            null,
            0,
            0,
            0,
            1,
            0,
            0,
            0,
            0,
            0,
            0,
            0,
            0,
            0,
            1,
            null,
            0,
            0,
            0,
            0,
            0,
            0,
            0,
            0,
            null,
            0,
            0,
            0
           ]
          },
          {
           "axis": {
            "matches": true
           },
           "label": "Temperature",
           "values": [
            59.61,
            42.38,
            84.57,
            78.89,
            null,
            69.8,
            39.93,
            30.54,
            60.12,
            82.92,
            52.02,
            36.61,
            64.74,
            60.07,
            68.91,
            76.34,
            21.33,
            50.13,
            38.26,
            77.38,
            50.97,
            39.07,
            50.76,
            44.82,
            51.86,
            43.95,
            45.22,
            null,
            68.4,
            18.79,
            37,
            87.7,
            33.26,
            80.19,
            null,
            81.85,
            60.71,
            50.43,
            null,
            null,
            57.6,
            38.51,
            54.63,
            82.46,
            66.25,
            91.65,
            48.29,
            61.11,
            59.69,
            85.02,
            41.76,
            86.87,
            63.6,
            74.92,
            null,
            36.85,
            null,
            57.62,
            52.77,
            69.17,
            36.44,
            43.43,
            73.67,
            45.71,
            91.04,
            27.4,
            36.78,
            85.22,
            67.97,
            75.17,
            47.42,
            62.25,
            69.37,
            49.96,
            null,
            52.77,
            79.97,
            44.69,
            null,
            75.19,
            39.79,
            76.42,
            78.51,
            68.91,
            null,
            null,
            78.47,
            74.78,
            49.76,
            67.53,
            90.32,
            78.82,
            83.52,
            46.75,
            69.75,
            42.4,
            82.7,
            72.83,
            34.89,
            33.34,
            69.12,
            28.85,
            null,
            39.69,
            32.71,
            69.9,
            null,
            39.3,
            82.99,
            34.32,
            75.32,
            89.42,
            57.84,
            null,
            68.26,
            63.91,
            61.79,
            75.95,
            73.25,
            52.5,
            null,
            82.84,
            83.63,
            84.59,
            88.44,
            74.24,
            50.6,
            62.37,
            75.54,
            78.53,
            73.44,
            72.62,
            20.74,
            57.14,
            86.05,
            55.2
           ]
          },
          {
           "axis": {
            "matches": true
           },
           "label": "Fuel_Price",
           "values": [
            3.045,
            3.435,
            null,
            2.759,
            2.756,
            4.069,
            3.617,
            3.109,
            3.555,
            3.554,
            2.878,
            3.767,
            3.734,
            2.853,
            2.78,
            2.85,
            2.7880000000000003,
            null,
            2.725,
            3.899,
            4.029,
            2.963,
            4.124,
            3.797,
            3.261,
            3.828,
            2.915,
            3.523,
            4.1930000000000005,
            3.103,
            null,
            3.48,
            3.789,
            3.467,
            3.823,
            3.57,
            3.297,
            4.023,
            3.659,
            3.73,
            3.485,
            2.548,
            3.555,
            2.64,
            2.958,
            3.684,
            3.75,
            3.788,
            2.728,
            2.653,
            3.625,
            3.666,
            3.648,
            2.619,
            2.64,
            3.695,
            4.046,
            3.882,
            3.236,
            3.594,
            3.149,
            3.287,
            2.792,
            2.572,
            3.701,
            3.139,
            2.817,
            2.619,
            3.594,
            2.8080000000000003,
            4.021,
            3.3080000000000003,
            null,
            2.7710000000000004,
            3.63,
            3.51,
            3.972,
            2.9760000000000004,
            3.793,
            3.688,
            3.739,
            3.786,
            2.642,
            3.63,
            2.667,
            4.087,
            3.76,
            2.854,
            null,
            null,
            null,
            2.814,
            2.637,
            null,
            3.815,
            2.86,
            3.346,
            2.932,
            null,
            2.548,
            2.906,
            3.179,
            3.722,
            2.514,
            null,
            2.735,
            2.909,
            3.936,
            2.637,
            3.193,
            2.582,
            3.682,
            3.596,
            3.786,
            null,
            3.3080000000000003,
            2.7110000000000003,
            3.606,
            3.84,
            3.529,
            2.8310000000000004,
            3.627,
            3.044,
            3.469,
            3.112,
            3.807,
            3.804,
            null,
            3.285,
            2.705,
            3.594,
            2.78,
            2.778,
            2.841,
            3.638,
            4.17
           ]
          },
          {
           "axis": {
            "matches": true
           },
           "label": "CPI",
           "values": [
            214.7775231,
            128.6160645,
            214.55649680000005,
            212.412888,
            126.1602258,
            134.85516130000002,
            213.0236225,
            null,
            224.1320199,
            219.07019680000005,
            132.7633548,
            192.826069,
            221.2118132,
            126.2346,
            211.8942725,
            null,
            131.52790320000005,
            null,
            189.7048215,
            216.5343611,
            138.9117,
            131.863129,
            138.0332,
            131.1083333,
            null,
            192.831317,
            126.5621,
            217.2706543,
            129.04443329999998,
            196.9195056,
            null,
            214.9296249,
            133.9587419,
            219.7414914,
            134.2784667,
            129.0663,
            218.5699621,
            137.9781333,
            198.1267184,
            222.4390153,
            194.3796374,
            211.24216980000003,
            220.275944,
            211.9270006,
            132.5218667,
            215.544618,
            197.4133259,
            130.95922579999998,
            211.6608975,
            214.8965756,
            184.9943679,
            130.7196333,
            129.5183333,
            214.9362793,
            212.8944846,
            189.8424834,
            185.9374378,
            130.6457931,
            126.8794839,
            224.0192873,
            129.8980645,
            127.1917742,
            132.6141935,
            214.4248812,
            129.2015806,
            null,
            126.7934,
            211.5673056,
            223.4257233,
            204.5675459,
            137.5843871,
            218.2205088,
            null,
            215.43728540000004,
            221.4342146,
            223.9170153,
            135.8738387,
            211.0648881,
            131.03754840000002,
            225.2351496,
            213.4725116,
            215.1544822,
            214.6564301,
            null,
            214.7027646,
            129.0623548,
            186.1399808,
            210.3374261,
            214.7492449,
            210.939388,
            126.1266,
            126.1392,
            214.7858259,
            219.355063,
            135.4468,
            126.7934,
            225.3068615,
            132.5983871,
            null,
            214.62141890000004,
            132.2939355,
            204.6432267,
            138.1629,
            210.9451605,
            130.27922579999998,
            215.0614025,
            131.637,
            197.7227385,
            215.0166484,
            182.5983058,
            214.8785562,
            216.0464364,
            198.0950484,
            215.5037878,
            134.94254840000002,
            221.6432852,
            189.5231276,
            129.2015806,
            138.1857097,
            130.82619350000002,
            126.5461613,
            129.1507742,
            126.11458059999998,
            129.1125,
            126.1283548,
            217.0146941,
            197.5886046,
            212.5604113,
            null,
            214.4958382,
            226.9688442,
            182.4424199,
            null,
            126.1119032,
            219.0075249,
            137.9230667
           ]
          },
          {
           "axis": {
            "matches": true
           },
           "label": "Unemployment",
           "values": [
            6.858,
            7.47,
            7.346,
            7.0920000000000005,
            7.896,
            7.657999999999999,
            6.961,
            null,
            6.832999999999998,
            6.425,
            9.331,
            8.595,
            7.348,
            6.885,
            7.0920000000000005,
            7.951,
            9.202,
            7.441,
            8.963,
            6.489,
            8.243,
            8.35,
            8.15,
            5.527,
            6.832999999999998,
            6.339,
            6.635,
            6.925,
            13.736,
            8.256,
            8.424,
            null,
            7.771,
            7.567,
            8.975,
            5.9460000000000015,
            6.3,
            8.304,
            6.061,
            6.908,
            8.622,
            8.106,
            7.057,
            6.496,
            8.099,
            7.9620000000000015,
            6.162000000000001,
            5.965,
            8.163,
            null,
            8.549,
            7.17,
            6.877000000000002,
            6.315,
            6.973,
            8.424,
            8.521,
            7.545,
            14.313,
            5.4220000000000015,
            5.143,
            8.744,
            9.342,
            7.3679999999999986,
            13.503,
            9.331,
            7.795,
            7.787000000000001,
            null,
            7.856,
            7.943,
            7.866,
            7.527,
            6.56,
            5.943,
            6.832999999999998,
            7.806,
            8.027999999999999,
            6.235,
            6.664,
            6.961,
            7.931,
            6.442,
            5.936,
            null,
            13.736,
            8.625,
            7.808,
            6.299,
            null,
            9.524,
            7.951,
            7.343,
            7.057,
            8.89,
            7.127000000000002,
            6.664,
            8.099,
            8.992,
            6.299,
            null,
            7.484,
            8.15,
            null,
            6.104,
            7.564,
            null,
            8.09,
            6.384,
            null,
            6.315,
            6.529,
            7.872000000000001,
            7.682,
            7.657999999999999,
            7.197,
            6.867999999999999,
            6.877000000000002,
            8.535,
            6.104,
            null,
            5.644,
            14.18,
            5.644,
            9.199,
            6.855,
            8.09,
            6.768,
            7.197,
            7.343,
            6.034,
            8.899,
            null,
            null,
            null,
            8.15
           ]
          }
         ],
         "hovertemplate": "%{xaxis.title.text}=%{x}<br>%{yaxis.title.text}=%{y}<extra></extra>",
         "legendgroup": "",
         "marker": {
          "color": "#636efa",
          "symbol": "circle"
         },
         "name": "",
         "showlegend": false,
         "type": "splom"
        }
       ],
       "layout": {
        "autosize": false,
        "dragmode": "select",
        "height": 1100,
        "legend": {
         "tracegroupgap": 0
        },
        "margin": {
         "t": 60
        },
        "showlegend": false,
        "template": {
         "data": {
          "bar": [
           {
            "error_x": {
             "color": "#2a3f5f"
            },
            "error_y": {
             "color": "#2a3f5f"
            },
            "marker": {
             "line": {
              "color": "#E5ECF6",
              "width": 0.5
             },
             "pattern": {
              "fillmode": "overlay",
              "size": 10,
              "solidity": 0.2
             }
            },
            "type": "bar"
           }
          ],
          "barpolar": [
           {
            "marker": {
             "line": {
              "color": "#E5ECF6",
              "width": 0.5
             },
             "pattern": {
              "fillmode": "overlay",
              "size": 10,
              "solidity": 0.2
             }
            },
            "type": "barpolar"
           }
          ],
          "carpet": [
           {
            "aaxis": {
             "endlinecolor": "#2a3f5f",
             "gridcolor": "white",
             "linecolor": "white",
             "minorgridcolor": "white",
             "startlinecolor": "#2a3f5f"
            },
            "baxis": {
             "endlinecolor": "#2a3f5f",
             "gridcolor": "white",
             "linecolor": "white",
             "minorgridcolor": "white",
             "startlinecolor": "#2a3f5f"
            },
            "type": "carpet"
           }
          ],
          "choropleth": [
           {
            "colorbar": {
             "outlinewidth": 0,
             "ticks": ""
            },
            "type": "choropleth"
           }
          ],
          "contour": [
           {
            "colorbar": {
             "outlinewidth": 0,
             "ticks": ""
            },
            "colorscale": [
             [
              0,
              "#0d0887"
             ],
             [
              0.1111111111111111,
              "#46039f"
             ],
             [
              0.2222222222222222,
              "#7201a8"
             ],
             [
              0.3333333333333333,
              "#9c179e"
             ],
             [
              0.4444444444444444,
              "#bd3786"
             ],
             [
              0.5555555555555556,
              "#d8576b"
             ],
             [
              0.6666666666666666,
              "#ed7953"
             ],
             [
              0.7777777777777778,
              "#fb9f3a"
             ],
             [
              0.8888888888888888,
              "#fdca26"
             ],
             [
              1,
              "#f0f921"
             ]
            ],
            "type": "contour"
           }
          ],
          "contourcarpet": [
           {
            "colorbar": {
             "outlinewidth": 0,
             "ticks": ""
            },
            "type": "contourcarpet"
           }
          ],
          "heatmap": [
           {
            "colorbar": {
             "outlinewidth": 0,
             "ticks": ""
            },
            "colorscale": [
             [
              0,
              "#0d0887"
             ],
             [
              0.1111111111111111,
              "#46039f"
             ],
             [
              0.2222222222222222,
              "#7201a8"
             ],
             [
              0.3333333333333333,
              "#9c179e"
             ],
             [
              0.4444444444444444,
              "#bd3786"
             ],
             [
              0.5555555555555556,
              "#d8576b"
             ],
             [
              0.6666666666666666,
              "#ed7953"
             ],
             [
              0.7777777777777778,
              "#fb9f3a"
             ],
             [
              0.8888888888888888,
              "#fdca26"
             ],
             [
              1,
              "#f0f921"
             ]
            ],
            "type": "heatmap"
           }
          ],
          "heatmapgl": [
           {
            "colorbar": {
             "outlinewidth": 0,
             "ticks": ""
            },
            "colorscale": [
             [
              0,
              "#0d0887"
             ],
             [
              0.1111111111111111,
              "#46039f"
             ],
             [
              0.2222222222222222,
              "#7201a8"
             ],
             [
              0.3333333333333333,
              "#9c179e"
             ],
             [
              0.4444444444444444,
              "#bd3786"
             ],
             [
              0.5555555555555556,
              "#d8576b"
             ],
             [
              0.6666666666666666,
              "#ed7953"
             ],
             [
              0.7777777777777778,
              "#fb9f3a"
             ],
             [
              0.8888888888888888,
              "#fdca26"
             ],
             [
              1,
              "#f0f921"
             ]
            ],
            "type": "heatmapgl"
           }
          ],
          "histogram": [
           {
            "marker": {
             "pattern": {
              "fillmode": "overlay",
              "size": 10,
              "solidity": 0.2
             }
            },
            "type": "histogram"
           }
          ],
          "histogram2d": [
           {
            "colorbar": {
             "outlinewidth": 0,
             "ticks": ""
            },
            "colorscale": [
             [
              0,
              "#0d0887"
             ],
             [
              0.1111111111111111,
              "#46039f"
             ],
             [
              0.2222222222222222,
              "#7201a8"
             ],
             [
              0.3333333333333333,
              "#9c179e"
             ],
             [
              0.4444444444444444,
              "#bd3786"
             ],
             [
              0.5555555555555556,
              "#d8576b"
             ],
             [
              0.6666666666666666,
              "#ed7953"
             ],
             [
              0.7777777777777778,
              "#fb9f3a"
             ],
             [
              0.8888888888888888,
              "#fdca26"
             ],
             [
              1,
              "#f0f921"
             ]
            ],
            "type": "histogram2d"
           }
          ],
          "histogram2dcontour": [
           {
            "colorbar": {
             "outlinewidth": 0,
             "ticks": ""
            },
            "colorscale": [
             [
              0,
              "#0d0887"
             ],
             [
              0.1111111111111111,
              "#46039f"
             ],
             [
              0.2222222222222222,
              "#7201a8"
             ],
             [
              0.3333333333333333,
              "#9c179e"
             ],
             [
              0.4444444444444444,
              "#bd3786"
             ],
             [
              0.5555555555555556,
              "#d8576b"
             ],
             [
              0.6666666666666666,
              "#ed7953"
             ],
             [
              0.7777777777777778,
              "#fb9f3a"
             ],
             [
              0.8888888888888888,
              "#fdca26"
             ],
             [
              1,
              "#f0f921"
             ]
            ],
            "type": "histogram2dcontour"
           }
          ],
          "mesh3d": [
           {
            "colorbar": {
             "outlinewidth": 0,
             "ticks": ""
            },
            "type": "mesh3d"
           }
          ],
          "parcoords": [
           {
            "line": {
             "colorbar": {
              "outlinewidth": 0,
              "ticks": ""
             }
            },
            "type": "parcoords"
           }
          ],
          "pie": [
           {
            "automargin": true,
            "type": "pie"
           }
          ],
          "scatter": [
           {
            "fillpattern": {
             "fillmode": "overlay",
             "size": 10,
             "solidity": 0.2
            },
            "type": "scatter"
           }
          ],
          "scatter3d": [
           {
            "line": {
             "colorbar": {
              "outlinewidth": 0,
              "ticks": ""
             }
            },
            "marker": {
             "colorbar": {
              "outlinewidth": 0,
              "ticks": ""
             }
            },
            "type": "scatter3d"
           }
          ],
          "scattercarpet": [
           {
            "marker": {
             "colorbar": {
              "outlinewidth": 0,
              "ticks": ""
             }
            },
            "type": "scattercarpet"
           }
          ],
          "scattergeo": [
           {
            "marker": {
             "colorbar": {
              "outlinewidth": 0,
              "ticks": ""
             }
            },
            "type": "scattergeo"
           }
          ],
          "scattergl": [
           {
            "marker": {
             "colorbar": {
              "outlinewidth": 0,
              "ticks": ""
             }
            },
            "type": "scattergl"
           }
          ],
          "scattermapbox": [
           {
            "marker": {
             "colorbar": {
              "outlinewidth": 0,
              "ticks": ""
             }
            },
            "type": "scattermapbox"
           }
          ],
          "scatterpolar": [
           {
            "marker": {
             "colorbar": {
              "outlinewidth": 0,
              "ticks": ""
             }
            },
            "type": "scatterpolar"
           }
          ],
          "scatterpolargl": [
           {
            "marker": {
             "colorbar": {
              "outlinewidth": 0,
              "ticks": ""
             }
            },
            "type": "scatterpolargl"
           }
          ],
          "scatterternary": [
           {
            "marker": {
             "colorbar": {
              "outlinewidth": 0,
              "ticks": ""
             }
            },
            "type": "scatterternary"
           }
          ],
          "surface": [
           {
            "colorbar": {
             "outlinewidth": 0,
             "ticks": ""
            },
            "colorscale": [
             [
              0,
              "#0d0887"
             ],
             [
              0.1111111111111111,
              "#46039f"
             ],
             [
              0.2222222222222222,
              "#7201a8"
             ],
             [
              0.3333333333333333,
              "#9c179e"
             ],
             [
              0.4444444444444444,
              "#bd3786"
             ],
             [
              0.5555555555555556,
              "#d8576b"
             ],
             [
              0.6666666666666666,
              "#ed7953"
             ],
             [
              0.7777777777777778,
              "#fb9f3a"
             ],
             [
              0.8888888888888888,
              "#fdca26"
             ],
             [
              1,
              "#f0f921"
             ]
            ],
            "type": "surface"
           }
          ],
          "table": [
           {
            "cells": {
             "fill": {
              "color": "#EBF0F8"
             },
             "line": {
              "color": "white"
             }
            },
            "header": {
             "fill": {
              "color": "#C8D4E3"
             },
             "line": {
              "color": "white"
             }
            },
            "type": "table"
           }
          ]
         },
         "layout": {
          "annotationdefaults": {
           "arrowcolor": "#2a3f5f",
           "arrowhead": 0,
           "arrowwidth": 1
          },
          "autotypenumbers": "strict",
          "coloraxis": {
           "colorbar": {
            "outlinewidth": 0,
            "ticks": ""
           }
          },
          "colorscale": {
           "diverging": [
            [
             0,
             "#8e0152"
            ],
            [
             0.1,
             "#c51b7d"
            ],
            [
             0.2,
             "#de77ae"
            ],
            [
             0.3,
             "#f1b6da"
            ],
            [
             0.4,
             "#fde0ef"
            ],
            [
             0.5,
             "#f7f7f7"
            ],
            [
             0.6,
             "#e6f5d0"
            ],
            [
             0.7,
             "#b8e186"
            ],
            [
             0.8,
             "#7fbc41"
            ],
            [
             0.9,
             "#4d9221"
            ],
            [
             1,
             "#276419"
            ]
           ],
           "sequential": [
            [
             0,
             "#0d0887"
            ],
            [
             0.1111111111111111,
             "#46039f"
            ],
            [
             0.2222222222222222,
             "#7201a8"
            ],
            [
             0.3333333333333333,
             "#9c179e"
            ],
            [
             0.4444444444444444,
             "#bd3786"
            ],
            [
             0.5555555555555556,
             "#d8576b"
            ],
            [
             0.6666666666666666,
             "#ed7953"
            ],
            [
             0.7777777777777778,
             "#fb9f3a"
            ],
            [
             0.8888888888888888,
             "#fdca26"
            ],
            [
             1,
             "#f0f921"
            ]
           ],
           "sequentialminus": [
            [
             0,
             "#0d0887"
            ],
            [
             0.1111111111111111,
             "#46039f"
            ],
            [
             0.2222222222222222,
             "#7201a8"
            ],
            [
             0.3333333333333333,
             "#9c179e"
            ],
            [
             0.4444444444444444,
             "#bd3786"
            ],
            [
             0.5555555555555556,
             "#d8576b"
            ],
            [
             0.6666666666666666,
             "#ed7953"
            ],
            [
             0.7777777777777778,
             "#fb9f3a"
            ],
            [
             0.8888888888888888,
             "#fdca26"
            ],
            [
             1,
             "#f0f921"
            ]
           ]
          },
          "colorway": [
           "#636efa",
           "#EF553B",
           "#00cc96",
           "#ab63fa",
           "#FFA15A",
           "#19d3f3",
           "#FF6692",
           "#B6E880",
           "#FF97FF",
           "#FECB52"
          ],
          "font": {
           "color": "#2a3f5f"
          },
          "geo": {
           "bgcolor": "white",
           "lakecolor": "white",
           "landcolor": "#E5ECF6",
           "showlakes": true,
           "showland": true,
           "subunitcolor": "white"
          },
          "hoverlabel": {
           "align": "left"
          },
          "hovermode": "closest",
          "mapbox": {
           "style": "light"
          },
          "paper_bgcolor": "white",
          "plot_bgcolor": "#E5ECF6",
          "polar": {
           "angularaxis": {
            "gridcolor": "white",
            "linecolor": "white",
            "ticks": ""
           },
           "bgcolor": "#E5ECF6",
           "radialaxis": {
            "gridcolor": "white",
            "linecolor": "white",
            "ticks": ""
           }
          },
          "scene": {
           "xaxis": {
            "backgroundcolor": "#E5ECF6",
            "gridcolor": "white",
            "gridwidth": 2,
            "linecolor": "white",
            "showbackground": true,
            "ticks": "",
            "zerolinecolor": "white"
           },
           "yaxis": {
            "backgroundcolor": "#E5ECF6",
            "gridcolor": "white",
            "gridwidth": 2,
            "linecolor": "white",
            "showbackground": true,
            "ticks": "",
            "zerolinecolor": "white"
           },
           "zaxis": {
            "backgroundcolor": "#E5ECF6",
            "gridcolor": "white",
            "gridwidth": 2,
            "linecolor": "white",
            "showbackground": true,
            "ticks": "",
            "zerolinecolor": "white"
           }
          },
          "shapedefaults": {
           "line": {
            "color": "#2a3f5f"
           }
          },
          "ternary": {
           "aaxis": {
            "gridcolor": "white",
            "linecolor": "white",
            "ticks": ""
           },
           "baxis": {
            "gridcolor": "white",
            "linecolor": "white",
            "ticks": ""
           },
           "bgcolor": "#E5ECF6",
           "caxis": {
            "gridcolor": "white",
            "linecolor": "white",
            "ticks": ""
           }
          },
          "title": {
           "x": 0.05
          },
          "xaxis": {
           "automargin": true,
           "gridcolor": "white",
           "linecolor": "white",
           "ticks": "",
           "title": {
            "standoff": 15
           },
           "zerolinecolor": "white",
           "zerolinewidth": 2
          },
          "yaxis": {
           "automargin": true,
           "gridcolor": "white",
           "linecolor": "white",
           "ticks": "",
           "title": {
            "standoff": 15
           },
           "zerolinecolor": "white",
           "zerolinewidth": 2
          }
         }
        },
        "title": {
         "text": "Bivariate analysis",
         "x": 0.5
        },
        "width": 1100
       }
      }
     },
     "metadata": {},
     "output_type": "display_data"
    }
   ],
   "source": [
    "fig = px.scatter_matrix(dataset)\n",
    "fig.update_layout(\n",
    "        title = go.layout.Title(text = \"Bivariate analysis\", x = 0.5), showlegend = False, \n",
    "            autosize=False, height=1100, width = 1100)\n",
    "fig.show()"
   ]
  },
  {
   "attachments": {},
   "cell_type": "markdown",
   "metadata": {},
   "source": [
    "### Investigate correlation"
   ]
  },
  {
   "attachments": {},
   "cell_type": "markdown",
   "metadata": {},
   "source": []
  },
  {
   "cell_type": "code",
   "execution_count": 174,
   "metadata": {},
   "outputs": [],
   "source": [
    "corr_matrix = dataset.corr().round(2)"
   ]
  },
  {
   "cell_type": "code",
   "execution_count": 171,
   "metadata": {},
   "outputs": [],
   "source": [
    "import plotly.figure_factory as ff"
   ]
  },
  {
   "cell_type": "code",
   "execution_count": 175,
   "metadata": {},
   "outputs": [
    {
     "data": {
      "application/vnd.plotly.v1+json": {
       "config": {
        "plotlyServerURL": "https://plot.ly"
       },
       "data": [
        {
         "colorscale": [
          [
           0,
           "#0d0887"
          ],
          [
           0.1111111111111111,
           "#46039f"
          ],
          [
           0.2222222222222222,
           "#7201a8"
          ],
          [
           0.3333333333333333,
           "#9c179e"
          ],
          [
           0.4444444444444444,
           "#bd3786"
          ],
          [
           0.5555555555555556,
           "#d8576b"
          ],
          [
           0.6666666666666666,
           "#ed7953"
          ],
          [
           0.7777777777777778,
           "#fb9f3a"
          ],
          [
           0.8888888888888888,
           "#fdca26"
          ],
          [
           1,
           "#f0f921"
          ]
         ],
         "reversescale": false,
         "showscale": false,
         "type": "heatmap",
         "x": [
          "Store",
          "Weekly_Sales",
          "Holiday_Flag",
          "Temperature",
          "Fuel_Price",
          "CPI",
          "Unemployment"
         ],
         "y": [
          "Store",
          "Weekly_Sales",
          "Holiday_Flag",
          "Temperature",
          "Fuel_Price",
          "CPI",
          "Unemployment"
         ],
         "z": [
          [
           1,
           0.12,
           -0.07,
           -0.27,
           0.17,
           -0.62,
           0.28
          ],
          [
           0.12,
           1,
           0.05,
           -0.16,
           -0.01,
           -0.31,
           0.19
          ],
          [
           -0.07,
           0.05,
           1,
           -0.29,
           -0.14,
           0.2,
           0.06
          ],
          [
           -0.27,
           -0.16,
           -0.29,
           1,
           0.02,
           0.15,
           -0.17
          ],
          [
           0.17,
           -0.01,
           -0.14,
           0.02,
           1,
           -0.14,
           -0.04
          ],
          [
           -0.62,
           -0.31,
           0.2,
           0.15,
           -0.14,
           1,
           -0.25
          ],
          [
           0.28,
           0.19,
           0.06,
           -0.17,
           -0.04,
           -0.25,
           1
          ]
         ]
        }
       ],
       "layout": {
        "annotations": [
         {
          "font": {
           "color": "#000000"
          },
          "showarrow": false,
          "text": "1.0",
          "x": "Store",
          "xref": "x",
          "y": "Store",
          "yref": "y"
         },
         {
          "font": {
           "color": "#FFFFFF"
          },
          "showarrow": false,
          "text": "0.12",
          "x": "Weekly_Sales",
          "xref": "x",
          "y": "Store",
          "yref": "y"
         },
         {
          "font": {
           "color": "#FFFFFF"
          },
          "showarrow": false,
          "text": "-0.07",
          "x": "Holiday_Flag",
          "xref": "x",
          "y": "Store",
          "yref": "y"
         },
         {
          "font": {
           "color": "#FFFFFF"
          },
          "showarrow": false,
          "text": "-0.27",
          "x": "Temperature",
          "xref": "x",
          "y": "Store",
          "yref": "y"
         },
         {
          "font": {
           "color": "#FFFFFF"
          },
          "showarrow": false,
          "text": "0.17",
          "x": "Fuel_Price",
          "xref": "x",
          "y": "Store",
          "yref": "y"
         },
         {
          "font": {
           "color": "#FFFFFF"
          },
          "showarrow": false,
          "text": "-0.62",
          "x": "CPI",
          "xref": "x",
          "y": "Store",
          "yref": "y"
         },
         {
          "font": {
           "color": "#000000"
          },
          "showarrow": false,
          "text": "0.28",
          "x": "Unemployment",
          "xref": "x",
          "y": "Store",
          "yref": "y"
         },
         {
          "font": {
           "color": "#FFFFFF"
          },
          "showarrow": false,
          "text": "0.12",
          "x": "Store",
          "xref": "x",
          "y": "Weekly_Sales",
          "yref": "y"
         },
         {
          "font": {
           "color": "#000000"
          },
          "showarrow": false,
          "text": "1.0",
          "x": "Weekly_Sales",
          "xref": "x",
          "y": "Weekly_Sales",
          "yref": "y"
         },
         {
          "font": {
           "color": "#FFFFFF"
          },
          "showarrow": false,
          "text": "0.05",
          "x": "Holiday_Flag",
          "xref": "x",
          "y": "Weekly_Sales",
          "yref": "y"
         },
         {
          "font": {
           "color": "#FFFFFF"
          },
          "showarrow": false,
          "text": "-0.16",
          "x": "Temperature",
          "xref": "x",
          "y": "Weekly_Sales",
          "yref": "y"
         },
         {
          "font": {
           "color": "#FFFFFF"
          },
          "showarrow": false,
          "text": "-0.01",
          "x": "Fuel_Price",
          "xref": "x",
          "y": "Weekly_Sales",
          "yref": "y"
         },
         {
          "font": {
           "color": "#FFFFFF"
          },
          "showarrow": false,
          "text": "-0.31",
          "x": "CPI",
          "xref": "x",
          "y": "Weekly_Sales",
          "yref": "y"
         },
         {
          "font": {
           "color": "#000000"
          },
          "showarrow": false,
          "text": "0.19",
          "x": "Unemployment",
          "xref": "x",
          "y": "Weekly_Sales",
          "yref": "y"
         },
         {
          "font": {
           "color": "#FFFFFF"
          },
          "showarrow": false,
          "text": "-0.07",
          "x": "Store",
          "xref": "x",
          "y": "Holiday_Flag",
          "yref": "y"
         },
         {
          "font": {
           "color": "#FFFFFF"
          },
          "showarrow": false,
          "text": "0.05",
          "x": "Weekly_Sales",
          "xref": "x",
          "y": "Holiday_Flag",
          "yref": "y"
         },
         {
          "font": {
           "color": "#000000"
          },
          "showarrow": false,
          "text": "1.0",
          "x": "Holiday_Flag",
          "xref": "x",
          "y": "Holiday_Flag",
          "yref": "y"
         },
         {
          "font": {
           "color": "#FFFFFF"
          },
          "showarrow": false,
          "text": "-0.29",
          "x": "Temperature",
          "xref": "x",
          "y": "Holiday_Flag",
          "yref": "y"
         },
         {
          "font": {
           "color": "#FFFFFF"
          },
          "showarrow": false,
          "text": "-0.14",
          "x": "Fuel_Price",
          "xref": "x",
          "y": "Holiday_Flag",
          "yref": "y"
         },
         {
          "font": {
           "color": "#000000"
          },
          "showarrow": false,
          "text": "0.2",
          "x": "CPI",
          "xref": "x",
          "y": "Holiday_Flag",
          "yref": "y"
         },
         {
          "font": {
           "color": "#FFFFFF"
          },
          "showarrow": false,
          "text": "0.06",
          "x": "Unemployment",
          "xref": "x",
          "y": "Holiday_Flag",
          "yref": "y"
         },
         {
          "font": {
           "color": "#FFFFFF"
          },
          "showarrow": false,
          "text": "-0.27",
          "x": "Store",
          "xref": "x",
          "y": "Temperature",
          "yref": "y"
         },
         {
          "font": {
           "color": "#FFFFFF"
          },
          "showarrow": false,
          "text": "-0.16",
          "x": "Weekly_Sales",
          "xref": "x",
          "y": "Temperature",
          "yref": "y"
         },
         {
          "font": {
           "color": "#FFFFFF"
          },
          "showarrow": false,
          "text": "-0.29",
          "x": "Holiday_Flag",
          "xref": "x",
          "y": "Temperature",
          "yref": "y"
         },
         {
          "font": {
           "color": "#000000"
          },
          "showarrow": false,
          "text": "1.0",
          "x": "Temperature",
          "xref": "x",
          "y": "Temperature",
          "yref": "y"
         },
         {
          "font": {
           "color": "#FFFFFF"
          },
          "showarrow": false,
          "text": "0.02",
          "x": "Fuel_Price",
          "xref": "x",
          "y": "Temperature",
          "yref": "y"
         },
         {
          "font": {
           "color": "#FFFFFF"
          },
          "showarrow": false,
          "text": "0.15",
          "x": "CPI",
          "xref": "x",
          "y": "Temperature",
          "yref": "y"
         },
         {
          "font": {
           "color": "#FFFFFF"
          },
          "showarrow": false,
          "text": "-0.17",
          "x": "Unemployment",
          "xref": "x",
          "y": "Temperature",
          "yref": "y"
         },
         {
          "font": {
           "color": "#FFFFFF"
          },
          "showarrow": false,
          "text": "0.17",
          "x": "Store",
          "xref": "x",
          "y": "Fuel_Price",
          "yref": "y"
         },
         {
          "font": {
           "color": "#FFFFFF"
          },
          "showarrow": false,
          "text": "-0.01",
          "x": "Weekly_Sales",
          "xref": "x",
          "y": "Fuel_Price",
          "yref": "y"
         },
         {
          "font": {
           "color": "#FFFFFF"
          },
          "showarrow": false,
          "text": "-0.14",
          "x": "Holiday_Flag",
          "xref": "x",
          "y": "Fuel_Price",
          "yref": "y"
         },
         {
          "font": {
           "color": "#FFFFFF"
          },
          "showarrow": false,
          "text": "0.02",
          "x": "Temperature",
          "xref": "x",
          "y": "Fuel_Price",
          "yref": "y"
         },
         {
          "font": {
           "color": "#000000"
          },
          "showarrow": false,
          "text": "1.0",
          "x": "Fuel_Price",
          "xref": "x",
          "y": "Fuel_Price",
          "yref": "y"
         },
         {
          "font": {
           "color": "#FFFFFF"
          },
          "showarrow": false,
          "text": "-0.14",
          "x": "CPI",
          "xref": "x",
          "y": "Fuel_Price",
          "yref": "y"
         },
         {
          "font": {
           "color": "#FFFFFF"
          },
          "showarrow": false,
          "text": "-0.04",
          "x": "Unemployment",
          "xref": "x",
          "y": "Fuel_Price",
          "yref": "y"
         },
         {
          "font": {
           "color": "#FFFFFF"
          },
          "showarrow": false,
          "text": "-0.62",
          "x": "Store",
          "xref": "x",
          "y": "CPI",
          "yref": "y"
         },
         {
          "font": {
           "color": "#FFFFFF"
          },
          "showarrow": false,
          "text": "-0.31",
          "x": "Weekly_Sales",
          "xref": "x",
          "y": "CPI",
          "yref": "y"
         },
         {
          "font": {
           "color": "#000000"
          },
          "showarrow": false,
          "text": "0.2",
          "x": "Holiday_Flag",
          "xref": "x",
          "y": "CPI",
          "yref": "y"
         },
         {
          "font": {
           "color": "#FFFFFF"
          },
          "showarrow": false,
          "text": "0.15",
          "x": "Temperature",
          "xref": "x",
          "y": "CPI",
          "yref": "y"
         },
         {
          "font": {
           "color": "#FFFFFF"
          },
          "showarrow": false,
          "text": "-0.14",
          "x": "Fuel_Price",
          "xref": "x",
          "y": "CPI",
          "yref": "y"
         },
         {
          "font": {
           "color": "#000000"
          },
          "showarrow": false,
          "text": "1.0",
          "x": "CPI",
          "xref": "x",
          "y": "CPI",
          "yref": "y"
         },
         {
          "font": {
           "color": "#FFFFFF"
          },
          "showarrow": false,
          "text": "-0.25",
          "x": "Unemployment",
          "xref": "x",
          "y": "CPI",
          "yref": "y"
         },
         {
          "font": {
           "color": "#000000"
          },
          "showarrow": false,
          "text": "0.28",
          "x": "Store",
          "xref": "x",
          "y": "Unemployment",
          "yref": "y"
         },
         {
          "font": {
           "color": "#000000"
          },
          "showarrow": false,
          "text": "0.19",
          "x": "Weekly_Sales",
          "xref": "x",
          "y": "Unemployment",
          "yref": "y"
         },
         {
          "font": {
           "color": "#FFFFFF"
          },
          "showarrow": false,
          "text": "0.06",
          "x": "Holiday_Flag",
          "xref": "x",
          "y": "Unemployment",
          "yref": "y"
         },
         {
          "font": {
           "color": "#FFFFFF"
          },
          "showarrow": false,
          "text": "-0.17",
          "x": "Temperature",
          "xref": "x",
          "y": "Unemployment",
          "yref": "y"
         },
         {
          "font": {
           "color": "#FFFFFF"
          },
          "showarrow": false,
          "text": "-0.04",
          "x": "Fuel_Price",
          "xref": "x",
          "y": "Unemployment",
          "yref": "y"
         },
         {
          "font": {
           "color": "#FFFFFF"
          },
          "showarrow": false,
          "text": "-0.25",
          "x": "CPI",
          "xref": "x",
          "y": "Unemployment",
          "yref": "y"
         },
         {
          "font": {
           "color": "#000000"
          },
          "showarrow": false,
          "text": "1.0",
          "x": "Unemployment",
          "xref": "x",
          "y": "Unemployment",
          "yref": "y"
         }
        ],
        "template": {
         "data": {
          "bar": [
           {
            "error_x": {
             "color": "#2a3f5f"
            },
            "error_y": {
             "color": "#2a3f5f"
            },
            "marker": {
             "line": {
              "color": "#E5ECF6",
              "width": 0.5
             },
             "pattern": {
              "fillmode": "overlay",
              "size": 10,
              "solidity": 0.2
             }
            },
            "type": "bar"
           }
          ],
          "barpolar": [
           {
            "marker": {
             "line": {
              "color": "#E5ECF6",
              "width": 0.5
             },
             "pattern": {
              "fillmode": "overlay",
              "size": 10,
              "solidity": 0.2
             }
            },
            "type": "barpolar"
           }
          ],
          "carpet": [
           {
            "aaxis": {
             "endlinecolor": "#2a3f5f",
             "gridcolor": "white",
             "linecolor": "white",
             "minorgridcolor": "white",
             "startlinecolor": "#2a3f5f"
            },
            "baxis": {
             "endlinecolor": "#2a3f5f",
             "gridcolor": "white",
             "linecolor": "white",
             "minorgridcolor": "white",
             "startlinecolor": "#2a3f5f"
            },
            "type": "carpet"
           }
          ],
          "choropleth": [
           {
            "colorbar": {
             "outlinewidth": 0,
             "ticks": ""
            },
            "type": "choropleth"
           }
          ],
          "contour": [
           {
            "colorbar": {
             "outlinewidth": 0,
             "ticks": ""
            },
            "colorscale": [
             [
              0,
              "#0d0887"
             ],
             [
              0.1111111111111111,
              "#46039f"
             ],
             [
              0.2222222222222222,
              "#7201a8"
             ],
             [
              0.3333333333333333,
              "#9c179e"
             ],
             [
              0.4444444444444444,
              "#bd3786"
             ],
             [
              0.5555555555555556,
              "#d8576b"
             ],
             [
              0.6666666666666666,
              "#ed7953"
             ],
             [
              0.7777777777777778,
              "#fb9f3a"
             ],
             [
              0.8888888888888888,
              "#fdca26"
             ],
             [
              1,
              "#f0f921"
             ]
            ],
            "type": "contour"
           }
          ],
          "contourcarpet": [
           {
            "colorbar": {
             "outlinewidth": 0,
             "ticks": ""
            },
            "type": "contourcarpet"
           }
          ],
          "heatmap": [
           {
            "colorbar": {
             "outlinewidth": 0,
             "ticks": ""
            },
            "colorscale": [
             [
              0,
              "#0d0887"
             ],
             [
              0.1111111111111111,
              "#46039f"
             ],
             [
              0.2222222222222222,
              "#7201a8"
             ],
             [
              0.3333333333333333,
              "#9c179e"
             ],
             [
              0.4444444444444444,
              "#bd3786"
             ],
             [
              0.5555555555555556,
              "#d8576b"
             ],
             [
              0.6666666666666666,
              "#ed7953"
             ],
             [
              0.7777777777777778,
              "#fb9f3a"
             ],
             [
              0.8888888888888888,
              "#fdca26"
             ],
             [
              1,
              "#f0f921"
             ]
            ],
            "type": "heatmap"
           }
          ],
          "heatmapgl": [
           {
            "colorbar": {
             "outlinewidth": 0,
             "ticks": ""
            },
            "colorscale": [
             [
              0,
              "#0d0887"
             ],
             [
              0.1111111111111111,
              "#46039f"
             ],
             [
              0.2222222222222222,
              "#7201a8"
             ],
             [
              0.3333333333333333,
              "#9c179e"
             ],
             [
              0.4444444444444444,
              "#bd3786"
             ],
             [
              0.5555555555555556,
              "#d8576b"
             ],
             [
              0.6666666666666666,
              "#ed7953"
             ],
             [
              0.7777777777777778,
              "#fb9f3a"
             ],
             [
              0.8888888888888888,
              "#fdca26"
             ],
             [
              1,
              "#f0f921"
             ]
            ],
            "type": "heatmapgl"
           }
          ],
          "histogram": [
           {
            "marker": {
             "pattern": {
              "fillmode": "overlay",
              "size": 10,
              "solidity": 0.2
             }
            },
            "type": "histogram"
           }
          ],
          "histogram2d": [
           {
            "colorbar": {
             "outlinewidth": 0,
             "ticks": ""
            },
            "colorscale": [
             [
              0,
              "#0d0887"
             ],
             [
              0.1111111111111111,
              "#46039f"
             ],
             [
              0.2222222222222222,
              "#7201a8"
             ],
             [
              0.3333333333333333,
              "#9c179e"
             ],
             [
              0.4444444444444444,
              "#bd3786"
             ],
             [
              0.5555555555555556,
              "#d8576b"
             ],
             [
              0.6666666666666666,
              "#ed7953"
             ],
             [
              0.7777777777777778,
              "#fb9f3a"
             ],
             [
              0.8888888888888888,
              "#fdca26"
             ],
             [
              1,
              "#f0f921"
             ]
            ],
            "type": "histogram2d"
           }
          ],
          "histogram2dcontour": [
           {
            "colorbar": {
             "outlinewidth": 0,
             "ticks": ""
            },
            "colorscale": [
             [
              0,
              "#0d0887"
             ],
             [
              0.1111111111111111,
              "#46039f"
             ],
             [
              0.2222222222222222,
              "#7201a8"
             ],
             [
              0.3333333333333333,
              "#9c179e"
             ],
             [
              0.4444444444444444,
              "#bd3786"
             ],
             [
              0.5555555555555556,
              "#d8576b"
             ],
             [
              0.6666666666666666,
              "#ed7953"
             ],
             [
              0.7777777777777778,
              "#fb9f3a"
             ],
             [
              0.8888888888888888,
              "#fdca26"
             ],
             [
              1,
              "#f0f921"
             ]
            ],
            "type": "histogram2dcontour"
           }
          ],
          "mesh3d": [
           {
            "colorbar": {
             "outlinewidth": 0,
             "ticks": ""
            },
            "type": "mesh3d"
           }
          ],
          "parcoords": [
           {
            "line": {
             "colorbar": {
              "outlinewidth": 0,
              "ticks": ""
             }
            },
            "type": "parcoords"
           }
          ],
          "pie": [
           {
            "automargin": true,
            "type": "pie"
           }
          ],
          "scatter": [
           {
            "fillpattern": {
             "fillmode": "overlay",
             "size": 10,
             "solidity": 0.2
            },
            "type": "scatter"
           }
          ],
          "scatter3d": [
           {
            "line": {
             "colorbar": {
              "outlinewidth": 0,
              "ticks": ""
             }
            },
            "marker": {
             "colorbar": {
              "outlinewidth": 0,
              "ticks": ""
             }
            },
            "type": "scatter3d"
           }
          ],
          "scattercarpet": [
           {
            "marker": {
             "colorbar": {
              "outlinewidth": 0,
              "ticks": ""
             }
            },
            "type": "scattercarpet"
           }
          ],
          "scattergeo": [
           {
            "marker": {
             "colorbar": {
              "outlinewidth": 0,
              "ticks": ""
             }
            },
            "type": "scattergeo"
           }
          ],
          "scattergl": [
           {
            "marker": {
             "colorbar": {
              "outlinewidth": 0,
              "ticks": ""
             }
            },
            "type": "scattergl"
           }
          ],
          "scattermapbox": [
           {
            "marker": {
             "colorbar": {
              "outlinewidth": 0,
              "ticks": ""
             }
            },
            "type": "scattermapbox"
           }
          ],
          "scatterpolar": [
           {
            "marker": {
             "colorbar": {
              "outlinewidth": 0,
              "ticks": ""
             }
            },
            "type": "scatterpolar"
           }
          ],
          "scatterpolargl": [
           {
            "marker": {
             "colorbar": {
              "outlinewidth": 0,
              "ticks": ""
             }
            },
            "type": "scatterpolargl"
           }
          ],
          "scatterternary": [
           {
            "marker": {
             "colorbar": {
              "outlinewidth": 0,
              "ticks": ""
             }
            },
            "type": "scatterternary"
           }
          ],
          "surface": [
           {
            "colorbar": {
             "outlinewidth": 0,
             "ticks": ""
            },
            "colorscale": [
             [
              0,
              "#0d0887"
             ],
             [
              0.1111111111111111,
              "#46039f"
             ],
             [
              0.2222222222222222,
              "#7201a8"
             ],
             [
              0.3333333333333333,
              "#9c179e"
             ],
             [
              0.4444444444444444,
              "#bd3786"
             ],
             [
              0.5555555555555556,
              "#d8576b"
             ],
             [
              0.6666666666666666,
              "#ed7953"
             ],
             [
              0.7777777777777778,
              "#fb9f3a"
             ],
             [
              0.8888888888888888,
              "#fdca26"
             ],
             [
              1,
              "#f0f921"
             ]
            ],
            "type": "surface"
           }
          ],
          "table": [
           {
            "cells": {
             "fill": {
              "color": "#EBF0F8"
             },
             "line": {
              "color": "white"
             }
            },
            "header": {
             "fill": {
              "color": "#C8D4E3"
             },
             "line": {
              "color": "white"
             }
            },
            "type": "table"
           }
          ]
         },
         "layout": {
          "annotationdefaults": {
           "arrowcolor": "#2a3f5f",
           "arrowhead": 0,
           "arrowwidth": 1
          },
          "autotypenumbers": "strict",
          "coloraxis": {
           "colorbar": {
            "outlinewidth": 0,
            "ticks": ""
           }
          },
          "colorscale": {
           "diverging": [
            [
             0,
             "#8e0152"
            ],
            [
             0.1,
             "#c51b7d"
            ],
            [
             0.2,
             "#de77ae"
            ],
            [
             0.3,
             "#f1b6da"
            ],
            [
             0.4,
             "#fde0ef"
            ],
            [
             0.5,
             "#f7f7f7"
            ],
            [
             0.6,
             "#e6f5d0"
            ],
            [
             0.7,
             "#b8e186"
            ],
            [
             0.8,
             "#7fbc41"
            ],
            [
             0.9,
             "#4d9221"
            ],
            [
             1,
             "#276419"
            ]
           ],
           "sequential": [
            [
             0,
             "#0d0887"
            ],
            [
             0.1111111111111111,
             "#46039f"
            ],
            [
             0.2222222222222222,
             "#7201a8"
            ],
            [
             0.3333333333333333,
             "#9c179e"
            ],
            [
             0.4444444444444444,
             "#bd3786"
            ],
            [
             0.5555555555555556,
             "#d8576b"
            ],
            [
             0.6666666666666666,
             "#ed7953"
            ],
            [
             0.7777777777777778,
             "#fb9f3a"
            ],
            [
             0.8888888888888888,
             "#fdca26"
            ],
            [
             1,
             "#f0f921"
            ]
           ],
           "sequentialminus": [
            [
             0,
             "#0d0887"
            ],
            [
             0.1111111111111111,
             "#46039f"
            ],
            [
             0.2222222222222222,
             "#7201a8"
            ],
            [
             0.3333333333333333,
             "#9c179e"
            ],
            [
             0.4444444444444444,
             "#bd3786"
            ],
            [
             0.5555555555555556,
             "#d8576b"
            ],
            [
             0.6666666666666666,
             "#ed7953"
            ],
            [
             0.7777777777777778,
             "#fb9f3a"
            ],
            [
             0.8888888888888888,
             "#fdca26"
            ],
            [
             1,
             "#f0f921"
            ]
           ]
          },
          "colorway": [
           "#636efa",
           "#EF553B",
           "#00cc96",
           "#ab63fa",
           "#FFA15A",
           "#19d3f3",
           "#FF6692",
           "#B6E880",
           "#FF97FF",
           "#FECB52"
          ],
          "font": {
           "color": "#2a3f5f"
          },
          "geo": {
           "bgcolor": "white",
           "lakecolor": "white",
           "landcolor": "#E5ECF6",
           "showlakes": true,
           "showland": true,
           "subunitcolor": "white"
          },
          "hoverlabel": {
           "align": "left"
          },
          "hovermode": "closest",
          "mapbox": {
           "style": "light"
          },
          "paper_bgcolor": "white",
          "plot_bgcolor": "#E5ECF6",
          "polar": {
           "angularaxis": {
            "gridcolor": "white",
            "linecolor": "white",
            "ticks": ""
           },
           "bgcolor": "#E5ECF6",
           "radialaxis": {
            "gridcolor": "white",
            "linecolor": "white",
            "ticks": ""
           }
          },
          "scene": {
           "xaxis": {
            "backgroundcolor": "#E5ECF6",
            "gridcolor": "white",
            "gridwidth": 2,
            "linecolor": "white",
            "showbackground": true,
            "ticks": "",
            "zerolinecolor": "white"
           },
           "yaxis": {
            "backgroundcolor": "#E5ECF6",
            "gridcolor": "white",
            "gridwidth": 2,
            "linecolor": "white",
            "showbackground": true,
            "ticks": "",
            "zerolinecolor": "white"
           },
           "zaxis": {
            "backgroundcolor": "#E5ECF6",
            "gridcolor": "white",
            "gridwidth": 2,
            "linecolor": "white",
            "showbackground": true,
            "ticks": "",
            "zerolinecolor": "white"
           }
          },
          "shapedefaults": {
           "line": {
            "color": "#2a3f5f"
           }
          },
          "ternary": {
           "aaxis": {
            "gridcolor": "white",
            "linecolor": "white",
            "ticks": ""
           },
           "baxis": {
            "gridcolor": "white",
            "linecolor": "white",
            "ticks": ""
           },
           "bgcolor": "#E5ECF6",
           "caxis": {
            "gridcolor": "white",
            "linecolor": "white",
            "ticks": ""
           }
          },
          "title": {
           "x": 0.05
          },
          "xaxis": {
           "automargin": true,
           "gridcolor": "white",
           "linecolor": "white",
           "ticks": "",
           "title": {
            "standoff": 15
           },
           "zerolinecolor": "white",
           "zerolinewidth": 2
          },
          "yaxis": {
           "automargin": true,
           "gridcolor": "white",
           "linecolor": "white",
           "ticks": "",
           "title": {
            "standoff": 15
           },
           "zerolinecolor": "white",
           "zerolinewidth": 2
          }
         }
        },
        "xaxis": {
         "dtick": 1,
         "gridcolor": "rgb(0, 0, 0)",
         "side": "top",
         "ticks": ""
        },
        "yaxis": {
         "dtick": 1,
         "ticks": "",
         "ticksuffix": "  "
        }
       }
      }
     },
     "metadata": {},
     "output_type": "display_data"
    }
   ],
   "source": [
    "fig = ff.create_annotated_heatmap(corr_matrix.values, x=corr_matrix.columns.tolist(), y = corr_matrix.index.tolist())\n",
    "fig.show()"
   ]
  },
  {
   "attachments": {},
   "cell_type": "markdown",
   "metadata": {},
   "source": [
    "the correlation matrix shows two main observations, the first is that a considerable correlation exist between the weekly sales and the CPI, un-employment, Temperature, and the store branch of wallmart. actually thinking about it for a second, in the end of day what concerns us is the whole weekly sale regardless of the store branch, consequently it would be fine to take it off, unless we need to analyse the contribution and effect of each store."
   ]
  },
  {
   "attachments": {},
   "cell_type": "markdown",
   "metadata": {},
   "source": []
  },
  {
   "attachments": {},
   "cell_type": "markdown",
   "metadata": {},
   "source": [
    "##### the second observation is that there is no ctrong correlation between the features themselves , i.e. there is not stong inter-correlation between the columns that might affect the regressionlinear prediction"
   ]
  },
  {
   "cell_type": "code",
   "execution_count": null,
   "metadata": {},
   "outputs": [],
   "source": []
  }
 ],
 "metadata": {
  "kernelspec": {
   "display_name": "base",
   "language": "python",
   "name": "python3"
  },
  "language_info": {
   "codemirror_mode": {
    "name": "ipython",
    "version": 3
   },
   "file_extension": ".py",
   "mimetype": "text/x-python",
   "name": "python",
   "nbconvert_exporter": "python",
   "pygments_lexer": "ipython3",
   "version": "3.10.7"
  },
  "orig_nbformat": 4,
  "vscode": {
   "interpreter": {
    "hash": "c9a9d21d1e2fbc5f241b11eeec21110a48ecbe0f03ffe029eb439c7e3fe038b7"
   }
  }
 },
 "nbformat": 4,
 "nbformat_minor": 2
}
